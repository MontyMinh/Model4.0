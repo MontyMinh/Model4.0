{
 "cells": [
  {
   "cell_type": "code",
   "execution_count": 1,
   "id": "4e2c445d",
   "metadata": {
    "run_control": {
     "marked": false
    }
   },
   "outputs": [],
   "source": [
    "from scipy.optimize import linprog\n",
    "import numpy as np\n",
    "\n",
    "import sys\n",
    "\n",
    "sys.path.append('C:\\\\Users\\\\monty.minh\\\\Documents\\\\Optimizer\\\\')\n",
    "\n",
    "from model.data import Data\n",
    "from model.randinp import RandomInputs\n",
    "from model.optimization import *\n",
    "\n",
    "from sympy import Matrix"
   ]
  },
  {
   "cell_type": "code",
   "execution_count": 2,
   "id": "e8829aa0",
   "metadata": {
    "run_control": {
     "marked": false
    }
   },
   "outputs": [],
   "source": [
    "model1 = RandomInputs(3,\n",
    "                      4,\n",
    "                      4, (1, 3), (1, 4),\n",
    "                      capacity_constraints_range=(1, 3),\n",
    "                      supply_constraints_range = (1, 3))\n",
    "model1.generate()"
   ]
  },
  {
   "cell_type": "markdown",
   "id": "931c9fbc",
   "metadata": {},
   "source": [
    "A set of constraints is linearly dependent if is a subset of another set of constraints"
   ]
  },
  {
   "cell_type": "code",
   "execution_count": 7,
   "id": "f099e237",
   "metadata": {},
   "outputs": [],
   "source": [
    "from scipy.linalg import lu"
   ]
  },
  {
   "cell_type": "code",
   "execution_count": 12,
   "id": "67a1a54a",
   "metadata": {},
   "outputs": [
    {
     "data": {
      "text/plain": [
       "(17, 21)"
      ]
     },
     "execution_count": 12,
     "metadata": {},
     "output_type": "execute_result"
    }
   ],
   "source": [
    "Data.constraints_matrix.shape"
   ]
  },
  {
   "cell_type": "code",
   "execution_count": 16,
   "id": "d5818db6",
   "metadata": {},
   "outputs": [],
   "source": [
    "linprog?"
   ]
  },
  {
   "cell_type": "code",
   "execution_count": 63,
   "id": "5f025858",
   "metadata": {},
   "outputs": [
    {
     "data": {
      "text/plain": [
       "[[0], [1], [0, 1, 2]]"
      ]
     },
     "execution_count": 63,
     "metadata": {},
     "output_type": "execute_result"
    }
   ],
   "source": [
    "Data.capacity_constraints"
   ]
  },
  {
   "cell_type": "code",
   "execution_count": 74,
   "id": "e801fd57",
   "metadata": {},
   "outputs": [
    {
     "name": "stdout",
     "output_type": "stream",
     "text": [
      "(17, 22)\n",
      "(17, 17)\n",
      "(17, 17)\n"
     ]
    }
   ],
   "source": [
    "Data.supply_constraints = [[0, 1, 2]]\n",
    "optimize()\n",
    "\n",
    "print(np.hstack([Data.constraints_matrix, Data.constraints_vector]).shape)\n",
    "\n",
    "print(lu(np.hstack([Data.constraints_matrix, Data.constraints_vector]))[0].shape)\n",
    "\n",
    "print(lu(np.hstack([Data.constraints_matrix, Data.constraints_vector]))[1].shape)"
   ]
  },
  {
   "cell_type": "code",
   "execution_count": 75,
   "id": "8ceb6e27",
   "metadata": {},
   "outputs": [
    {
     "name": "stdout",
     "output_type": "stream",
     "text": [
      "(18, 22)\n",
      "(18, 18)\n",
      "(18, 18)\n"
     ]
    }
   ],
   "source": [
    "Data.supply_constraints = [[0, 1, 2], [0]]\n",
    "optimize()\n",
    "\n",
    "print(np.hstack([Data.constraints_matrix, Data.constraints_vector]).shape)\n",
    "\n",
    "print(lu(np.hstack([Data.constraints_matrix, Data.constraints_vector]))[0].shape)\n",
    "\n",
    "print(lu(np.hstack([Data.constraints_matrix, Data.constraints_vector]))[1].shape)"
   ]
  },
  {
   "cell_type": "code",
   "execution_count": 79,
   "id": "a616262f",
   "metadata": {
    "run_control": {
     "marked": true
    }
   },
   "outputs": [
    {
     "name": "stdout",
     "output_type": "stream",
     "text": [
      "(17, 22)\n",
      "(18, 22)\n",
      "Complete\n"
     ]
    }
   ],
   "source": [
    "for i in range(1):\n",
    "    \n",
    "    Data.supply_constraints = [[0, 1, 2]]\n",
    "    optimize()\n",
    "    print(np.hstack([Data.constraints_matrix, Data.constraints_vector]).shape)\n",
    "    prog1 = Data.linear_program\n",
    "\n",
    "    Data.supply_constraints = [[0, 1, 2], [0]]\n",
    "    optimize()\n",
    "    print(np.hstack([Data.constraints_matrix, Data.constraints_vector]).shape)\n",
    "    prog2 = Data.linear_program\n",
    "\n",
    "    assert np.allclose(prog1.x, prog2.x), f'Not close ({i}th Iteration)'\n",
    "    \n",
    "print('Complete')"
   ]
  },
  {
   "cell_type": "code",
   "execution_count": 48,
   "id": "41325522",
   "metadata": {},
   "outputs": [
    {
     "data": {
      "text/plain": [
       "     con: array([], dtype=float64)\n",
       "     fun: 2.342856920326825e-09\n",
       " message: 'Optimization terminated successfully.'\n",
       "     nit: 3\n",
       "   slack: array([-5.57738505e-10])\n",
       "  status: 0\n",
       " success: True\n",
       "       x: array([5.69876588e-10, 1.77298033e-09])"
      ]
     },
     "execution_count": 48,
     "metadata": {},
     "output_type": "execute_result"
    }
   ],
   "source": [
    "linprog(c, A_ub, b_ub)"
   ]
  },
  {
   "cell_type": "code",
   "execution_count": 54,
   "id": "18e40bc7",
   "metadata": {},
   "outputs": [
    {
     "data": {
      "text/plain": [
       "1.0456335800682786"
      ]
     },
     "execution_count": 54,
     "metadata": {},
     "output_type": "execute_result"
    }
   ],
   "source": [
    "-A_ub[0, 0] / A_ub[0, 1]"
   ]
  },
  {
   "cell_type": "code",
   "execution_count": null,
   "id": "3279cc13",
   "metadata": {},
   "outputs": [],
   "source": []
  }
 ],
 "metadata": {
  "kernelspec": {
   "display_name": "Python 3 (ipykernel)",
   "language": "python",
   "name": "python3"
  },
  "language_info": {
   "codemirror_mode": {
    "name": "ipython",
    "version": 3
   },
   "file_extension": ".py",
   "mimetype": "text/x-python",
   "name": "python",
   "nbconvert_exporter": "python",
   "pygments_lexer": "ipython3",
   "version": "3.9.7"
  },
  "latex_envs": {
   "LaTeX_envs_menu_present": true,
   "autoclose": true,
   "autocomplete": true,
   "bibliofile": "biblio.bib",
   "cite_by": "apalike",
   "current_citInitial": 1,
   "eqLabelWithNumbers": true,
   "eqNumInitial": 1,
   "hotkeys": {
    "equation": "Ctrl-E",
    "itemize": "Ctrl-I"
   },
   "labels_anchors": false,
   "latex_user_defs": false,
   "report_style_numbering": false,
   "user_envs_cfg": false
  }
 },
 "nbformat": 4,
 "nbformat_minor": 5
}
