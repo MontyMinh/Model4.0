{
 "cells": [
  {
   "cell_type": "code",
   "execution_count": 1,
   "id": "4e2c445d",
   "metadata": {
    "run_control": {
     "marked": false
    }
   },
   "outputs": [],
   "source": [
    "from scipy.optimize import linprog\n",
    "import numpy as np\n",
    "\n",
    "import sys\n",
    "\n",
    "sys.path.append('C:\\\\Users\\\\monty.minh\\\\Documents\\\\Optimizer\\\\')\n",
    "\n",
    "from model.data import Data\n",
    "from model.randinp import RandomInputs\n",
    "from model.optimization import *\n",
    "\n",
    "from sympy import Matrix"
   ]
  },
  {
   "cell_type": "code",
   "execution_count": 7,
   "id": "98bd4e62",
   "metadata": {
    "run_control": {
     "marked": false
    }
   },
   "outputs": [],
   "source": [
    "model1 = RandomInputs(3,\n",
    "                      4,\n",
    "                      4, (1, 3), (1, 4),\n",
    "                      capacity_constraints_range=(1, 3),\n",
    "                      supply_constraints_range = (1, 3))\n",
    "model1.generate()"
   ]
  },
  {
   "cell_type": "code",
   "execution_count": 10,
   "id": "a2171c54",
   "metadata": {
    "run_control": {
     "marked": false
    }
   },
   "outputs": [
    {
     "ename": "AssertionError",
     "evalue": "Not close (0th Iteration)",
     "output_type": "error",
     "traceback": [
      "\u001b[1;31m---------------------------------------------------------------------------\u001b[0m",
      "\u001b[1;31mAssertionError\u001b[0m                            Traceback (most recent call last)",
      "\u001b[1;32mC:\\Users\\MONTY~1.MIN\\AppData\\Local\\Temp/ipykernel_16668/199276705.py\u001b[0m in \u001b[0;36m<module>\u001b[1;34m\u001b[0m\n\u001b[0;32m      9\u001b[0m     \u001b[0mprog2\u001b[0m \u001b[1;33m=\u001b[0m \u001b[0mData\u001b[0m\u001b[1;33m.\u001b[0m\u001b[0mlinear_program\u001b[0m\u001b[1;33m\u001b[0m\u001b[1;33m\u001b[0m\u001b[0m\n\u001b[0;32m     10\u001b[0m \u001b[1;33m\u001b[0m\u001b[0m\n\u001b[1;32m---> 11\u001b[1;33m     \u001b[1;32massert\u001b[0m \u001b[0mnp\u001b[0m\u001b[1;33m.\u001b[0m\u001b[0mallclose\u001b[0m\u001b[1;33m(\u001b[0m\u001b[0mprog1\u001b[0m\u001b[1;33m.\u001b[0m\u001b[0mx\u001b[0m\u001b[1;33m,\u001b[0m \u001b[0mprog2\u001b[0m\u001b[1;33m.\u001b[0m\u001b[0mx\u001b[0m\u001b[1;33m)\u001b[0m\u001b[1;33m,\u001b[0m \u001b[1;34mf'Not close ({i}th Iteration)'\u001b[0m\u001b[1;33m\u001b[0m\u001b[1;33m\u001b[0m\u001b[0m\n\u001b[0m",
      "\u001b[1;31mAssertionError\u001b[0m: Not close (0th Iteration)"
     ]
    }
   ],
   "source": [
    "for i in range(1000):\n",
    "    \n",
    "    Data.supply_constraints = [[0, 1], [0, 2]]\n",
    "    optimize()\n",
    "    prog1 = Data.linear_program\n",
    "\n",
    "    Data.supply_constraints = [[0, 1, 2]]\n",
    "    optimize()\n",
    "    prog2 = Data.linear_program\n",
    "\n",
    "    assert np.allclose(prog1.x, prog2.x), f'Not close ({i}th Iteration)'"
   ]
  },
  {
   "cell_type": "code",
   "execution_count": null,
   "id": "4ca6732e",
   "metadata": {},
   "outputs": [],
   "source": []
  }
 ],
 "metadata": {
  "kernelspec": {
   "display_name": "Python 3 (ipykernel)",
   "language": "python",
   "name": "python3"
  },
  "language_info": {
   "codemirror_mode": {
    "name": "ipython",
    "version": 3
   },
   "file_extension": ".py",
   "mimetype": "text/x-python",
   "name": "python",
   "nbconvert_exporter": "python",
   "pygments_lexer": "ipython3",
   "version": "3.9.7"
  },
  "latex_envs": {
   "LaTeX_envs_menu_present": true,
   "autoclose": true,
   "autocomplete": true,
   "bibliofile": "biblio.bib",
   "cite_by": "apalike",
   "current_citInitial": 1,
   "eqLabelWithNumbers": true,
   "eqNumInitial": 1,
   "hotkeys": {
    "equation": "Ctrl-E",
    "itemize": "Ctrl-I"
   },
   "labels_anchors": false,
   "latex_user_defs": false,
   "report_style_numbering": false,
   "user_envs_cfg": false
  }
 },
 "nbformat": 4,
 "nbformat_minor": 5
}
