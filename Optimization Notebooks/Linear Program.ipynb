{
 "cells": [
  {
   "cell_type": "code",
   "execution_count": 1,
   "id": "4e2c445d",
   "metadata": {
    "run_control": {
     "marked": false
    }
   },
   "outputs": [],
   "source": [
    "from scipy.optimize import linprog\n",
    "import numpy as np\n",
    "\n",
    "import sys\n",
    "\n",
    "sys.path.append('C:\\\\Users\\\\monty.minh\\\\Documents\\\\Optimizer\\\\')\n",
    "\n",
    "from model.data import Data\n",
    "from model.randinp import RandomInputs\n",
    "from model.optimization import *\n",
    "\n",
    "from sympy import Matrix"
   ]
  },
  {
   "cell_type": "code",
   "execution_count": 2,
   "id": "e8829aa0",
   "metadata": {
    "run_control": {
     "marked": false
    }
   },
   "outputs": [],
   "source": [
    "model1 = RandomInputs(3,\n",
    "                      4,\n",
    "                      4, (1, 3), (1, 4),\n",
    "                      capacity_constraints_range=(1, 3),\n",
    "                      supply_constraints_range = (1, 3))\n",
    "model1.generate()"
   ]
  },
  {
   "cell_type": "code",
   "execution_count": 3,
   "id": "e3fe3f71",
   "metadata": {},
   "outputs": [],
   "source": [
    "optimize()"
   ]
  },
  {
   "cell_type": "code",
   "execution_count": 26,
   "id": "e388a3b2",
   "metadata": {},
   "outputs": [],
   "source": [
    "x, _, _, _, _, _, _, _Data.linear_program"
   ]
  },
  {
   "cell_type": "code",
   "execution_count": 7,
   "id": "f099e237",
   "metadata": {},
   "outputs": [],
   "source": [
    "from scipy.linalg import lu"
   ]
  }
 ],
 "metadata": {
  "kernelspec": {
   "display_name": "Python 3 (ipykernel)",
   "language": "python",
   "name": "python3"
  },
  "language_info": {
   "codemirror_mode": {
    "name": "ipython",
    "version": 3
   },
   "file_extension": ".py",
   "mimetype": "text/x-python",
   "name": "python",
   "nbconvert_exporter": "python",
   "pygments_lexer": "ipython3",
   "version": "3.9.7"
  },
  "latex_envs": {
   "LaTeX_envs_menu_present": true,
   "autoclose": true,
   "autocomplete": true,
   "bibliofile": "biblio.bib",
   "cite_by": "apalike",
   "current_citInitial": 1,
   "eqLabelWithNumbers": true,
   "eqNumInitial": 1,
   "hotkeys": {
    "equation": "Ctrl-E",
    "itemize": "Ctrl-I"
   },
   "labels_anchors": false,
   "latex_user_defs": false,
   "report_style_numbering": false,
   "user_envs_cfg": false
  }
 },
 "nbformat": 4,
 "nbformat_minor": 5
}
