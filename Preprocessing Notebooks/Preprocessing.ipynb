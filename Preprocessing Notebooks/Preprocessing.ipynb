{
 "cells": [
  {
   "cell_type": "code",
   "execution_count": 7,
   "id": "85684a45",
   "metadata": {},
   "outputs": [],
   "source": [
    "import sys\n",
    "sys.path.append('C:\\\\Users\\\\monty.minh\\\\Documents\\\\Optimizer\\\\')"
   ]
  },
  {
   "cell_type": "code",
   "execution_count": 8,
   "id": "b6867494",
   "metadata": {},
   "outputs": [
    {
     "name": "stdout",
     "output_type": "stream",
     "text": [
      "Define a file path to the Excel input file\n"
     ]
    }
   ],
   "source": [
    "from model import *\n",
    "from model.data import Data"
   ]
  },
  {
   "cell_type": "code",
   "execution_count": 9,
   "id": "09e701e8",
   "metadata": {},
   "outputs": [],
   "source": [
    "filepath = 'Template.xlsx'"
   ]
  },
  {
   "cell_type": "code",
   "execution_count": 11,
   "id": "0066ee01",
   "metadata": {
    "code_folding": [],
    "run_control": {
     "marked": false
    }
   },
   "outputs": [],
   "source": [
    "from model import *\n",
    "from model.data import *\n",
    "\n",
    "\n",
    "def raw_inputs():\n",
    "    \"\"\"\n",
    "    Method to pull data from input Excel files.\n",
    "\n",
    "    Below only includes a shortlist of attributes used \n",
    "    and the sheet where the data comes from. For detailed\n",
    "    documentation, see Attributes.txt\n",
    "\n",
    "    Outputs to data.py\n",
    "    ------------------\n",
    "    Data.product_list: list\n",
    "        - Pull from \"Product List\"\n",
    "\n",
    "    Data.factory_list: list\n",
    "        - Pull from \"Factory List\"\n",
    "\n",
    "    Data.factory_names: dict\n",
    "        - Pull from \"Factory Per Product\"\n",
    "\n",
    "    Data.inbound_cost_per_product: dict\n",
    "        - Pull from \"Inbound Cost Per Product\"\n",
    "\n",
    "    Data.outbound_cost_per_product: dict\n",
    "        - Pull from \"Outbound Cost Per Product\"\n",
    "\n",
    "    Data.efficiency_per_product: dict\n",
    "        - Pull from \"Efficiency Per Product\"\n",
    "\n",
    "    Data.capacity_constraints: list\n",
    "        - Pull from \"Capacity Constraints\"\n",
    "\n",
    "    Data.supply_constraints: list\n",
    "        - Pull from \"Supply Constraints\"\n",
    "\n",
    "    Data.capacity_volume: numpy.ndarray\n",
    "        - Pull from \"Capacity Volume\"\n",
    "\n",
    "    Data.demand_volume: numpy.ndarray\n",
    "        - Pull from \"Demand Volume\"\n",
    "\n",
    "\n",
    "    \"\"\"\n",
    "\n",
    "    # Data.product_list\n",
    "    Data.product_list = pd.read_excel(\n",
    "        Data.filepath, sheet_name='Product List')['PRODUCT'].values.tolist()\n",
    "\n",
    "    # Data.factory_list\n",
    "    Data.factory_list = pd.read_excel(\n",
    "        Data.filepath, sheet_name='Factory List')['FACTORY'].values.tolist()\n",
    "\n",
    "    # Data.factory_name/s (df temporary stores the work sheet)\n",
    "    df = pd.read_excel(Data.filepath,\n",
    "                       sheet_name='Factory Per Product',\n",
    "                       index_col='PRODUCT')\n",
    "\n",
    "    Data.factory_names = {\n",
    "        prod: df.columns[df.loc[prod]].tolist()\n",
    "        for prod in Data.product_list\n",
    "    }\n",
    "\n",
    "    del df\n",
    "\n",
    "    # Data.inbound_cost_per_product\n",
    "    df = pd.read_excel(Data.filepath,\n",
    "                       sheet_name='Inbound Cost Per Product',\n",
    "                       index_col='PRODUCT')\n",
    "\n",
    "    Data.inbound_cost_per_product = {\n",
    "        prod: df.loc[prod][Data.factory_names[prod]].tolist()\n",
    "        for prod in Data.product_list\n",
    "    }\n",
    "\n",
    "    del df\n",
    "\n",
    "    # Data.outbound_cost_per_product\n",
    "    df = pd.read_excel(Data.filepath,\n",
    "                       sheet_name='Outbound Cost Per Product',\n",
    "                       index_col='PRODUCT')\n",
    "\n",
    "    Data.outbound_cost_per_product = {\n",
    "        prod: np.array(df.loc[prod][Data.factory_names[prod]]).flatten('F')\n",
    "        for prod in Data.product_list\n",
    "    }\n",
    "\n",
    "    del df\n",
    "\n",
    "    # Data.efficiency_per_product\n",
    "    df = pd.read_excel(Data.filepath,\n",
    "                       sheet_name='Efficiency Per Product',\n",
    "                       index_col='PRODUCT')\n",
    "\n",
    "    Data.efficiency_per_product = {\n",
    "        prod: df.loc[prod][Data.factory_names[prod]].tolist()\n",
    "        for prod in Data.product_list\n",
    "    }\n",
    "\n",
    "    del df\n",
    "\n",
    "    # Data.capacity_constraints # Constraints has to start index from 1\n",
    "    df = pd.read_excel(Data.filepath,\n",
    "                       sheet_name='Capacity Constraints',\n",
    "                       index_col='CONSTRAINTS')\n",
    "\n",
    "    Data.capacity_constraints = [\n",
    "        df.columns[df.iloc[cons]].tolist() for cons in range(df.shape[0])\n",
    "    ]\n",
    "\n",
    "    del df\n",
    "\n",
    "    # Data.supply_constraints # Constraints has to start index from 1\n",
    "    df = pd.read_excel(Data.filepath,\n",
    "                       sheet_name='Supply Constraints',\n",
    "                       index_col='CONSTRAINTS')\n",
    "\n",
    "    Data.supply_constraints = [\n",
    "        df.columns[df.iloc[cons]].tolist() for cons in range(df.shape[0])\n",
    "    ]\n",
    "\n",
    "    del df\n",
    "\n",
    "    # Data.capacity_volume\n",
    "    Data.capacity_volume = pd.read_excel(\n",
    "        Data.filepath, sheet_name='Capacity Volume',\n",
    "        index_col='CONSTRAINTS').to_numpy().flatten()\n",
    "\n",
    "    Data.capacity_volume = Data.capacity_volume[~np.isnan(Data.capacity_volume\n",
    "                                                          )][:, np.newaxis]\n",
    "\n",
    "    # Data.demand_volume\n",
    "    Data.demand_volume = pd.read_excel(\n",
    "        Data.filepath, sheet_name='Demand Volume').VOLUME.to_numpy()[:, np.newaxis]\n",
    "\n",
    "\n",
    "def processed_inputs():\n",
    "    \"\"\"\n",
    "    Data processed from Raw Inputs\n",
    "\n",
    "    Outputs to data.py\n",
    "    ------------------\n",
    "    Data.factory_sizes: dict\n",
    "        - Process from Data.factory_names\n",
    "\n",
    "    Data.customer_sizes: dict\n",
    "        - Process from ...\n",
    "\n",
    "    Data.dimF: int\n",
    "        - Process from Data.factory_sizes\n",
    "\n",
    "    Data.dimC: int\n",
    "        - Process from Data.customer_sizes\n",
    "\n",
    "    Data.dimFC: int\n",
    "        - Process from Data.factory_sizes x Data.customer_sizes\n",
    "\n",
    "    \"\"\"\n",
    "\n",
    "    # Data.factory_sizes\n",
    "    Data.factory_sizes = {\n",
    "        prod: len(Data.factory_names[prod])\n",
    "        for prod in Data.product_list\n",
    "    }\n",
    "\n",
    "    # Data.customer_sizes (Pending changes)\n",
    "    # Might want to do Data.customer_list and Data.customer_names\n",
    "    # as well, for the postprocessing\n",
    "\n",
    "    Data.customer_sizes = {\n",
    "        prod:\n",
    "            len(Data.outbound_cost_per_product[prod]) // Data.factory_sizes[\n",
    "                prod]\n",
    "        for prod in Data.product_list\n",
    "    }\n",
    "\n",
    "    # Data.dimF\n",
    "    Data.dimF = sum(Data.factory_sizes.values())\n",
    "\n",
    "    # Data.dimC\n",
    "    Data.dimC = sum(Data.customer_sizes.values())\n",
    "\n",
    "    # Data.dimFC\n",
    "    Data.dimFC = sum(\n",
    "        np.array(list(Data.factory_sizes.values())) *\n",
    "        np.array(list(Data.customer_sizes.values())))\n",
    "\n",
    "\n",
    "def preprocess():\n",
    "\n",
    "    \"\"\"\n",
    "    Method to call on the raw and processed inputs, then checks if the inputs\n",
    "    are logical through a series of assert statement. After doing this,\n",
    "    if we get an error in an assert statement, we know the values is wrong,\n",
    "    else we know that the input is not the correct format.\n",
    "\n",
    "    \"\"\"\n",
    "\n",
    "    # Retrieve the inputs\n",
    "    raw_inputs()\n",
    "    processed_inputs()\n",
    "\n",
    "    # Assert logicality of inputs"
   ]
  },
  {
   "cell_type": "code",
   "execution_count": 15,
   "id": "4615eb92",
   "metadata": {},
   "outputs": [],
   "source": [
    "from model.randinp import *"
   ]
  },
  {
   "cell_type": "code",
   "execution_count": 17,
   "id": "760dea46",
   "metadata": {},
   "outputs": [],
   "source": [
    "A = RandomInputs()\n",
    "\n",
    "A.generate()"
   ]
  },
  {
   "cell_type": "code",
   "execution_count": 34,
   "id": "ccd7a718",
   "metadata": {},
   "outputs": [
    {
     "data": {
      "text/plain": [
       "array([[ 0.,  1.],\n",
       "       [ 1., -1.]])"
      ]
     },
     "execution_count": 34,
     "metadata": {},
     "output_type": "execute_result"
    }
   ],
   "source": [
    "np.linalg.inv(np.array([[1, 1], [1, 0]]))"
   ]
  },
  {
   "cell_type": "code",
   "execution_count": 26,
   "id": "b1075cb6",
   "metadata": {},
   "outputs": [],
   "source": [
    "a = np.array([[1, 1, 1], [1, 0, 0]])"
   ]
  },
  {
   "cell_type": "code",
   "execution_count": 29,
   "id": "f0ccbd46",
   "metadata": {},
   "outputs": [],
   "source": [
    "from sympy import Matrix"
   ]
  },
  {
   "cell_type": "code",
   "execution_count": 30,
   "id": "088aadfc",
   "metadata": {},
   "outputs": [
    {
     "data": {
      "text/latex": [
       "$\\displaystyle \\left[\\begin{matrix}-5.55111512312578 \\cdot 10^{-17} & 1.0\\\\0.5 & -0.5\\\\0.5 & -0.5\\end{matrix}\\right]$"
      ],
      "text/plain": [
       "Matrix([\n",
       "[-5.55111512312578e-17,  1.0],\n",
       "[                  0.5, -0.5],\n",
       "[                  0.5, -0.5]])"
      ]
     },
     "execution_count": 30,
     "metadata": {},
     "output_type": "execute_result"
    }
   ],
   "source": [
    "Matrix(np.linalg.pinv(a))"
   ]
  },
  {
   "cell_type": "code",
   "execution_count": 31,
   "id": "0776ec68",
   "metadata": {},
   "outputs": [
    {
     "ename": "AttributeError",
     "evalue": "module 'numpy.linalg' has no attribute 'rref'",
     "output_type": "error",
     "traceback": [
      "\u001b[1;31m---------------------------------------------------------------------------\u001b[0m",
      "\u001b[1;31mAttributeError\u001b[0m                            Traceback (most recent call last)",
      "\u001b[1;32mC:\\Users\\MONTY~1.MIN\\AppData\\Local\\Temp/ipykernel_20500/2246361847.py\u001b[0m in \u001b[0;36m<module>\u001b[1;34m\u001b[0m\n\u001b[1;32m----> 1\u001b[1;33m \u001b[0mnp\u001b[0m\u001b[1;33m.\u001b[0m\u001b[0mlinalg\u001b[0m\u001b[1;33m.\u001b[0m\u001b[0mrref\u001b[0m\u001b[1;33m\u001b[0m\u001b[1;33m\u001b[0m\u001b[0m\n\u001b[0m",
      "\u001b[1;31mAttributeError\u001b[0m: module 'numpy.linalg' has no attribute 'rref'"
     ]
    }
   ],
   "source": [
    "np.linalg.rref"
   ]
  },
  {
   "cell_type": "code",
   "execution_count": 32,
   "id": "3f4c553b",
   "metadata": {},
   "outputs": [],
   "source": [
    "from scipy.linalg import lu"
   ]
  },
  {
   "cell_type": "code",
   "execution_count": 33,
   "id": "1b8a8dee",
   "metadata": {},
   "outputs": [
    {
     "data": {
      "text/plain": [
       "(array([[1., 0.],\n",
       "        [0., 1.]]),\n",
       " array([[1., 0.],\n",
       "        [1., 1.]]),\n",
       " array([[ 1.,  1.,  1.],\n",
       "        [ 0., -1., -1.]]))"
      ]
     },
     "execution_count": 33,
     "metadata": {},
     "output_type": "execute_result"
    }
   ],
   "source": [
    "lu(a)"
   ]
  },
  {
   "cell_type": "code",
   "execution_count": null,
   "id": "155e5314",
   "metadata": {},
   "outputs": [],
   "source": []
  }
 ],
 "metadata": {
  "kernelspec": {
   "display_name": "Python 3 (ipykernel)",
   "language": "python",
   "name": "python3"
  },
  "language_info": {
   "codemirror_mode": {
    "name": "ipython",
    "version": 3
   },
   "file_extension": ".py",
   "mimetype": "text/x-python",
   "name": "python",
   "nbconvert_exporter": "python",
   "pygments_lexer": "ipython3",
   "version": "3.9.7"
  },
  "latex_envs": {
   "LaTeX_envs_menu_present": true,
   "autoclose": true,
   "autocomplete": true,
   "bibliofile": "biblio.bib",
   "cite_by": "apalike",
   "current_citInitial": 1,
   "eqLabelWithNumbers": true,
   "eqNumInitial": 1,
   "hotkeys": {
    "equation": "Ctrl-E",
    "itemize": "Ctrl-I"
   },
   "labels_anchors": false,
   "latex_user_defs": false,
   "report_style_numbering": false,
   "user_envs_cfg": false
  }
 },
 "nbformat": 4,
 "nbformat_minor": 5
}
