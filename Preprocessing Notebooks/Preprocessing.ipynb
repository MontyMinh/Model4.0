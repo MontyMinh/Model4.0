{
 "cells": [
  {
   "cell_type": "code",
   "execution_count": 271,
   "id": "e67e5763",
   "metadata": {},
   "outputs": [],
   "source": [
    "import sys\n",
    "sys.path.append('C:\\\\Users\\\\monty.minh\\\\Documents\\\\Optimizer\\\\')"
   ]
  },
  {
   "cell_type": "code",
   "execution_count": 272,
   "id": "91bac37e",
   "metadata": {},
   "outputs": [],
   "source": [
    "from model import *\n",
    "from model.data import Data"
   ]
  },
  {
   "cell_type": "code",
   "execution_count": 273,
   "id": "2f5b6f8d",
   "metadata": {},
   "outputs": [],
   "source": [
    "filepath = 'Template.xlsx'"
   ]
  },
  {
   "cell_type": "code",
   "execution_count": 274,
   "id": "f31005d6",
   "metadata": {},
   "outputs": [],
   "source": [
    "# Data.product_list\n",
    "Data.product_list = pd.read_excel(\n",
    "    filepath, sheet_name='Product List')['PRODUCT'].values.tolist()"
   ]
  },
  {
   "cell_type": "code",
   "execution_count": 275,
   "id": "9b6eeb40",
   "metadata": {},
   "outputs": [],
   "source": [
    "# Data.factory_list\n",
    "Data.factory_list = pd.read_excel(\n",
    "    filepath, sheet_name='Factory List')['FACTORY'].values.tolist()"
   ]
  },
  {
   "cell_type": "code",
   "execution_count": 276,
   "id": "25fb5864",
   "metadata": {},
   "outputs": [],
   "source": [
    "# Data.factory_name/s (df temporary stores the work sheet)\n",
    "df = pd.read_excel(filepath,\n",
    "                   sheet_name='Factory Per Product',\n",
    "                   index_col='PRODUCT')\n",
    "\n",
    "Data.factory_names = {prod: df.columns[df.loc[prod]].tolist() for prod in Data.product_list}\n",
    "\n",
    "del df"
   ]
  },
  {
   "cell_type": "code",
   "execution_count": 277,
   "id": "c4c18e50",
   "metadata": {},
   "outputs": [],
   "source": [
    "# Data.inbound_cost_per_product\n",
    "df = pd.read_excel(filepath,\n",
    "                   sheet_name='Inbound Cost Per Product',\n",
    "                   index_col='PRODUCT')\n",
    "\n",
    "Data.inbound_cost_per_product = {\n",
    "    prod: df.loc[prod][Data.factory_names[prod]].tolist()\n",
    "    for prod in Data.product_list\n",
    "}\n",
    "\n",
    "del df"
   ]
  },
  {
   "cell_type": "code",
   "execution_count": 278,
   "id": "21af109a",
   "metadata": {
    "scrolled": true
   },
   "outputs": [],
   "source": [
    "# Data.outbound_cost_per_product\n",
    "df = pd.read_excel(filepath, sheet_name = 'Outbound Cost Per Product', index_col = 'PRODUCT')\n",
    "\n",
    "Data.outbound_cost_per_product = {\n",
    "    prod: np.array(df.loc[prod][Data.factory_names[prod]]).flatten('F')\n",
    "    for prod in Data.product_list\n",
    "}\n",
    "\n",
    "del df"
   ]
  },
  {
   "cell_type": "code",
   "execution_count": 279,
   "id": "92034862",
   "metadata": {},
   "outputs": [],
   "source": [
    "# Data.efficiency_per_product\n",
    "df = pd.read_excel(filepath, sheet_name = 'Efficiency Per Product', index_col = 'PRODUCT')\n",
    "\n",
    "Data.efficiency_per_product = {\n",
    "    prod: df.loc[prod][Data.factory_names[prod]].tolist()\n",
    "    for prod in Data.product_list\n",
    "}\n",
    "\n",
    "del df"
   ]
  },
  {
   "cell_type": "code",
   "execution_count": 287,
   "id": "e02177dc",
   "metadata": {},
   "outputs": [],
   "source": [
    "# Data.capacity_constraints # Constraints has to start index from 1\n",
    "df = pd.read_excel(filepath,\n",
    "                   sheet_name='Capacity Constraints',\n",
    "                   index_col='CONSTRAINTS')\n",
    "\n",
    "Data.capacity_constraints = [\n",
    "    df.columns[df.iloc[cons]].tolist() for cons in range(df.shape[0])\n",
    "]\n",
    "\n",
    "del df"
   ]
  },
  {
   "cell_type": "code",
   "execution_count": 288,
   "id": "da06616a",
   "metadata": {
    "run_control": {
     "marked": false
    }
   },
   "outputs": [],
   "source": [
    "# Data.supply_constraints # Constraints has to start index from 1\n",
    "df = pd.read_excel(filepath,\n",
    "                   sheet_name='Supply Constraints',\n",
    "                   index_col='CONSTRAINTS')\n",
    "\n",
    "Data.supply_constraints = [\n",
    "    df.columns[df.iloc[cons]].tolist() for cons in range(df.shape[0])\n",
    "]\n",
    "\n",
    "del df"
   ]
  },
  {
   "cell_type": "code",
   "execution_count": 303,
   "id": "10dc1adf",
   "metadata": {},
   "outputs": [
    {
     "data": {
      "text/plain": [
       "array([500., 600., 700., 800.,  nan, 600., 200.,  nan,  nan])"
      ]
     },
     "execution_count": 303,
     "metadata": {},
     "output_type": "execute_result"
    }
   ],
   "source": [
    "# Data.capacity_volume\n",
    "Data.capacity_volume = pd.read_excel(filepath,\n",
    "                   sheet_name='Capacity Volume',\n",
    "                   index_col='CONSTRAINTS').to_numpy().flatten()\n",
    "\n",
    "Data.capacity_volume = Data.capacity_volume[~np.isnan(Data.capacity_volume)][:, np.newaxis]"
   ]
  },
  {
   "cell_type": "code",
   "execution_count": 308,
   "id": "bcd9a170",
   "metadata": {},
   "outputs": [],
   "source": [
    "# Data.demand_volume_per_product"
   ]
  },
  {
   "cell_type": "code",
   "execution_count": 310,
   "id": "3853c954",
   "metadata": {},
   "outputs": [
    {
     "data": {
      "text/html": [
       "<div>\n",
       "<style scoped>\n",
       "    .dataframe tbody tr th:only-of-type {\n",
       "        vertical-align: middle;\n",
       "    }\n",
       "\n",
       "    .dataframe tbody tr th {\n",
       "        vertical-align: top;\n",
       "    }\n",
       "\n",
       "    .dataframe thead th {\n",
       "        text-align: right;\n",
       "    }\n",
       "</style>\n",
       "<table border=\"1\" class=\"dataframe\">\n",
       "  <thead>\n",
       "    <tr style=\"text-align: right;\">\n",
       "      <th></th>\n",
       "      <th>CUSTOMER</th>\n",
       "      <th>Bulk-Cow</th>\n",
       "      <th>Bulk-Chicken</th>\n",
       "      <th>Bag-Cow</th>\n",
       "      <th>Unnamed: 4</th>\n",
       "      <th>CUSTOMER.1</th>\n",
       "      <th>PRODUCT</th>\n",
       "      <th>VOLUME</th>\n",
       "    </tr>\n",
       "  </thead>\n",
       "  <tbody>\n",
       "    <tr>\n",
       "      <th>0</th>\n",
       "      <td>Dirac</td>\n",
       "      <td>NaN</td>\n",
       "      <td>60.696819</td>\n",
       "      <td>NaN</td>\n",
       "      <td>NaN</td>\n",
       "      <td>Fermi</td>\n",
       "      <td>Bulk-Cow</td>\n",
       "      <td>27.436063</td>\n",
       "    </tr>\n",
       "    <tr>\n",
       "      <th>1</th>\n",
       "      <td>Fermi</td>\n",
       "      <td>95.362236</td>\n",
       "      <td>41.968983</td>\n",
       "      <td>45.439998</td>\n",
       "      <td>NaN</td>\n",
       "      <td>Einstein</td>\n",
       "      <td>Bulk-Cow</td>\n",
       "      <td>62.957363</td>\n",
       "    </tr>\n",
       "    <tr>\n",
       "      <th>2</th>\n",
       "      <td>Einstein</td>\n",
       "      <td>34.129619</td>\n",
       "      <td>NaN</td>\n",
       "      <td>29.630651</td>\n",
       "      <td>NaN</td>\n",
       "      <td>Dirac</td>\n",
       "      <td>Bulk-Chicken</td>\n",
       "      <td>32.045110</td>\n",
       "    </tr>\n",
       "    <tr>\n",
       "      <th>3</th>\n",
       "      <td>NaN</td>\n",
       "      <td>NaN</td>\n",
       "      <td>NaN</td>\n",
       "      <td>NaN</td>\n",
       "      <td>NaN</td>\n",
       "      <td>Fermi</td>\n",
       "      <td>Bulk-Chicken</td>\n",
       "      <td>31.287679</td>\n",
       "    </tr>\n",
       "    <tr>\n",
       "      <th>4</th>\n",
       "      <td>NaN</td>\n",
       "      <td>NaN</td>\n",
       "      <td>NaN</td>\n",
       "      <td>NaN</td>\n",
       "      <td>NaN</td>\n",
       "      <td>Fermi</td>\n",
       "      <td>Bag-Cow</td>\n",
       "      <td>88.929380</td>\n",
       "    </tr>\n",
       "    <tr>\n",
       "      <th>5</th>\n",
       "      <td>NaN</td>\n",
       "      <td>NaN</td>\n",
       "      <td>NaN</td>\n",
       "      <td>NaN</td>\n",
       "      <td>NaN</td>\n",
       "      <td>Einstein</td>\n",
       "      <td>Bag-Cow</td>\n",
       "      <td>73.160037</td>\n",
       "    </tr>\n",
       "  </tbody>\n",
       "</table>\n",
       "</div>"
      ],
      "text/plain": [
       "   CUSTOMER   Bulk-Cow  Bulk-Chicken    Bag-Cow  Unnamed: 4 CUSTOMER.1  \\\n",
       "0     Dirac        NaN     60.696819        NaN         NaN      Fermi   \n",
       "1     Fermi  95.362236     41.968983  45.439998         NaN   Einstein   \n",
       "2  Einstein  34.129619           NaN  29.630651         NaN      Dirac   \n",
       "3       NaN        NaN           NaN        NaN         NaN      Fermi   \n",
       "4       NaN        NaN           NaN        NaN         NaN      Fermi   \n",
       "5       NaN        NaN           NaN        NaN         NaN   Einstein   \n",
       "\n",
       "        PRODUCT     VOLUME  \n",
       "0      Bulk-Cow  27.436063  \n",
       "1      Bulk-Cow  62.957363  \n",
       "2  Bulk-Chicken  32.045110  \n",
       "3  Bulk-Chicken  31.287679  \n",
       "4       Bag-Cow  88.929380  \n",
       "5       Bag-Cow  73.160037  "
      ]
     },
     "execution_count": 310,
     "metadata": {},
     "output_type": "execute_result"
    }
   ],
   "source": [
    "pd.read_excel(filepath, sheet_name = 'Demand Volume Per Product')"
   ]
  },
  {
   "cell_type": "code",
   "execution_count": 252,
   "id": "9995a667",
   "metadata": {},
   "outputs": [],
   "source": [
    "from model.randinp import RandomInputs"
   ]
  },
  {
   "cell_type": "code",
   "execution_count": 296,
   "id": "0ace34bd",
   "metadata": {},
   "outputs": [
    {
     "data": {
      "text/plain": [
       "array([500., 600., 700., 800.,  nan, 600., 200., 200., 200.])"
      ]
     },
     "execution_count": 296,
     "metadata": {},
     "output_type": "execute_result"
    }
   ],
   "source": [
    "df"
   ]
  },
  {
   "cell_type": "code",
   "execution_count": 255,
   "id": "9ff982d2",
   "metadata": {},
   "outputs": [],
   "source": [
    "a = RandomInputs()\n",
    "\n",
    "a.generate()"
   ]
  }
 ],
 "metadata": {
  "kernelspec": {
   "display_name": "Python 3 (ipykernel)",
   "language": "python",
   "name": "python3"
  },
  "language_info": {
   "codemirror_mode": {
    "name": "ipython",
    "version": 3
   },
   "file_extension": ".py",
   "mimetype": "text/x-python",
   "name": "python",
   "nbconvert_exporter": "python",
   "pygments_lexer": "ipython3",
   "version": "3.9.7"
  },
  "latex_envs": {
   "LaTeX_envs_menu_present": true,
   "autoclose": true,
   "autocomplete": true,
   "bibliofile": "biblio.bib",
   "cite_by": "apalike",
   "current_citInitial": 1,
   "eqLabelWithNumbers": true,
   "eqNumInitial": 1,
   "hotkeys": {
    "equation": "Ctrl-E",
    "itemize": "Ctrl-I"
   },
   "labels_anchors": false,
   "latex_user_defs": false,
   "report_style_numbering": false,
   "user_envs_cfg": false
  }
 },
 "nbformat": 4,
 "nbformat_minor": 5
}
