{
 "cells": [
  {
   "cell_type": "code",
   "execution_count": 3,
   "id": "25363d5d",
   "metadata": {},
   "outputs": [],
   "source": [
    "from scipy.optimize import linprog\n",
    "import numpy as np"
   ]
  },
  {
   "cell_type": "code",
   "execution_count": 4,
   "id": "8a7043be",
   "metadata": {},
   "outputs": [],
   "source": [
    "col = np.random.randint(3, 20)\n",
    "row = np.random.randint(3, 20)\n",
    "\n",
    "c = np.random.rand(col)\n",
    "A_ub = np.random.rand(row, col)\n",
    "b_ub = np.random.rand(row)"
   ]
  },
  {
   "cell_type": "code",
   "execution_count": 9,
   "id": "c091ef3a",
   "metadata": {},
   "outputs": [
    {
     "data": {
      "text/plain": [
       "           con: array([], dtype=float64)\n",
       " crossover_nit: 0\n",
       "         eqlin:  marginals: array([], dtype=float64)\n",
       "  residual: array([], dtype=float64)\n",
       "           fun: 0.0\n",
       "       ineqlin:  marginals: array([-0., -0., -0., -0., -0., -0., -0., -0., -0., -0., -0.])\n",
       "  residual: array([0.16517061, 0.11345734, 0.90836563, 0.96222572, 0.90365473,\n",
       "       0.08831577, 0.82649277, 0.67290302, 0.50856117, 0.24916308,\n",
       "       0.64335675])\n",
       "         lower:  marginals: <MemoryView of 'ndarray' at 0x29c5c368ba0>\n",
       "  residual: array([0., 0., 0., 0., 0., 0., 0., 0.])\n",
       "       message: 'Optimization terminated successfully.'\n",
       "           nit: 0\n",
       "         slack: array([0.16517061, 0.11345734, 0.90836563, 0.96222572, 0.90365473,\n",
       "       0.08831577, 0.82649277, 0.67290302, 0.50856117, 0.24916308,\n",
       "       0.64335675])\n",
       "        status: 0\n",
       "       success: True\n",
       "         upper:  marginals: <MemoryView of 'ndarray' at 0x29c5c368a00>\n",
       "  residual: array([inf, inf, inf, inf, inf, inf, inf, inf])\n",
       "             x: array([0., 0., 0., 0., 0., 0., 0., 0.])"
      ]
     },
     "execution_count": 9,
     "metadata": {},
     "output_type": "execute_result"
    }
   ],
   "source": [
    "linprog(c, A_ub, b_ub, method = 'highs')"
   ]
  }
 ],
 "metadata": {
  "kernelspec": {
   "display_name": "Python 3 (ipykernel)",
   "language": "python",
   "name": "python3"
  },
  "language_info": {
   "codemirror_mode": {
    "name": "ipython",
    "version": 3
   },
   "file_extension": ".py",
   "mimetype": "text/x-python",
   "name": "python",
   "nbconvert_exporter": "python",
   "pygments_lexer": "ipython3",
   "version": "3.9.7"
  },
  "latex_envs": {
   "LaTeX_envs_menu_present": true,
   "autoclose": true,
   "autocomplete": true,
   "bibliofile": "biblio.bib",
   "cite_by": "apalike",
   "current_citInitial": 1,
   "eqLabelWithNumbers": true,
   "eqNumInitial": 1,
   "hotkeys": {
    "equation": "Ctrl-E",
    "itemize": "Ctrl-I"
   },
   "labels_anchors": false,
   "latex_user_defs": false,
   "report_style_numbering": false,
   "user_envs_cfg": false
  }
 },
 "nbformat": 4,
 "nbformat_minor": 5
}
