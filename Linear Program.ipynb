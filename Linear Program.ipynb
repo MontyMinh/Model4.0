{
 "cells": [
  {
   "cell_type": "code",
   "execution_count": 1,
   "id": "ac112bbd",
   "metadata": {
    "run_control": {
     "marked": false
    }
   },
   "outputs": [],
   "source": [
    "from scipy.optimize import linprog\n",
    "import numpy as np"
   ]
  },
  {
   "cell_type": "markdown",
   "id": "00706e43",
   "metadata": {},
   "source": [
    "### Free parameters"
   ]
  },
  {
   "cell_type": "code",
   "execution_count": 2,
   "id": "c9991406",
   "metadata": {
    "run_control": {
     "marked": false
    }
   },
   "outputs": [],
   "source": [
    "from model.data import Data\n",
    "from model.randinp import RandomInputs\n",
    "from model.optimization import *"
   ]
  },
  {
   "cell_type": "code",
   "execution_count": 3,
   "id": "75771155",
   "metadata": {
    "run_control": {
     "marked": false
    }
   },
   "outputs": [],
   "source": [
    "model1 = RandomInputs()\n",
    "model1.generate()"
   ]
  },
  {
   "cell_type": "code",
   "execution_count": 4,
   "id": "c786b701",
   "metadata": {
    "run_control": {
     "marked": false
    }
   },
   "outputs": [],
   "source": [
    "generate_objective_vector()\n",
    "generate_demand_matrix()\n",
    "generate_combination_matrices()\n",
    "generate_capacity_matrix()\n",
    "generate_supply_matrix()\n",
    "generate_constraints_matrix()\n",
    "generate_constraints_vector()\n",
    "\n",
    "Data.linear_program = linprog(c=Data.objective_vector,\n",
    "                              A_ub=Data.constraints_matrix,\n",
    "                              b_ub=Data.constraints_vector,\n",
    "                              method='highs')\n",
    "\n",
    "assert Data.linear_program.status == 0, Data.linear_program.message"
   ]
  },
  {
   "cell_type": "code",
   "execution_count": null,
   "id": "299430de",
   "metadata": {},
   "outputs": [],
   "source": []
  }
 ],
 "metadata": {
  "kernelspec": {
   "display_name": "Python 3 (ipykernel)",
   "language": "python",
   "name": "python3"
  },
  "language_info": {
   "codemirror_mode": {
    "name": "ipython",
    "version": 3
   },
   "file_extension": ".py",
   "mimetype": "text/x-python",
   "name": "python",
   "nbconvert_exporter": "python",
   "pygments_lexer": "ipython3",
   "version": "3.9.7"
  },
  "latex_envs": {
   "LaTeX_envs_menu_present": true,
   "autoclose": true,
   "autocomplete": true,
   "bibliofile": "biblio.bib",
   "cite_by": "apalike",
   "current_citInitial": 1,
   "eqLabelWithNumbers": true,
   "eqNumInitial": 1,
   "hotkeys": {
    "equation": "Ctrl-E",
    "itemize": "Ctrl-I"
   },
   "labels_anchors": false,
   "latex_user_defs": false,
   "report_style_numbering": false,
   "user_envs_cfg": false
  }
 },
 "nbformat": 4,
 "nbformat_minor": 5
}
