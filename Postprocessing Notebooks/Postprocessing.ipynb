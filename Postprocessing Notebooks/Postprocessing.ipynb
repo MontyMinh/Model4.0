{
 "cells": [
  {
   "cell_type": "code",
   "execution_count": 52,
   "id": "6eb867e3",
   "metadata": {},
   "outputs": [],
   "source": [
    "import sys\n",
    "sys.path.append('C:\\\\Users\\\\monty.minh\\\\Documents\\\\Optimizer\\\\')\n",
    "\n",
    "from sympy import Matrix\n",
    "\n",
    "from model.preprocessing import *\n",
    "from model.optimization import *"
   ]
  },
  {
   "cell_type": "code",
   "execution_count": 55,
   "id": "d90be174",
   "metadata": {
    "run_control": {
     "marked": true
    },
    "scrolled": true
   },
   "outputs": [],
   "source": [
    "Data.filepath = 'C:\\\\Users\\\\monty.minh\\\\Documents\\\\Optimizer\\\\Preprocessing Notebooks\\\\Template.xlsx'\n",
    "\n",
    "preprocess()\n",
    "\n",
    "optimize()"
   ]
  },
  {
   "cell_type": "markdown",
   "id": "9fa19bdd",
   "metadata": {},
   "source": [
    "keep track of all the parameters and delete them after"
   ]
  },
  {
   "cell_type": "code",
   "execution_count": 56,
   "id": "2b504032",
   "metadata": {},
   "outputs": [
    {
     "name": "stdout",
     "output_type": "stream",
     "text": [
      "Define a file path to save Excel output file\n"
     ]
    }
   ],
   "source": [
    "print(\"Define a file path to save Excel output file\")\n",
    "\n",
    "\n",
    "class Results:\n",
    "\n",
    "    volume = []\n",
    "    price = []\n",
    "\n",
    "\n",
    "Results.save_location = 'C:\\\\Users\\\\monty.minh\\\\Documents\\\\Optimizer\\\\Postprocessing Notebooks\\\\Results.xlsx'"
   ]
  },
  {
   "cell_type": "code",
   "execution_count": 57,
   "id": "aba5074c",
   "metadata": {},
   "outputs": [],
   "source": [
    "def unpack_results():\n",
    "    \"\"\"\n",
    "    Unpack the program results into a volume vector\n",
    "    and a price vector.\n",
    "    \n",
    "    Input from data.py\n",
    "    ------------------\n",
    "    Data.linear_program: scipy.optimize.optimize.OptimizeResult\n",
    "        Result of the linear program.\n",
    "    \n",
    "    Outputs to data.py\n",
    "    ------------------\n",
    "    Results.volume: list\n",
    "        List of customers' volumes by optimization instances\n",
    "    Results.price: list\n",
    "        List of customers' prices by optimization instances\n",
    "    Results.split: int\n",
    "        Index to split the above vector into inbound / outbound\n",
    "    \"\"\"\n",
    "\n",
    "    # Unpack Volume\n",
    "    Results.volume.append(Data.linear_program[:, np.newaxis])\n",
    "    \n",
    "    # Unpack Price\n",
    "    Results.price.append(\n",
    "        (Data.linear_program * Data.objective_vector)[:, np.newaxis])\n",
    "    \n",
    "    # Collect split index, to remove Data dependencies.\n",
    "    # Next step is to free up all the memory from Data.\n",
    "    Results.split = Data.dimF\n",
    "\n",
    "def delete_optimization_data():\n",
    "    \n",
    "    \"\"\"Method to delete Data to free up memory\"\"\"\n",
    "    \n",
    "    pass\n",
    "\n",
    "def save_to_excel():\n",
    "    \"\"\"\n",
    "    Method to save volume and price data to Excel file\n",
    "    \n",
    "    Inputs from data.py\n",
    "    -------------------\n",
    "    Results.save_location: str (filepath)\n",
    "        Path to save output Excel file\n",
    "    Results.volume: list\n",
    "        List of customers' volume by optimization instances\n",
    "    Results.price: list\n",
    "        List of customers' price by optimization instances\n",
    "    \"\"\"\n",
    "\n",
    "    quick_save = lambda array, name: pd.DataFrame(array).to_excel(\n",
    "        writer, name, index=False, header=False, startrow=1, startcol=2)\n",
    "\n",
    "    with pd.ExcelWriter(Results.save_location) as writer:\n",
    "        quick_save(\n",
    "            np.hstack(Results.volume)[:Results.split],\n",
    "            'Inbound Volume Per Customer')\n",
    "        quick_save(\n",
    "            np.hstack(Results.volume)[Results.split:],\n",
    "            'Outbound Volume Per Customer')\n",
    "        quick_save(\n",
    "            np.hstack(Results.price)[:Results.split], 'Inbound Price Per Customer')\n",
    "        quick_save(\n",
    "            np.hstack(Results.price)[Results.split:],\n",
    "            'Outbound Price Per Customer')\n",
    "        \n",
    "def postprocess():\n",
    "    \n",
    "    \"\"\"Run postprocess methods\"\"\"\n",
    "    \n",
    "    unpack_results()\n",
    "    \n",
    "    # Free up memory\n",
    "    _ = [delattr(Data, attr) for attr in dir(Data) if attr[:2] != '__']\n",
    "    del _\n",
    "    gc.collect()\n",
    "    \n",
    "    save_to_excel()"
   ]
  },
  {
   "cell_type": "code",
   "execution_count": null,
   "id": "f7a9c6f7",
   "metadata": {},
   "outputs": [],
   "source": []
  }
 ],
 "metadata": {
  "kernelspec": {
   "display_name": "Python 3 (ipykernel)",
   "language": "python",
   "name": "python3"
  },
  "language_info": {
   "codemirror_mode": {
    "name": "ipython",
    "version": 3
   },
   "file_extension": ".py",
   "mimetype": "text/x-python",
   "name": "python",
   "nbconvert_exporter": "python",
   "pygments_lexer": "ipython3",
   "version": "3.9.7"
  },
  "latex_envs": {
   "LaTeX_envs_menu_present": true,
   "autoclose": true,
   "autocomplete": true,
   "bibliofile": "biblio.bib",
   "cite_by": "apalike",
   "current_citInitial": 1,
   "eqLabelWithNumbers": true,
   "eqNumInitial": 1,
   "hotkeys": {
    "equation": "Ctrl-E",
    "itemize": "Ctrl-I"
   },
   "labels_anchors": false,
   "latex_user_defs": false,
   "report_style_numbering": false,
   "user_envs_cfg": false
  }
 },
 "nbformat": 4,
 "nbformat_minor": 5
}
