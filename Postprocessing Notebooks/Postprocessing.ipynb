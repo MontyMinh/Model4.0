{
 "cells": [
  {
   "cell_type": "code",
   "execution_count": 1,
   "id": "6eb867e3",
   "metadata": {},
   "outputs": [
    {
     "name": "stdout",
     "output_type": "stream",
     "text": [
      "Define a file path to the Excel input file\n"
     ]
    }
   ],
   "source": [
    "import sys\n",
    "sys.path.append('C:\\\\Users\\\\monty.minh\\\\Documents\\\\Optimizer\\\\')\n",
    "\n",
    "from sympy import Matrix\n",
    "\n",
    "from model.preprocessing import *\n",
    "from model.optimization import *"
   ]
  },
  {
   "cell_type": "code",
   "execution_count": 2,
   "id": "d90be174",
   "metadata": {
    "run_control": {
     "marked": true
    },
    "scrolled": true
   },
   "outputs": [
    {
     "data": {
      "text/latex": [
       "$\\displaystyle \\left[\\begin{matrix}1.0 & 10.0 & 1.0 & 1.0 & 10.0 & 1.0\\end{matrix}\\right]$"
      ],
      "text/plain": [
       "Matrix([[1.0, 10.0, 1.0, 1.0, 10.0, 1.0]])"
      ]
     },
     "execution_count": 2,
     "metadata": {},
     "output_type": "execute_result"
    }
   ],
   "source": [
    "Data.filepath = 'C:\\\\Users\\\\monty.minh\\\\Documents\\\\Optimizer\\\\Preprocessing Notebooks\\\\Template.xlsx'\n",
    "\n",
    "preprocess()\n",
    "\n",
    "optimize()\n",
    "\n",
    "\n",
    "\n",
    "Matrix(Data.objective_vector).T"
   ]
  },
  {
   "cell_type": "code",
   "execution_count": 3,
   "id": "83d84b09",
   "metadata": {
    "scrolled": false
   },
   "outputs": [
    {
     "data": {
      "text/latex": [
       "$\\displaystyle \\left[\\begin{matrix}0 & 0 & 0 & -1.0 & -1.0 & 0 & -10.0\\\\0 & 0 & 0 & 0 & 0 & -1.0 & -10.0\\\\0 & 0 & 0 & 1.0 & 0 & 1.0 & 20.0\\\\0 & 0 & 0 & 0 & 1.0 & 0 & 20.0\\\\-1.0 & 0 & 0 & 1.0 & 0 & 0 & 0\\\\0 & -1.0 & 0 & 0 & 1.0 & 0 & 0\\\\0 & 0 & -1.0 & 0 & 0 & 1.0 & 0\\end{matrix}\\right]$"
      ],
      "text/plain": [
       "Matrix([\n",
       "[   0,    0,    0, -1.0, -1.0,    0, -10.0],\n",
       "[   0,    0,    0,    0,    0, -1.0, -10.0],\n",
       "[   0,    0,    0,  1.0,    0,  1.0,  20.0],\n",
       "[   0,    0,    0,    0,  1.0,    0,  20.0],\n",
       "[-1.0,    0,    0,  1.0,    0,    0,     0],\n",
       "[   0, -1.0,    0,    0,  1.0,    0,     0],\n",
       "[   0,    0, -1.0,    0,    0,  1.0,     0]])"
      ]
     },
     "execution_count": 3,
     "metadata": {},
     "output_type": "execute_result"
    }
   ],
   "source": [
    "Matrix(np.hstack([Data.constraints_matrix, Data.constraints_vector]))"
   ]
  },
  {
   "cell_type": "markdown",
   "id": "9fa19bdd",
   "metadata": {},
   "source": [
    "keep track of all the parameters and delete them after"
   ]
  },
  {
   "cell_type": "code",
   "execution_count": 134,
   "id": "2b504032",
   "metadata": {},
   "outputs": [
    {
     "name": "stdout",
     "output_type": "stream",
     "text": [
      "Define a file path to save Excel output file\n"
     ]
    }
   ],
   "source": [
    "print(\"Define a file path to save Excel output file\")\n",
    "\n",
    "\n",
    "class Results:\n",
    "\n",
    "    volume = []\n",
    "    price = []\n",
    "\n",
    "\n",
    "Results.save_location = 'C:\\\\Users\\\\monty.minh\\\\Documents\\\\Optimizer\\\\Postprocessing Notebooks\\\\Results.xlsx'"
   ]
  },
  {
   "cell_type": "code",
   "execution_count": 135,
   "id": "aba5074c",
   "metadata": {},
   "outputs": [],
   "source": [
    "def unpack_results():\n",
    "    \"\"\"\n",
    "    Unpack the program results into a volume vector\n",
    "    and a price vector.\n",
    "    \n",
    "    Input from data.py\n",
    "    ------------------\n",
    "    Data.linear_program: scipy.optimize.optimize.OptimizeResult\n",
    "        Result of the linear program.\n",
    "    \n",
    "    Outputs to data.py\n",
    "    ------------------\n",
    "    Results.volume: list\n",
    "        List of customers' volumes by optimization instances\n",
    "    Results.price: list\n",
    "        List of customers' prices by optimization instances\n",
    "    Results.split: int\n",
    "        Index to split the above vector into inbound / outbound\n",
    "    \"\"\"\n",
    "\n",
    "    # Unpack Volume\n",
    "    Results.volume.append(Data.linear_program[:, np.newaxis])\n",
    "    \n",
    "    # Unpack Price\n",
    "    Results.price.append(\n",
    "        (Data.linear_program * Data.objective_vector)[:, np.newaxis])\n",
    "    \n",
    "    # Collect split index, to remove Data dependencies.\n",
    "    # Next step is to free up all the memory from Data.\n",
    "    Results.split = Data.dimF\n",
    "\n",
    "def delete_optimization_data():\n",
    "    \n",
    "    \"\"\"Method to delete Data to free up memory\"\"\"\n",
    "    \n",
    "    del Data\n",
    "    gc.collect()\n",
    "\n",
    "def save_to_excel():\n",
    "    \"\"\"\n",
    "    Method to save volume and price data to Excel file\n",
    "    \n",
    "    Inputs from data.py\n",
    "    -------------------\n",
    "    Results.save_location: str (filepath)\n",
    "        Path to save output Excel file\n",
    "    Results.volume: list\n",
    "        List of customers' volume by optimization instances\n",
    "    Results.price: list\n",
    "        List of customers' price by optimization instances\n",
    "    \"\"\"\n",
    "\n",
    "    quick_save = lambda array, name: pd.DataFrame(array).to_excel(\n",
    "        writer, name, index=False, header=False, startrow=1, startcol=2)\n",
    "\n",
    "    with pd.ExcelWriter(Results.save_location) as writer:\n",
    "        quick_save(\n",
    "            np.hstack(Results.volume)[:Results.split],\n",
    "            'Inbound Volume Per Customer')\n",
    "        quick_save(\n",
    "            np.hstack(Results.volume)[Results.split:],\n",
    "            'Outbound Volume Per Customer')\n",
    "        quick_save(\n",
    "            np.hstack(Results.price)[:Results.split], 'Inbound Price Per Customer')\n",
    "        quick_save(\n",
    "            np.hstack(Results.price)[Results.split:],\n",
    "            'Outbound Price Per Customer')\n",
    "        \n",
    "def postprocess():\n",
    "    \n",
    "    \"\"\"Run postprocess methods\"\"\"\n",
    "    \n",
    "    unpack_results()\n",
    "    delete_optimization_data()\n",
    "    save_to_excel()"
   ]
  }
 ],
 "metadata": {
  "kernelspec": {
   "display_name": "Python 3 (ipykernel)",
   "language": "python",
   "name": "python3"
  },
  "language_info": {
   "codemirror_mode": {
    "name": "ipython",
    "version": 3
   },
   "file_extension": ".py",
   "mimetype": "text/x-python",
   "name": "python",
   "nbconvert_exporter": "python",
   "pygments_lexer": "ipython3",
   "version": "3.9.7"
  },
  "latex_envs": {
   "LaTeX_envs_menu_present": true,
   "autoclose": true,
   "autocomplete": true,
   "bibliofile": "biblio.bib",
   "cite_by": "apalike",
   "current_citInitial": 1,
   "eqLabelWithNumbers": true,
   "eqNumInitial": 1,
   "hotkeys": {
    "equation": "Ctrl-E",
    "itemize": "Ctrl-I"
   },
   "labels_anchors": false,
   "latex_user_defs": false,
   "report_style_numbering": false,
   "user_envs_cfg": false
  }
 },
 "nbformat": 4,
 "nbformat_minor": 5
}
