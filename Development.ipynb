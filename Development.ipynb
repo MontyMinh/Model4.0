{
 "cells": [
  {
   "cell_type": "markdown",
   "id": "8525333d",
   "metadata": {
    "pycharm": {
     "name": "#%% md\n"
    }
   },
   "source": [
    "## Imports"
   ]
  },
  {
   "cell_type": "code",
   "execution_count": 1,
   "id": "d01f5922",
   "metadata": {
    "pycharm": {
     "name": "#%%\n"
    }
   },
   "outputs": [],
   "source": [
    "import numpy as np\n",
    "import pprint\n",
    "p = pprint.PrettyPrinter(indent=4).pprint"
   ]
  },
  {
   "cell_type": "markdown",
   "id": "98eb43b0",
   "metadata": {
    "pycharm": {
     "name": "#%% md\n"
    }
   },
   "source": [
    "### Generate Random Inputs"
   ]
  },
  {
   "cell_type": "markdown",
   "id": "f95cfaee",
   "metadata": {
    "pycharm": {
     "name": "#%% md\n"
    }
   },
   "source": [
    "Before we can create the optimization workflow, we first generate some random inputs. Then, we define the hierarchy level and select a subset of the product combinations to perform optimization on."
   ]
  },
  {
   "cell_type": "code",
   "execution_count": 3,
   "id": "5e196242",
   "metadata": {
    "pycharm": {
     "name": "#%%\n"
    }
   },
   "outputs": [
    {
     "name": "stdout",
     "output_type": "stream",
     "text": [
      "['bag-crumble-cow', 'bag-pellet-chicken', 'bulk-mesh-chicken']\n"
     ]
    }
   ],
   "source": [
    "hierarchy = {\n",
    "    1: ('bulk', 'bag'),\n",
    "    2: ('mesh', 'pellet', 'crumble'),\n",
    "    3: ('cow', 'chicken', 'pig')\n",
    "}\n",
    "\n",
    "from itertools import product\n",
    "\n",
    "all_possible_combinations = [\n",
    "    '-'.join(prod) for prod in product(*hierarchy.values())\n",
    "]\n",
    "\n",
    "from random import sample, seed, randint\n",
    "\n",
    "seed(10)\n",
    "product_list = sorted(sample(all_possible_combinations, 3))\n",
    "\n",
    "print(product_list)"
   ]
  },
  {
   "cell_type": "markdown",
   "id": "1991fc12",
   "metadata": {
    "pycharm": {
     "name": "#%% md\n"
    }
   },
   "source": [
    "Per the model, each product combination will have its own list of customers and factories. Here we will just define the size of each combinations. We will also sample some factory names"
   ]
  },
  {
   "cell_type": "code",
   "execution_count": 4,
   "id": "fdd1ebad",
   "metadata": {
    "pycharm": {
     "name": "#%%\n"
    },
    "scrolled": false
   },
   "outputs": [
    {
     "name": "stdout",
     "output_type": "stream",
     "text": [
      "factory_sizes = {'bag-crumble-cow': 1, 'bag-pellet-chicken': 2, 'bulk-mesh-chicken': 2}\n",
      "customer_sizes = {'bag-crumble-cow': 3, 'bag-pellet-chicken': 3, 'bulk-mesh-chicken': 2}\n",
      "factory_names_ = {'bag-crumble-cow': ['fb'], 'bag-pellet-chicken': ['fa', 'fc'], 'bulk-mesh-chicken': ['fa', 'fb']}\n",
      "customer_names_ = {'bag-crumble-cow': ['ca', 'cb', 'cd'], 'bag-pellet-chicken': ['ca', 'cb', 'cc'], 'bulk-mesh-chicken': ['ca', 'cb']}\n"
     ]
    }
   ],
   "source": [
    "seed(10)\n",
    "\n",
    "factory_list = ['fa', 'fb', 'fc']\n",
    "customer_list = ['ca', 'cb', 'cc', 'cd']\n",
    "\n",
    "factory_sizes, customer_sizes, factory_names_, customer_names_ = {}, {}, {}, {}\n",
    "\n",
    "for product in product_list: # Generate random size of factory and customer per product\n",
    "    factory_sizes[product] = randint(1, 2)\n",
    "    customer_sizes[product] = randint(2, 3)\n",
    "    factory_names_[product] = sorted(sample(factory_list, factory_sizes[product]))\n",
    "    customer_names_[product] = sorted(sample(customer_list, customer_sizes[product]))\n",
    "    \n",
    "print(f'{factory_sizes = }')\n",
    "print(f'{customer_sizes = }')\n",
    "print(f'{factory_names_ = }')\n",
    "print(f'{customer_names_ = }')"
   ]
  },
  {
   "cell_type": "markdown",
   "id": "364074ab",
   "metadata": {
    "pycharm": {
     "name": "#%% md\n"
    }
   },
   "source": [
    "From the above data, we now randomly generate the logistics cost. The customers will represent the rows while the factories represent the columns "
   ]
  },
  {
   "cell_type": "code",
   "execution_count": 5,
   "id": "b3935f4d",
   "metadata": {
    "pycharm": {
     "name": "#%%\n"
    },
    "scrolled": true
   },
   "outputs": [
    {
     "name": "stdout",
     "output_type": "stream",
     "text": [
      "\u001b[1minbound_cost_per_product = \u001b[0;0m\n",
      "{   'bag-crumble-cow': array([83]),\n",
      "    'bag-pellet-chicken': array([91, 21]),\n",
      "    'bulk-mesh-chicken': array([70, 37])}\n",
      "\u001b[1moutbound_cost_per_product = \u001b[0;0m\n",
      "{   'bag-crumble-cow': array([[57],\n",
      "       [72],\n",
      "       [89]]),\n",
      "    'bag-pellet-chicken': array([[71, 85],\n",
      "       [48, 57],\n",
      "       [35, 66]]),\n",
      "    'bulk-mesh-chicken': array([[27, 55],\n",
      "       [93, 77]])}\n"
     ]
    }
   ],
   "source": [
    "seed(10)\n",
    "inbound_cost_per_product = {}\n",
    "outbound_cost_per_product = {}\n",
    "\n",
    "for product in product_list:\n",
    "    inbound_cost_per_product[product] = np.random.randint(\n",
    "        10, 100, factory_sizes[product])\n",
    "    outbound_cost_per_product[product] = np.random.randint(\n",
    "        10, 100, (customer_sizes[product], factory_sizes[product]))\n",
    "   \n",
    "print('\\033[1minbound_cost_per_product = \\033[0;0m'); p(inbound_cost_per_product)\n",
    "print('\\033[1moutbound_cost_per_product = \\033[0;0m'); p(outbound_cost_per_product)"
   ]
  },
  {
   "cell_type": "markdown",
   "id": "b52ce735",
   "metadata": {
    "pycharm": {
     "name": "#%% md\n"
    }
   },
   "source": [
    "For completeness, we will also generate some numbers for efficiency."
   ]
  },
  {
   "cell_type": "code",
   "execution_count": 6,
   "id": "0dad6cf2",
   "metadata": {
    "pycharm": {
     "name": "#%%\n"
    }
   },
   "outputs": [
    {
     "name": "stdout",
     "output_type": "stream",
     "text": [
      "\u001b[1mefficiency = \u001b[0;0m\n",
      "{   'bag-crumble-cow': array([0.8]),\n",
      "    'bag-pellet-chicken': array([0.98, 0.77]),\n",
      "    'bulk-mesh-chicken': array([0.79, 0.72])}\n"
     ]
    }
   ],
   "source": [
    "seed(10)\n",
    "efficiency = {}\n",
    "\n",
    "for product in product_list:\n",
    "    efficiency[product] = np.random.randint(70, 100, factory_sizes[product])/100\n",
    "    \n",
    "\n",
    "print('\\033[1mefficiency = \\033[0;0m'); p(efficiency)"
   ]
  },
  {
   "cell_type": "markdown",
   "id": "f0f26540",
   "metadata": {
    "pycharm": {
     "name": "#%% md\n"
    }
   },
   "source": [
    "# The Model"
   ]
  },
  {
   "cell_type": "markdown",
   "id": "33efd9b4",
   "metadata": {
    "pycharm": {
     "name": "#%% md\n"
    }
   },
   "source": [
    "Now that we have all the necessary data, we can start assembling the linear program"
   ]
  },
  {
   "cell_type": "markdown",
   "id": "efe90ae8",
   "metadata": {
    "pycharm": {
     "name": "#%% md\n"
    }
   },
   "source": [
    "## Objective Vector"
   ]
  },
  {
   "cell_type": "markdown",
   "id": "6cb658f1",
   "metadata": {
    "pycharm": {
     "name": "#%% md\n"
    }
   },
   "source": [
    "To build the objective vector, we need to concatenate both the inbound and outbound cost vector. \n",
    "\n",
    "**Inbound cost vector takes from the inbound cost product, which is a dictionary with the name of product as keys and the array of inbound cost as values.**\n",
    "\n",
    "**Outbound cost vector takes from the outbound cost per product, which is a dictionary with the name of the product as keys and the 2d array (customer x factory) of outbound cost as values**."
   ]
  },
  {
   "cell_type": "code",
   "execution_count": 7,
   "id": "f9e783a1",
   "metadata": {
    "pycharm": {
     "name": "#%%\n"
    }
   },
   "outputs": [
    {
     "data": {
      "text/plain": [
       "{'bag-crumble-cow': array([83]),\n",
       " 'bag-pellet-chicken': array([91, 21]),\n",
       " 'bulk-mesh-chicken': array([70, 37])}"
      ]
     },
     "execution_count": 7,
     "metadata": {},
     "output_type": "execute_result"
    }
   ],
   "source": [
    "inbound_cost_per_product"
   ]
  },
  {
   "cell_type": "code",
   "execution_count": 8,
   "id": "dccb6fb6",
   "metadata": {
    "code_folding": [],
    "pycharm": {
     "name": "#%%\n"
    },
    "run_control": {
     "marked": false
    }
   },
   "outputs": [
    {
     "name": "stdout",
     "output_type": "stream",
     "text": [
      "inbound_cost_vector = array([83, 91, 21, 70, 37])\n",
      "outbound_cost_vector = array([57, 72, 89, 71, 48, 35, 85, 57, 66, 27, 93, 55, 77])\n",
      "objective_vector = array([83, 91, 21, 70, 37, 57, 72, 89, 71, 48, 35, 85, 57, 66, 27, 93, 55,\n",
      "       77])\n",
      "\n",
      "sumF = 5, sumFC = 13\n",
      "objective_cost_vector_len = 18\n"
     ]
    }
   ],
   "source": [
    "inbound_cost_vector = np.hstack(list(\n",
    "    inbound_cost_per_product.values()))  # Unpack cost to inbound section\n",
    "\n",
    "_lst_ = [mat.flatten('F') for mat in outbound_cost_per_product.values()\n",
    "         ]  # Flatten the outbound_cost_per_product\n",
    "\n",
    "outbound_cost_vector = np.hstack(_lst_)\n",
    "#del _lst_  # Unpack cost to outbound section\n",
    "\n",
    "objective_vector = np.hstack([inbound_cost_vector, outbound_cost_vector])\n",
    "\n",
    "print(f'{inbound_cost_vector = }')\n",
    "print(f'{outbound_cost_vector = }')\n",
    "print(f'{objective_vector = }')\n",
    "\n",
    "### Check dimension\n",
    "sumF = sum(factory_sizes.values())\n",
    "sumC = sum(customer_sizes.values())\n",
    "sumFC = sum(\n",
    "    np.array(list(factory_sizes.values())) *\n",
    "    np.array(list(customer_sizes.values())))\n",
    "\n",
    "assert len(\n",
    "    inbound_cost_vector\n",
    ") == sumF, \"Inbound cost vector not the right shape (1, ∑|F|)\"\n",
    "assert len(\n",
    "    outbound_cost_vector\n",
    ") == sumFC, \"Outbound cost vector not the right shape (1, ∑|FxC|)\"\n",
    "\n",
    "print(f'\\n{sumF = }, {sumFC = }')\n",
    "print(f'objective_cost_vector_len = {sumF+sumFC}')"
   ]
  },
  {
   "cell_type": "code",
   "execution_count": 9,
   "id": "69395ad9",
   "metadata": {
    "pycharm": {
     "name": "#%%\n"
    }
   },
   "outputs": [
    {
     "data": {
      "text/plain": [
       "True"
      ]
     },
     "execution_count": 9,
     "metadata": {},
     "output_type": "execute_result"
    }
   ],
   "source": [
    "inbound_cost_vector.shape == (5, )"
   ]
  },
  {
   "cell_type": "markdown",
   "id": "e8d26115",
   "metadata": {
    "pycharm": {
     "name": "#%% md\n"
    }
   },
   "source": [
    "## Constraints Matrix"
   ]
  },
  {
   "cell_type": "markdown",
   "id": "c90bed28",
   "metadata": {
    "pycharm": {
     "name": "#%% md\n"
    }
   },
   "source": [
    "Here, we will now build the Demand Matrix, Product Capacity Matrix, Product Supply Matrix, Joint Capacity Matrix, Joint Supply Matrix."
   ]
  },
  {
   "cell_type": "markdown",
   "id": "d0eab62d",
   "metadata": {
    "pycharm": {
     "name": "#%% md\n"
    }
   },
   "source": [
    "### Demand Matrix"
   ]
  },
  {
   "cell_type": "code",
   "execution_count": 10,
   "id": "b09bba63",
   "metadata": {
    "pycharm": {
     "name": "#%%\n"
    },
    "run_control": {
     "marked": false
    }
   },
   "outputs": [],
   "source": [
    "from scipy.linalg import block_diag\n",
    "from sympy import Matrix"
   ]
  },
  {
   "cell_type": "code",
   "execution_count": 12,
   "id": "a6ce177d",
   "metadata": {
    "pycharm": {
     "name": "#%%\n"
    },
    "run_control": {
     "marked": false
    }
   },
   "outputs": [],
   "source": [
    "demand_OB = block_diag(*[\n",
    "    np.tile(np.eye(customer_sizes[product]), reps=factory_sizes[product])\n",
    "    for product in product_list\n",
    "]) # Demand Outbound Block\n",
    "\n",
    "assert demand_OB.shape == (\n",
    "    sumC,\n",
    "    sumFC), 'Outbound block of demand matrix not the right shape (∑|C|, ∑|FxC|)'\n",
    "\n",
    "demand_IB = np.zeros(\n",
    "    (sumC,\n",
    "     sumF)) # Demand Inbound Block\n",
    "\n",
    "assert demand_IB.shape == (\n",
    "    sumC,\n",
    "    sumF), 'Inbound block of demand matrix not the right shape (∑|C|, ∑|F|)'"
   ]
  },
  {
   "cell_type": "code",
   "execution_count": null,
   "id": "deeb430c",
   "metadata": {},
   "outputs": [],
   "source": [
    "np.split"
   ]
  },
  {
   "cell_type": "code",
   "execution_count": 31,
   "id": "195d4990",
   "metadata": {},
   "outputs": [
    {
     "data": {
      "text/plain": [
       "array([[1., 0., 0., 0., 0., 0., 0., 0., 0., 0., 0., 0., 0.],\n",
       "       [0., 1., 0., 0., 0., 0., 0., 0., 0., 0., 0., 0., 0.],\n",
       "       [0., 0., 1., 0., 0., 0., 0., 0., 0., 0., 0., 0., 0.],\n",
       "       [0., 0., 0., 1., 0., 0., 1., 0., 0., 0., 0., 0., 0.],\n",
       "       [0., 0., 0., 0., 1., 0., 0., 1., 0., 0., 0., 0., 0.],\n",
       "       [0., 0., 0., 0., 0., 1., 0., 0., 1., 0., 0., 0., 0.],\n",
       "       [0., 0., 0., 0., 0., 0., 0., 0., 0., 1., 0., 1., 0.],\n",
       "       [0., 0., 0., 0., 0., 0., 0., 0., 0., 0., 1., 0., 1.]])"
      ]
     },
     "execution_count": 31,
     "metadata": {},
     "output_type": "execute_result"
    }
   ],
   "source": [
    "demand_OB"
   ]
  },
  {
   "cell_type": "markdown",
   "id": "bfa1c14f",
   "metadata": {
    "pycharm": {
     "name": "#%% md\n"
    }
   },
   "source": [
    "### Combination Matrix"
   ]
  },
  {
   "cell_type": "markdown",
   "id": "50d0fb74",
   "metadata": {
    "pycharm": {
     "name": "#%% md\n"
    }
   },
   "source": [
    "We are going to create product block where each F_u will contain all the factories. Then suppose if a factory is not F_u then we leave the row to all zero and do not leave a space. So first, we have to write a function that insert [] if the factory does not exist"
   ]
  },
  {
   "cell_type": "code",
   "execution_count": 13,
   "id": "6ab90f9b",
   "metadata": {
    "pycharm": {
     "name": "#%%\n"
    }
   },
   "outputs": [
    {
     "data": {
      "text/plain": [
       "[1, 0, 2, 3, 0]"
      ]
     },
     "execution_count": 13,
     "metadata": {},
     "output_type": "execute_result"
    }
   ],
   "source": [
    "gen = (i for i in range(1, 5))\n",
    "\n",
    "conds = [True, False, True, True, False]\n",
    "\n",
    "[next(gen) if cond else 0 for cond in conds]"
   ]
  },
  {
   "cell_type": "code",
   "execution_count": 55,
   "id": "55fb6eda",
   "metadata": {},
   "outputs": [
    {
     "data": {
      "text/plain": [
       "[1, 0, 1, 1, 0]"
      ]
     },
     "execution_count": 55,
     "metadata": {},
     "output_type": "execute_result"
    }
   ],
   "source": [
    "[next((i for i in range(1, 5)), 4) if cond else 0 for cond in [True, False, True, True, False]]"
   ]
  },
  {
   "cell_type": "code",
   "execution_count": 77,
   "id": "a0bda726",
   "metadata": {
    "pycharm": {
     "name": "#%%\n"
    }
   },
   "outputs": [],
   "source": [
    "### Function to insert outbound blank, positive denotes the thing that will be insert if True\n",
    "insert_outblank = lambda factory_list, factory_sublist, positive: [\n",
    "    positive if factory in factory_sublist else [] for factory in factory_list\n",
    "]\n",
    "\n",
    "insert_inblank = lambda factory_list, factory_sublist, positive: [\n",
    "    next(positive) if factory in factory_sublist else []\n",
    "    for factory in factory_list\n",
    "]\n",
    "\n",
    "efficiency_val = (elem for elem in np.hstack(list(efficiency.values())))  # Add a generator to do the job"
   ]
  },
  {
   "cell_type": "code",
   "execution_count": 78,
   "id": "056a4e2b",
   "metadata": {},
   "outputs": [],
   "source": [
    "efficiency_val = (elem for elem in np.hstack(list(efficiency.values())))\n",
    "\n",
    "inbound_combination_matrix = block_diag(*[\n",
    "    block_diag(*block)\n",
    "    for block in [[next(efficiency_val) if factory in\n",
    "                   factory_names_[product] else [] for factory in factory_list]\n",
    "                  for product in product_list]\n",
    "])"
   ]
  },
  {
   "cell_type": "code",
   "execution_count": 58,
   "id": "b6ab4f30",
   "metadata": {},
   "outputs": [
    {
     "data": {
      "text/plain": [
       "array([[0.  , 0.  , 0.  , 0.  , 0.  ],\n",
       "       [0.8 , 0.  , 0.  , 0.  , 0.  ],\n",
       "       [0.  , 0.  , 0.  , 0.  , 0.  ],\n",
       "       [0.  , 0.98, 0.  , 0.  , 0.  ],\n",
       "       [0.  , 0.  , 0.  , 0.  , 0.  ],\n",
       "       [0.  , 0.  , 0.77, 0.  , 0.  ],\n",
       "       [0.  , 0.  , 0.  , 0.79, 0.  ],\n",
       "       [0.  , 0.  , 0.  , 0.  , 0.72],\n",
       "       [0.  , 0.  , 0.  , 0.  , 0.  ]])"
      ]
     },
     "execution_count": 58,
     "metadata": {},
     "output_type": "execute_result"
    }
   ],
   "source": [
    "inbound_combination_matrix"
   ]
  },
  {
   "cell_type": "code",
   "execution_count": 60,
   "id": "a713b994",
   "metadata": {},
   "outputs": [
    {
     "data": {
      "text/plain": [
       "array([[0.  , 0.  , 0.  , 0.  , 0.  ],\n",
       "       [0.8 , 0.  , 0.  , 0.  , 0.  ],\n",
       "       [0.  , 0.  , 0.  , 0.  , 0.  ],\n",
       "       [0.  , 0.98, 0.  , 0.  , 0.  ],\n",
       "       [0.  , 0.  , 0.  , 0.  , 0.  ],\n",
       "       [0.  , 0.  , 0.77, 0.  , 0.  ],\n",
       "       [0.  , 0.  , 0.  , 0.79, 0.  ],\n",
       "       [0.  , 0.  , 0.  , 0.  , 0.72],\n",
       "       [0.  , 0.  , 0.  , 0.  , 0.  ]])"
      ]
     },
     "execution_count": 60,
     "metadata": {},
     "output_type": "execute_result"
    }
   ],
   "source": [
    "pcap_IB"
   ]
  },
  {
   "cell_type": "code",
   "execution_count": 41,
   "id": "7c8e39ca",
   "metadata": {
    "pycharm": {
     "name": "#%%\n"
    }
   },
   "outputs": [
    {
     "ename": "StopIteration",
     "evalue": "",
     "output_type": "error",
     "traceback": [
      "\u001b[1;31m---------------------------------------------------------------------------\u001b[0m",
      "\u001b[1;31mStopIteration\u001b[0m                             Traceback (most recent call last)",
      "\u001b[1;32mC:\\Users\\MONTY~1.MIN\\AppData\\Local\\Temp/ipykernel_11092/2998404098.py\u001b[0m in \u001b[0;36m<module>\u001b[1;34m\u001b[0m\n\u001b[0;32m      1\u001b[0m \u001b[1;31m### List of blocks before doing block diagonal\u001b[0m\u001b[1;33m\u001b[0m\u001b[1;33m\u001b[0m\u001b[0m\n\u001b[1;32m----> 2\u001b[1;33m _inblock_ = [\n\u001b[0m\u001b[0;32m      3\u001b[0m     insert_inblank(factory_list,\n\u001b[0;32m      4\u001b[0m                  \u001b[0mfactory_sublist\u001b[0m\u001b[1;33m=\u001b[0m\u001b[0mfactory_names_\u001b[0m\u001b[1;33m[\u001b[0m\u001b[0mproduct\u001b[0m\u001b[1;33m]\u001b[0m\u001b[1;33m,\u001b[0m\u001b[1;33m\u001b[0m\u001b[1;33m\u001b[0m\u001b[0m\n\u001b[0;32m      5\u001b[0m                  positive=efficiency_val)\n",
      "\u001b[1;32mC:\\Users\\MONTY~1.MIN\\AppData\\Local\\Temp/ipykernel_11092/2998404098.py\u001b[0m in \u001b[0;36m<listcomp>\u001b[1;34m(.0)\u001b[0m\n\u001b[0;32m      1\u001b[0m \u001b[1;31m### List of blocks before doing block diagonal\u001b[0m\u001b[1;33m\u001b[0m\u001b[1;33m\u001b[0m\u001b[0m\n\u001b[0;32m      2\u001b[0m _inblock_ = [\n\u001b[1;32m----> 3\u001b[1;33m     insert_inblank(factory_list,\n\u001b[0m\u001b[0;32m      4\u001b[0m                  \u001b[0mfactory_sublist\u001b[0m\u001b[1;33m=\u001b[0m\u001b[0mfactory_names_\u001b[0m\u001b[1;33m[\u001b[0m\u001b[0mproduct\u001b[0m\u001b[1;33m]\u001b[0m\u001b[1;33m,\u001b[0m\u001b[1;33m\u001b[0m\u001b[1;33m\u001b[0m\u001b[0m\n\u001b[0;32m      5\u001b[0m                  positive=efficiency_val)\n",
      "\u001b[1;32mC:\\Users\\MONTY~1.MIN\\AppData\\Local\\Temp/ipykernel_11092/802214406.py\u001b[0m in \u001b[0;36m<lambda>\u001b[1;34m(factory_list, factory_sublist, positive)\u001b[0m\n\u001b[0;32m      4\u001b[0m ]\n\u001b[0;32m      5\u001b[0m \u001b[1;33m\u001b[0m\u001b[0m\n\u001b[1;32m----> 6\u001b[1;33m insert_inblank = lambda factory_list, factory_sublist, positive: [\n\u001b[0m\u001b[0;32m      7\u001b[0m     \u001b[0mnext\u001b[0m\u001b[1;33m(\u001b[0m\u001b[0mpositive\u001b[0m\u001b[1;33m)\u001b[0m \u001b[1;32mif\u001b[0m \u001b[0mfactory\u001b[0m \u001b[1;32min\u001b[0m \u001b[0mfactory_sublist\u001b[0m \u001b[1;32melse\u001b[0m \u001b[1;33m[\u001b[0m\u001b[1;33m]\u001b[0m\u001b[1;33m\u001b[0m\u001b[1;33m\u001b[0m\u001b[0m\n\u001b[0;32m      8\u001b[0m     \u001b[1;32mfor\u001b[0m \u001b[0mfactory\u001b[0m \u001b[1;32min\u001b[0m \u001b[0mfactory_list\u001b[0m\u001b[1;33m\u001b[0m\u001b[1;33m\u001b[0m\u001b[0m\n",
      "\u001b[1;32mC:\\Users\\MONTY~1.MIN\\AppData\\Local\\Temp/ipykernel_11092/802214406.py\u001b[0m in \u001b[0;36m<listcomp>\u001b[1;34m(.0)\u001b[0m\n\u001b[0;32m      5\u001b[0m \u001b[1;33m\u001b[0m\u001b[0m\n\u001b[0;32m      6\u001b[0m insert_inblank = lambda factory_list, factory_sublist, positive: [\n\u001b[1;32m----> 7\u001b[1;33m     \u001b[0mnext\u001b[0m\u001b[1;33m(\u001b[0m\u001b[0mpositive\u001b[0m\u001b[1;33m)\u001b[0m \u001b[1;32mif\u001b[0m \u001b[0mfactory\u001b[0m \u001b[1;32min\u001b[0m \u001b[0mfactory_sublist\u001b[0m \u001b[1;32melse\u001b[0m \u001b[1;33m[\u001b[0m\u001b[1;33m]\u001b[0m\u001b[1;33m\u001b[0m\u001b[1;33m\u001b[0m\u001b[0m\n\u001b[0m\u001b[0;32m      8\u001b[0m     \u001b[1;32mfor\u001b[0m \u001b[0mfactory\u001b[0m \u001b[1;32min\u001b[0m \u001b[0mfactory_list\u001b[0m\u001b[1;33m\u001b[0m\u001b[1;33m\u001b[0m\u001b[0m\n\u001b[0;32m      9\u001b[0m ]\n",
      "\u001b[1;31mStopIteration\u001b[0m: "
     ]
    }
   ],
   "source": [
    "### List of blocks before doing block diagonal\n",
    "_inblock_ = [\n",
    "    insert_inblank(factory_list,\n",
    "                 factory_sublist=factory_names_[product],\n",
    "                 positive=efficiency_val)\n",
    "    for product in product_list\n",
    "]\n",
    "_outblock_ = [\n",
    "    insert_outblank(factory_list,\n",
    "                 factory_sublist=factory_names_[product],\n",
    "                 positive=[1] * customer_sizes[product])\n",
    "    for product in product_list\n",
    "]\n",
    "\n",
    "print(f'{_inblock_ = }\\n')\n",
    "print(f'{_outblock_ = }')"
   ]
  },
  {
   "cell_type": "code",
   "execution_count": 42,
   "id": "337f475a",
   "metadata": {
    "pycharm": {
     "name": "#%%\n"
    }
   },
   "outputs": [
    {
     "name": "stdout",
     "output_type": "stream",
     "text": [
      "\u001b[1mproduct_inblock = \u001b[0m\n",
      "{   'bag-crumble-cow': array([[0. , 0. , 0. , 0. , 0. ],\n",
      "       [0.8, 0. , 0. , 0. , 0. ],\n",
      "       [0. , 0. , 0. , 0. , 0. ]]),\n",
      "    'bag-pellet-chicken': array([[0.  , 0.98, 0.  , 0.  , 0.  ],\n",
      "       [0.  , 0.  , 0.  , 0.  , 0.  ],\n",
      "       [0.  , 0.  , 0.77, 0.  , 0.  ]]),\n",
      "    'bulk-mesh-chicken': array([[0.  , 0.  , 0.  , 0.79, 0.  ],\n",
      "       [0.  , 0.  , 0.  , 0.  , 0.72],\n",
      "       [0.  , 0.  , 0.  , 0.  , 0.  ]])}\n",
      "\n",
      "\u001b[1mproduct_outblock = \u001b[0m\n",
      "{   'bag-crumble-cow': array([[0., 0., 0., 0., 0., 0., 0., 0., 0., 0., 0., 0., 0.],\n",
      "       [1., 1., 1., 0., 0., 0., 0., 0., 0., 0., 0., 0., 0.],\n",
      "       [0., 0., 0., 0., 0., 0., 0., 0., 0., 0., 0., 0., 0.]]),\n",
      "    'bag-pellet-chicken': array([[0., 0., 0., 1., 1., 1., 0., 0., 0., 0., 0., 0., 0.],\n",
      "       [0., 0., 0., 0., 0., 0., 0., 0., 0., 0., 0., 0., 0.],\n",
      "       [0., 0., 0., 0., 0., 0., 1., 1., 1., 0., 0., 0., 0.]]),\n",
      "    'bulk-mesh-chicken': array([[0., 0., 0., 0., 0., 0., 0., 0., 0., 1., 1., 0., 0.],\n",
      "       [0., 0., 0., 0., 0., 0., 0., 0., 0., 0., 0., 1., 1.],\n",
      "       [0., 0., 0., 0., 0., 0., 0., 0., 0., 0., 0., 0., 0.]])}\n"
     ]
    }
   ],
   "source": [
    "pcap_IB = block_diag(*[block_diag(*block)\n",
    "                       for block in _inblock_])  #Product Capacity Inbound Block\n",
    "\n",
    "assert pcap_IB.shape == (\n",
    "    len(factory_list) * len(product_list), sumF\n",
    "), 'Inbound block of product capacity matrix not the right shape'\n",
    "\n",
    "pcap_OB = block_diag(*[block_diag(*block)\n",
    "                       for block in _outblock_])  #Product Capacity Outbound Block\n",
    "\n",
    "assert pcap_OB.shape == (\n",
    "    len(factory_list) * len(product_list), sumFC\n",
    "), 'Outbound block of product capacity matrix not the right shape'\n",
    "\n",
    "### Extract the list of block matrix in product_inblock\n",
    "product_inblock = dict(zip(product_list, np.split(pcap_IB, len(product_list), axis = 0)))\n",
    "print('\\033[1mproduct_inblock = \\033[0m')\n",
    "p(product_inblock)\n",
    "\n",
    "### Extract the list of block matrix in product_outblock\n",
    "product_outblock = dict(zip(product_list, np.split(pcap_OB, len(product_list), axis = 0)))\n",
    "print('\\n\\033[1mproduct_outblock = \\033[0m')\n",
    "p(product_outblock)"
   ]
  },
  {
   "cell_type": "code",
   "execution_count": 18,
   "id": "3a31cd1e",
   "metadata": {
    "pycharm": {
     "name": "#%%\n"
    }
   },
   "outputs": [
    {
     "data": {
      "text/plain": [
       "array([[0., 0., 0., 1., 1., 1., 0., 0., 0., 0., 0., 0., 0.],\n",
       "       [0., 0., 0., 0., 0., 0., 0., 0., 0., 0., 0., 0., 0.],\n",
       "       [0., 0., 0., 0., 0., 0., 1., 1., 1., 0., 0., 0., 0.]])"
      ]
     },
     "execution_count": 18,
     "metadata": {},
     "output_type": "execute_result"
    }
   ],
   "source": [
    "product_outblock['bag-pellet-chicken']"
   ]
  },
  {
   "cell_type": "markdown",
   "id": "57e3b4ce",
   "metadata": {
    "pycharm": {
     "name": "#%% md\n"
    }
   },
   "source": [
    "### Product Supply Matrix"
   ]
  },
  {
   "cell_type": "markdown",
   "id": "311cc33f",
   "metadata": {
    "pycharm": {
     "name": "#%% md\n"
    }
   },
   "source": [
    "This is define similarly to the product capacity matrix, so we're not going to construct this again to save space."
   ]
  },
  {
   "cell_type": "markdown",
   "id": "0e98dfed",
   "metadata": {
    "pycharm": {
     "name": "#%% md\n"
    }
   },
   "source": [
    "### Joint Capacity Matrix"
   ]
  },
  {
   "cell_type": "markdown",
   "id": "caaa3cfa",
   "metadata": {
    "pycharm": {
     "name": "#%% md\n"
    }
   },
   "source": [
    "To do this, we first generate the random combination for capacity"
   ]
  },
  {
   "cell_type": "code",
   "execution_count": 19,
   "id": "9032512e",
   "metadata": {
    "pycharm": {
     "name": "#%%\n"
    }
   },
   "outputs": [],
   "source": [
    "from random import choices"
   ]
  },
  {
   "cell_type": "code",
   "execution_count": 20,
   "id": "712ed435",
   "metadata": {
    "pycharm": {
     "name": "#%%\n"
    },
    "run_control": {
     "marked": false
    },
    "scrolled": false
   },
   "outputs": [
    {
     "name": "stdout",
     "output_type": "stream",
     "text": [
      "\u001b[1mjoint_capacity_combination\u001b[0m = [['bag-crumble-cow', 'bag-pellet-chicken', 'bulk-mesh-chicken'], ['bag-crumble-cow', 'bulk-mesh-chicken'], ['bag-crumble-cow']]\n"
     ]
    }
   ],
   "source": [
    "seed(5)\n",
    "### Generate Random Joint Combination\n",
    "joint_capacity_combination = [\n",
    "    sorted(sample(product_list, k=randint(1, len(product_list)))) for i in range(3)\n",
    "]\n",
    "print(f'\\033[1mjoint_capacity_combination\\033[0m = {joint_capacity_combination}')"
   ]
  },
  {
   "cell_type": "markdown",
   "id": "4309e93c",
   "metadata": {
    "pycharm": {
     "name": "#%% md\n"
    }
   },
   "source": [
    "We create a function to add all the combination together into a matrix"
   ]
  },
  {
   "cell_type": "code",
   "execution_count": 21,
   "id": "639b536b",
   "metadata": {
    "code_folding": [],
    "pycharm": {
     "name": "#%%\n"
    },
    "run_control": {
     "marked": false
    }
   },
   "outputs": [],
   "source": [
    "### Function to add the combination\n",
    "joint_combination_to_matrix = lambda combination, product_block: np.sum(\n",
    "    [product_block[product] for product in combination], axis=0)\n",
    "\n",
    "# Stack each of the submatrix to create one big matrix\n",
    "joint_capacity_outmatrix = np.vstack([\n",
    "    joint_combination_to_matrix(combination, product_outblock)\n",
    "    for combination in joint_capacity_combination\n",
    "])\n",
    "\n",
    "# Now we need to strip the all zeros rows from the matrix,\n",
    "# although we might to do this after we append it with the inbound block\n",
    "joint_capacity_outmatrix = joint_capacity_outmatrix[\n",
    "    ~np.all(joint_capacity_outmatrix == 0, axis=1)]\n",
    "\n",
    "assert joint_capacity_outmatrix.shape[\n",
    "    1] == sumFC, 'Joint Capacity Matrix not the right shape'\n",
    "\n",
    "joint_capacity_inmatrix = np.zeros((joint_capacity_outmatrix.shape[0], sumF))"
   ]
  },
  {
   "cell_type": "code",
   "execution_count": 22,
   "id": "e2f053cd",
   "metadata": {
    "pycharm": {
     "name": "#%%\n"
    }
   },
   "outputs": [
    {
     "data": {
      "text/plain": [
       "array([[0., 0., 0., 0., 0.],\n",
       "       [0., 0., 0., 0., 0.],\n",
       "       [0., 0., 0., 0., 0.],\n",
       "       [0., 0., 0., 0., 0.],\n",
       "       [0., 0., 0., 0., 0.],\n",
       "       [0., 0., 0., 0., 0.]])"
      ]
     },
     "execution_count": 22,
     "metadata": {},
     "output_type": "execute_result"
    }
   ],
   "source": [
    "joint_capacity_inmatrix"
   ]
  },
  {
   "cell_type": "markdown",
   "id": "536229f2",
   "metadata": {
    "pycharm": {
     "name": "#%% md\n"
    }
   },
   "source": [
    "### Joint Supply Matrix"
   ]
  },
  {
   "cell_type": "markdown",
   "id": "410fbf55",
   "metadata": {
    "pycharm": {
     "name": "#%% md\n"
    }
   },
   "source": [
    "The joint supply matrix is defined in similar ways as the joint capacity matrix. The only different is that we now have to repeat the same process for the inbound block. First, we"
   ]
  },
  {
   "cell_type": "code",
   "execution_count": 23,
   "id": "6415c0e6",
   "metadata": {
    "code_folding": [
     2
    ],
    "pycharm": {
     "name": "#%%\n"
    }
   },
   "outputs": [
    {
     "name": "stdout",
     "output_type": "stream",
     "text": [
      "\u001b[1mjoint_supply_combination\u001b[0m = [['bag-pellet-chicken'], ['bulk-mesh-chicken'], ['bag-crumble-cow', 'bag-pellet-chicken']]\n"
     ]
    }
   ],
   "source": [
    "seed(4)\n",
    "### Generate Random Joint Combination\n",
    "joint_supply_combination = [\n",
    "    sorted(sample(product_list, k=randint(1, len(product_list)))) for i in range(3)\n",
    "]\n",
    "print(f'\\033[1mjoint_supply_combination\\033[0m = {joint_supply_combination}')"
   ]
  },
  {
   "cell_type": "code",
   "execution_count": 24,
   "id": "ba574427",
   "metadata": {
    "pycharm": {
     "name": "#%%\n"
    }
   },
   "outputs": [],
   "source": [
    "# Stack each of the submatrix to create one big matrix\n",
    "joint_supply_outmatrix = np.vstack([\n",
    "    joint_combination_to_matrix(combination, product_outblock)\n",
    "    for combination in joint_supply_combination\n",
    "])\n",
    "\n",
    "# Now we need to strip the all zeros rows from the matrix,\n",
    "# although we might to do this after we append it with the inbound block\n",
    "joint_supply_outmatrix = joint_supply_outmatrix[\n",
    "    ~np.all(joint_supply_outmatrix == 0, axis=1)]\n",
    "\n",
    "assert joint_supply_outmatrix.shape[\n",
    "    1] == sumFC, 'Joint Supply Matrix columns dimension not the right shape'"
   ]
  },
  {
   "cell_type": "code",
   "execution_count": 25,
   "id": "c8464708",
   "metadata": {
    "pycharm": {
     "name": "#%%\n"
    },
    "run_control": {
     "marked": false
    }
   },
   "outputs": [],
   "source": [
    "# Stack each of the submatrix to create one big matrix\n",
    "joint_supply_inmatrix = np.vstack([\n",
    "    joint_combination_to_matrix(combination, product_inblock)\n",
    "    for combination in joint_supply_combination\n",
    "])\n",
    "\n",
    "# Now we need to strip the all zeros rows from the matrix,\n",
    "# although we might to do this after we append it with the inbound block\n",
    "joint_supply_inmatrix = joint_supply_inmatrix[\n",
    "    ~np.all(joint_supply_inmatrix == 0, axis=1)]\n",
    "\n",
    "assert joint_supply_inmatrix.shape[\n",
    "    1] == sumF, 'Joint Inbound Supply Matrix columns dimension incorrect'\n",
    "\n",
    "assert joint_supply_inmatrix.shape[0] == joint_supply_outmatrix.shape[\n",
    "    0], 'Joint Supply Matrix row dimension incorrect'"
   ]
  },
  {
   "cell_type": "code",
   "execution_count": 26,
   "id": "78665f7a",
   "metadata": {
    "pycharm": {
     "name": "#%%\n"
    }
   },
   "outputs": [
    {
     "data": {
      "text/plain": [
       "array([[0.  , 0.98, 0.  , 0.  , 0.  ],\n",
       "       [0.  , 0.  , 0.77, 0.  , 0.  ],\n",
       "       [0.  , 0.  , 0.  , 0.79, 0.  ],\n",
       "       [0.  , 0.  , 0.  , 0.  , 0.72],\n",
       "       [0.  , 0.98, 0.  , 0.  , 0.  ],\n",
       "       [0.8 , 0.  , 0.  , 0.  , 0.  ],\n",
       "       [0.  , 0.  , 0.77, 0.  , 0.  ]])"
      ]
     },
     "execution_count": 26,
     "metadata": {},
     "output_type": "execute_result"
    }
   ],
   "source": [
    "joint_supply_inmatrix"
   ]
  },
  {
   "cell_type": "markdown",
   "id": "bf413fe5",
   "metadata": {
    "pycharm": {
     "name": "#%% md\n"
    }
   },
   "source": [
    "# ----------------------------- The End -------------------------------"
   ]
  },
  {
   "cell_type": "raw",
   "id": "c8ea59e8",
   "metadata": {
    "pycharm": {
     "name": "#%% raw\n"
    }
   },
   "source": [
    "\n",
    "\n",
    "\n",
    "\n",
    "\n",
    "\n",
    "\n",
    "\n",
    "\n",
    "\n",
    "\n",
    "\n",
    "\n",
    "\n",
    "\n"
   ]
  }
 ],
 "metadata": {
  "kernelspec": {
   "display_name": "Python 3 (ipykernel)",
   "language": "python",
   "name": "python3"
  },
  "language_info": {
   "codemirror_mode": {
    "name": "ipython",
    "version": 3
   },
   "file_extension": ".py",
   "mimetype": "text/x-python",
   "name": "python",
   "nbconvert_exporter": "python",
   "pygments_lexer": "ipython3",
   "version": "3.9.7"
  },
  "latex_envs": {
   "LaTeX_envs_menu_present": true,
   "autoclose": true,
   "autocomplete": true,
   "bibliofile": "biblio.bib",
   "cite_by": "apalike",
   "current_citInitial": 1,
   "eqLabelWithNumbers": true,
   "eqNumInitial": 1,
   "hotkeys": {
    "equation": "Ctrl-E",
    "itemize": "Ctrl-I"
   },
   "labels_anchors": false,
   "latex_user_defs": false,
   "report_style_numbering": false,
   "user_envs_cfg": false
  }
 },
 "nbformat": 4,
 "nbformat_minor": 5
}
