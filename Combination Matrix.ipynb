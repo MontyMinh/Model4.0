{
 "cells": [
  {
   "cell_type": "code",
   "execution_count": 2,
   "id": "d4c9fc8d",
   "metadata": {
    "run_control": {
     "marked": false
    }
   },
   "outputs": [],
   "source": [
    "import numpy as np\n",
    "from scipy.linalg import block_diag\n",
    "from sympy import Matrix"
   ]
  },
  {
   "cell_type": "markdown",
   "id": "7c2b6ed1",
   "metadata": {},
   "source": [
    "### Generate Combination Matrix"
   ]
  },
  {
   "cell_type": "code",
   "execution_count": 57,
   "id": "1fee0727",
   "metadata": {
    "code_folding": [
     0
    ],
    "run_control": {
     "marked": false
    }
   },
   "outputs": [],
   "source": [
    "def generate_combination_matrices():\n",
    "    \"\"\"\n",
    "    Output to modeldata.py\n",
    "    ----------------------\n",
    "    Data.inbound_combination_matrices: dict\n",
    "        Dictionary of block diagonal matrices containing the production\n",
    "        efficiency of a factory {product: associated matrix}. Each\n",
    "        product corresponds to a matrix with:\n",
    "            - Columns: ∑|F| (total number of factories across all products)\n",
    "            - Rows: # Factories (total number of factories)\n",
    "\n",
    "    Data.outbound_combination_matrices: dict\n",
    "        Dictionary of block diagonal matrices to apply outbound constraints\n",
    "        on a per-factory basis. {product: associated matrix}. Each product\n",
    "        corresponds to a matrix with:\n",
    "            - Column: ∑|FxC| (total number of factories x customers\n",
    "            across all products)\n",
    "            - Rows: # Factories (total\n",
    "            number of factories)\n",
    "    \"\"\"\n",
    "\n",
    "    # Verify inputs type\n",
    "    assert isinstance(\n",
    "        Data.efficiency_per_product,\n",
    "        dict), 'Efficiency per product must be given in a dictionary'\n",
    "    assert isinstance(Data.factory_names,\n",
    "                      dict), 'Factory names must be given in a dictionary'\n",
    "\n",
    "    # Verify inputs values\n",
    "    assert len(Data.factory_list\n",
    "               ) > 0, 'Number of factories to optimize must be positive'\n",
    "    assert np.all(np.hstack(list(Data.efficiency_per_product.values())) > 0\n",
    "                  ), 'Efficiency must be positive'\n",
    "    assert np.all(\n",
    "        np.array([len(prod) for prod in Data.factory_names.values()]) <= len(\n",
    "            Data.factory_list)), 'There are more factory names than allowed'\n",
    "\n",
    "    # Build the combination matrix\n",
    "    \"\"\"\n",
    "    Starting from the inside out, we first iterate over all the product. \n",
    "    For a given product \"p\", we put the corresponding efficiency value  \n",
    "    in the place of the factories that produce the product and [] in the \n",
    "    place of factories that don't. Then, we form each product into a block \n",
    "    using the block_diag function. After which, we build the matrix using \n",
    "    block_diag on all the previous blocks. Lastly, add a negative sign per\n",
    "    the model.\n",
    "    \"\"\"\n",
    "\n",
    "    # Generator to iterate over efficiency elements\n",
    "    efficiency_array = (\n",
    "        eff_arr\n",
    "        for eff_arr in np.hstack(list(Data.efficiency_per_product.values())))\n",
    "\n",
    "    Data.inbound_combination_matrix = -block_diag(*[\n",
    "        block_diag(*block) for block in [[\n",
    "            next(efficiency_array)\n",
    "            if factory in Data.factory_names[product] else []\n",
    "            for factory in Data.factory_list\n",
    "        ] for product in Data.product_list]\n",
    "    ])\n",
    "    \"\"\"\n",
    "    Starting from the inside out, we first iterate over all the product. \n",
    "    For a given product \"p\", we put a list [1 * #customer buying \"p\"] \n",
    "    in the place of the factories that product and [] in the place of \n",
    "    factories that don't. Then, we form each product into a block using\n",
    "    the block_diag function. After which, we build the matrix using \n",
    "    block_diag on all the previous blocks.\n",
    "    \"\"\"\n",
    "\n",
    "    Data.outbound_combination_matrix = block_diag(*[\n",
    "        block_diag(*block)\n",
    "        for block in [\n",
    "            [\n",
    "                [1] * Data.customer_sizes[product]\n",
    "                if factory in Data.factory_names[product] else []\n",
    "                for factory in Data.factory_list]\n",
    "            for product in Data.product_list\n",
    "        ]\n",
    "   ])\n",
    "\n",
    "    # Verify matrix dimension\n",
    "    # Inbound combination matrix dimension == (Σ|C|, Σ#Fx#P)\n",
    "    assert Data.inbound_combination_matrix.shape == (\n",
    "        len(Data.factory_list) * len(Data.product_list), Data.dimF\n",
    "    ), 'Dimension of inbound combination matrix is incorrect (Σ|C|, Σ#Fx#P)'\n",
    "\n",
    "    # Outbound combination matrix dimension == (Σ|FxC|, Σ#Fx#P)\n",
    "    assert Data.outbound_combination_matrix.shape == (\n",
    "        len(Data.factory_list) * len(Data.product_list),\n",
    "        Data.dimFC), 'Dimension of combination matrix is incorrect (Σ|FxC|, ' \\\n",
    "                     'Σ#Fx#P)'\n",
    "\n",
    "    # Split the matrix into dictionary\n",
    "    # Inbound combination dictionary\n",
    "    Data.inbound_combination_matrices = dict(\n",
    "        zip(\n",
    "            Data.product_list,\n",
    "            np.split(Data.inbound_combination_matrix,\n",
    "                     len(Data.product_list),\n",
    "                     axis=0)))\n",
    "\n",
    "    # Outbound combination dictionary\n",
    "    Data.outbound_combination_matrices = dict(\n",
    "        zip(\n",
    "            Data.product_list,\n",
    "            np.split(Data.outbound_combination_matrix,\n",
    "                     len(Data.product_list),\n",
    "                     axis=0)))"
   ]
  },
  {
   "cell_type": "markdown",
   "id": "416c1867",
   "metadata": {},
   "source": [
    "### Unit Test"
   ]
  },
  {
   "cell_type": "code",
   "execution_count": 36,
   "id": "9b0faeb9",
   "metadata": {
    "run_control": {
     "marked": false
    }
   },
   "outputs": [],
   "source": [
    "class Data:\n",
    "    pass"
   ]
  },
  {
   "cell_type": "code",
   "execution_count": 47,
   "id": "edc68e7a",
   "metadata": {
    "code_folding": [],
    "run_control": {
     "marked": false
    }
   },
   "outputs": [],
   "source": [
    "class DataTest:\n",
    "    \"\"\"Class for generating random test inputs and verify that the combination\n",
    "    matrix is constructed correctly\"\"\"\n",
    "\n",
    "    no_products = None\n",
    "    customer_names = None\n",
    "    no_factories = None\n",
    "    no_customers = None\n",
    "\n",
    "    @classmethod\n",
    "    def generate_random_inputs(cls):\n",
    "        \"\"\"Generate random Data inputs\"\"\"\n",
    "\n",
    "        cls.no_customers = np.random.randint(1, 20)\n",
    "        cls.no_factories = np.random.randint(1, 10)\n",
    "        cls.no_products = np.random.randint(1, 10)\n",
    "\n",
    "        if cls.no_customers == 1:\n",
    "            cls.customer_names = dict(\n",
    "                zip(range(cls.no_products), [np.array([0])] * cls.no_products))\n",
    "        else:  # Allow for one customer\n",
    "            cls.customer_names = {\n",
    "                prod: np.sort(\n",
    "                    np.random.choice(np.arange(cls.no_customers),\n",
    "                                     size=np.random.randint(\n",
    "                                         1, cls.no_customers),\n",
    "                                     replace=False))\n",
    "                for prod in range(cls.no_products)\n",
    "            }\n",
    "\n",
    "        if cls.no_factories == 1:\n",
    "            Data.factory_names = dict(\n",
    "                zip(range(cls.no_products), [np.array([0])] * cls.no_products))\n",
    "        else:  # Allow for one factory\n",
    "            Data.factory_names = {\n",
    "                prod: np.sort(\n",
    "                    np.random.choice(np.arange(cls.no_factories),\n",
    "                                     size=np.random.randint(\n",
    "                                         1, cls.no_factories),\n",
    "                                     replace=False))\n",
    "                for prod in range(cls.no_products)\n",
    "            }\n",
    "\n",
    "        # Inputs from Data\n",
    "        Data.factory_list = list(range(cls.no_factories))\n",
    "        Data.product_list = list(range(cls.no_products))\n",
    "\n",
    "        Data.customer_sizes = {\n",
    "            prod: len(cls.customer_names[prod])\n",
    "            for prod in range(cls.no_products)\n",
    "        }\n",
    "\n",
    "        Data.factory_sizes = {\n",
    "            prod: len(Data.factory_names[prod])\n",
    "            for prod in range(cls.no_products)\n",
    "        }\n",
    "\n",
    "        Data.efficiency_per_product = dict(\n",
    "            zip(range(cls.no_products), [\n",
    "                np.random.uniform(0.8, 1, Data.factory_sizes[prod])\n",
    "                for prod in range(cls.no_products)\n",
    "            ]))\n",
    "\n",
    "        Data.dimF = sum(Data.factory_sizes.values())\n",
    "        Data.dimC = sum(Data.customer_sizes.values())\n",
    "\n",
    "        Data.dimFC = sum([\n",
    "            Data.factory_sizes[prod] * Data.customer_sizes[prod]\n",
    "            for prod in range(cls.no_products)\n",
    "        ])\n",
    "\n",
    "    @classmethod\n",
    "    def alternative_combination_matrix(cls):\n",
    "        \"\"\"Construct the combination matrix in an alternative method\"\"\"\n",
    "        \n",
    "        # Alternative Inbound Combination Matrix, \n",
    "        # Here we start by choosing out the appropriate index and \n",
    "        # replace those elements with the efficiency values\n",
    "        DataTest.inbound_combination_matrix = np.zeros(\n",
    "            (cls.no_factories * cls.no_products,\n",
    "             cls.no_factories * cls.no_products))\n",
    "\n",
    "        matrix_index = np.hstack([\n",
    "            cls.no_factories * prod + Data.factory_names[prod]\n",
    "            for prod in Data.product_list\n",
    "        ])\n",
    "\n",
    "        DataTest.inbound_combination_matrix[matrix_index, matrix_index] = np.hstack(\n",
    "            list(Data.efficiency_per_product.values()))\n",
    "\n",
    "        DataTest.inbound_combination_matrix = -DataTest.inbound_combination_matrix[:, ~np.all(\n",
    "            DataTest.inbound_combination_matrix == 0, axis=0)]\n",
    "\n",
    "        # Alternative Outbound Combination Matrix\n",
    "        # Here we just iterate over all the products\n",
    "        # and find out which factories produce and which \n",
    "        # don't. Then we either put [1, ..., 1] or [] as\n",
    "        # appropriate \n",
    "\n",
    "        block_list = []\n",
    "\n",
    "        for prod in Data.product_list:\n",
    "\n",
    "            subblock_list = []\n",
    "\n",
    "            for fac in Data.factory_list:\n",
    "\n",
    "                if fac in Data.factory_names[prod]:\n",
    "                    subblock_list.append([1] * Data.customer_sizes[prod])\n",
    "                else:\n",
    "                    subblock_list.append([])\n",
    "\n",
    "            block_list.append(block_diag(*subblock_list))\n",
    "\n",
    "        DataTest.outbound_combination_matrix = block_diag(*block_list)"
   ]
  },
  {
   "cell_type": "code",
   "execution_count": 48,
   "id": "f9811af5",
   "metadata": {
    "run_control": {
     "marked": false
    }
   },
   "outputs": [],
   "source": [
    "# Generate Random Inputs\n",
    "DataTest.generate_random_inputs()\n",
    "\n",
    "# Generate the combination matrix\n",
    "generate_combination_matrix()\n",
    "\n",
    "# Generate the alternative combination matrix\n",
    "DataTest.alternative_combination_matrix()"
   ]
  },
  {
   "cell_type": "code",
   "execution_count": 56,
   "id": "173f4efd",
   "metadata": {
    "run_control": {
     "marked": false
    },
    "scrolled": true
   },
   "outputs": [
    {
     "data": {
      "text/plain": [
       "True"
      ]
     },
     "execution_count": 56,
     "metadata": {},
     "output_type": "execute_result"
    }
   ],
   "source": [
    "# Check inbound equality\n",
    "np.array_equal(Data.inbound_combination_matrix, DataTest.inbound_combination_matrix)\n",
    "\n",
    "# Check outbound equality\n",
    "np.array_equal(Data.outbound_combination_matrix, DataTest.outbound_combination_matrix)"
   ]
  }
 ],
 "metadata": {
  "kernelspec": {
   "display_name": "Python 3 (ipykernel)",
   "language": "python",
   "name": "python3"
  },
  "language_info": {
   "codemirror_mode": {
    "name": "ipython",
    "version": 3
   },
   "file_extension": ".py",
   "mimetype": "text/x-python",
   "name": "python",
   "nbconvert_exporter": "python",
   "pygments_lexer": "ipython3",
   "version": "3.9.7"
  },
  "latex_envs": {
   "LaTeX_envs_menu_present": true,
   "autoclose": true,
   "autocomplete": true,
   "bibliofile": "biblio.bib",
   "cite_by": "apalike",
   "current_citInitial": 1,
   "eqLabelWithNumbers": true,
   "eqNumInitial": 1,
   "hotkeys": {
    "equation": "Ctrl-E",
    "itemize": "Ctrl-I"
   },
   "labels_anchors": false,
   "latex_user_defs": false,
   "report_style_numbering": false,
   "user_envs_cfg": false
  }
 },
 "nbformat": 4,
 "nbformat_minor": 5
}
