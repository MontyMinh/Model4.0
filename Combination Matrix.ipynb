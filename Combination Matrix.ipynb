{
 "cells": [
  {
   "cell_type": "code",
   "execution_count": 1,
   "id": "d4c9fc8d",
   "metadata": {
    "run_control": {
     "marked": false
    }
   },
   "outputs": [],
   "source": [
    "import numpy as np\n",
    "from scipy.linalg import block_diag\n",
    "from sympy import Matrix\n",
    "from functools import reduce"
   ]
  },
  {
   "cell_type": "markdown",
   "id": "7c2b6ed1",
   "metadata": {
    "heading_collapsed": true
   },
   "source": [
    "### Generate Combination Matrix"
   ]
  },
  {
   "cell_type": "code",
   "execution_count": 2,
   "id": "1fee0727",
   "metadata": {
    "code_folding": [],
    "hidden": true,
    "run_control": {
     "marked": false
    }
   },
   "outputs": [],
   "source": [
    "def generate_combination_matrices():\n",
    "    \"\"\"\n",
    "    Output to modeldata.py\n",
    "    ----------------------\n",
    "    Data.inbound_combination_matrices: dict\n",
    "        Dictionary of block diagonal matrices containing the production\n",
    "        efficiency of a factory {product: associated matrix}. Each\n",
    "        product corresponds to a matrix with:\n",
    "            - Columns: ∑|F| (total number of factories across all products)\n",
    "            - Rows: # Factories (total number of factories)\n",
    "\n",
    "    Data.outbound_combination_matrices: dict\n",
    "        Dictionary of block diagonal matrices to apply outbound constraints\n",
    "        on a per-factory basis. {product: associated matrix}. Each product\n",
    "        corresponds to a matrix with:\n",
    "            - Column: ∑|FxC| (total number of factories x customers\n",
    "            across all products)\n",
    "            - Rows: # Factories (total\n",
    "            number of factories)\n",
    "    \"\"\"\n",
    "\n",
    "    # Verify inputs type\n",
    "    assert isinstance(\n",
    "        Data.efficiency_per_product,\n",
    "        dict), 'Efficiency per product must be given in a dictionary'\n",
    "    assert isinstance(Data.factory_names,\n",
    "                      dict), 'Factory names must be given in a dictionary'\n",
    "\n",
    "    # Verify inputs values\n",
    "    assert len(Data.factory_list\n",
    "               ) > 0, 'Number of factories to optimize must be positive'\n",
    "    assert np.all(np.hstack(list(Data.efficiency_per_product.values())) > 0\n",
    "                  ), 'Efficiency must be positive'\n",
    "    assert np.all(\n",
    "        np.array([len(prod) for prod in Data.factory_names.values()]) <= len(\n",
    "            Data.factory_list)), 'There are more factory names than allowed'\n",
    "\n",
    "    # Build the combination matrix\n",
    "    \"\"\"\n",
    "    Starting from the inside out, we first iterate over all the product. \n",
    "    For a given product \"p\", we put the corresponding efficiency value  \n",
    "    in the place of the factories that produce the product and [] in the \n",
    "    place of factories that don't. Then, we form each product into a block \n",
    "    using the block_diag function. After which, we build the matrix using \n",
    "    block_diag on all the previous blocks. Lastly, add a negative sign per\n",
    "    the model.\n",
    "    \"\"\"\n",
    "\n",
    "    # Generator to iterate over efficiency elements\n",
    "    efficiency_array = (\n",
    "        eff_arr\n",
    "        for eff_arr in np.hstack(list(Data.efficiency_per_product.values())))\n",
    "\n",
    "    Data.inbound_combination_matrix = -block_diag(*[\n",
    "        block_diag(*block) for block in [[\n",
    "            next(efficiency_array)\n",
    "            if factory in Data.factory_names[product] else []\n",
    "            for factory in Data.factory_list\n",
    "        ] for product in Data.product_list]\n",
    "    ])\n",
    "    \"\"\"\n",
    "    Starting from the inside out, we first iterate over all the product. \n",
    "    For a given product \"p\", we put a list [1 * #customer buying \"p\"] \n",
    "    in the place of the factories that product and [] in the place of \n",
    "    factories that don't. Then, we form each product into a block using\n",
    "    the block_diag function. After which, we build the matrix using \n",
    "    block_diag on all the previous blocks.\n",
    "    \"\"\"\n",
    "\n",
    "    Data.outbound_combination_matrix = block_diag(*[\n",
    "        block_diag(*block)\n",
    "        for block in [\n",
    "            [\n",
    "                [1] * Data.customer_sizes[product]\n",
    "                if factory in Data.factory_names[product] else []\n",
    "                for factory in Data.factory_list]\n",
    "            for product in Data.product_list\n",
    "        ]\n",
    "   ])\n",
    "\n",
    "    # Verify matrix dimension\n",
    "    # Inbound combination matrix dimension == (Σ|C|, Σ#Fx#P)\n",
    "    assert Data.inbound_combination_matrix.shape == (\n",
    "        len(Data.factory_list) * len(Data.product_list), Data.dimF\n",
    "    ), 'Dimension of inbound combination matrix is incorrect (Σ|C|, Σ#Fx#P)'\n",
    "\n",
    "    # Outbound combination matrix dimension == (Σ|FxC|, Σ#Fx#P)\n",
    "    assert Data.outbound_combination_matrix.shape == (\n",
    "        len(Data.factory_list) * len(Data.product_list),\n",
    "        Data.dimFC), 'Dimension of combination matrix is incorrect (Σ|FxC|, ' \\\n",
    "                     'Σ#Fx#P)'\n",
    "\n",
    "    # Split the matrix into dictionary\n",
    "    # Inbound combination dictionary\n",
    "    Data.inbound_combination_matrices = dict(\n",
    "        zip(\n",
    "            Data.product_list,\n",
    "            np.split(Data.inbound_combination_matrix,\n",
    "                     len(Data.product_list),\n",
    "                     axis=0)))\n",
    "\n",
    "    # Outbound combination dictionary\n",
    "    Data.outbound_combination_matrices = dict(\n",
    "        zip(\n",
    "            Data.product_list,\n",
    "            np.split(Data.outbound_combination_matrix,\n",
    "                     len(Data.product_list),\n",
    "                     axis=0)))"
   ]
  },
  {
   "cell_type": "markdown",
   "id": "416c1867",
   "metadata": {},
   "source": [
    "### Combination Unit Test"
   ]
  },
  {
   "cell_type": "code",
   "execution_count": 3,
   "id": "9b0faeb9",
   "metadata": {
    "run_control": {
     "marked": false
    }
   },
   "outputs": [],
   "source": [
    "class Data:\n",
    "    pass"
   ]
  },
  {
   "cell_type": "code",
   "execution_count": 4,
   "id": "edc68e7a",
   "metadata": {
    "code_folding": [],
    "run_control": {
     "marked": false
    }
   },
   "outputs": [],
   "source": [
    "class CombinationTest:\n",
    "    \"\"\"Class for generating random test inputs and verify that the combination\n",
    "    matrix is constructed correctly\"\"\"\n",
    "\n",
    "    no_products = None\n",
    "    customer_names = None\n",
    "    no_factories = None\n",
    "    no_customers = None\n",
    "\n",
    "    @classmethod\n",
    "    def generate_random_inputs(cls):\n",
    "        \"\"\"Generate random Data inputs\"\"\"\n",
    "\n",
    "        cls.no_customers = np.random.randint(1, 20)\n",
    "        cls.no_factories = np.random.randint(1, 10)\n",
    "        cls.no_products = np.random.randint(1, 10)\n",
    "\n",
    "        if cls.no_customers == 1:\n",
    "            cls.customer_names = dict(\n",
    "                zip(range(cls.no_products), [np.array([0])] * cls.no_products))\n",
    "        else:  # Allow for one customer\n",
    "            cls.customer_names = {\n",
    "                prod: np.sort(\n",
    "                    np.random.choice(np.arange(cls.no_customers),\n",
    "                                     size=np.random.randint(\n",
    "                                         1, cls.no_customers),\n",
    "                                     replace=False))\n",
    "                for prod in range(cls.no_products)\n",
    "            }\n",
    "\n",
    "        if cls.no_factories == 1:\n",
    "            Data.factory_names = dict(\n",
    "                zip(range(cls.no_products), [np.array([0])] * cls.no_products))\n",
    "        else:  # Allow for one factory\n",
    "            Data.factory_names = {\n",
    "                prod: np.sort(\n",
    "                    np.random.choice(np.arange(cls.no_factories),\n",
    "                                     size=np.random.randint(\n",
    "                                         1, cls.no_factories),\n",
    "                                     replace=False))\n",
    "                for prod in range(cls.no_products)\n",
    "            }\n",
    "\n",
    "        # Inputs from Data\n",
    "        Data.factory_list = list(range(cls.no_factories))\n",
    "        Data.product_list = list(range(cls.no_products))\n",
    "\n",
    "        Data.customer_sizes = {\n",
    "            prod: len(cls.customer_names[prod])\n",
    "            for prod in range(cls.no_products)\n",
    "        }\n",
    "\n",
    "        Data.factory_sizes = {\n",
    "            prod: len(Data.factory_names[prod])\n",
    "            for prod in range(cls.no_products)\n",
    "        }\n",
    "\n",
    "        Data.efficiency_per_product = dict(\n",
    "            zip(range(cls.no_products), [\n",
    "                np.random.uniform(0.8, 1, Data.factory_sizes[prod])\n",
    "                for prod in range(cls.no_products)\n",
    "            ]))\n",
    "\n",
    "        Data.dimF = sum(Data.factory_sizes.values())\n",
    "        Data.dimC = sum(Data.customer_sizes.values())\n",
    "\n",
    "        Data.dimFC = sum([\n",
    "            Data.factory_sizes[prod] * Data.customer_sizes[prod]\n",
    "            for prod in range(cls.no_products)\n",
    "        ])\n",
    "\n",
    "    @classmethod\n",
    "    def alternative_combination_matrix(cls):\n",
    "        \"\"\"Construct the combination matrix in an alternative method\"\"\"\n",
    "        \n",
    "        # Alternative Inbound Combination Matrix, \n",
    "        # Here we start by choosing out the appropriate index and \n",
    "        # replace those elements with the efficiency values\n",
    "        CombinationTest.inbound_combination_matrix = np.zeros(\n",
    "            (cls.no_factories * cls.no_products,\n",
    "             cls.no_factories * cls.no_products))\n",
    "\n",
    "        matrix_index = np.hstack([\n",
    "            cls.no_factories * prod + Data.factory_names[prod]\n",
    "            for prod in Data.product_list\n",
    "        ])\n",
    "\n",
    "        CombinationTest.inbound_combination_matrix[matrix_index, matrix_index] = np.hstack(\n",
    "            list(Data.efficiency_per_product.values()))\n",
    "\n",
    "        CombinationTest.inbound_combination_matrix = -CombinationTest.inbound_combination_matrix[:, ~np.all(\n",
    "            CombinationTest.inbound_combination_matrix == 0, axis=0)]\n",
    "\n",
    "        # Alternative Outbound Combination Matrix\n",
    "        # Here we just iterate over all the products\n",
    "        # and find out which factories produce and which \n",
    "        # don't. Then we either put [1, ..., 1] or [] as\n",
    "        # appropriate \n",
    "\n",
    "        block_list = []\n",
    "\n",
    "        for prod in Data.product_list:\n",
    "\n",
    "            subblock_list = []\n",
    "\n",
    "            for fac in Data.factory_list:\n",
    "\n",
    "                if fac in Data.factory_names[prod]:\n",
    "                    subblock_list.append([1] * Data.customer_sizes[prod])\n",
    "                else:\n",
    "                    subblock_list.append([])\n",
    "\n",
    "            block_list.append(block_diag(*subblock_list))\n",
    "\n",
    "        CombinationTest.outbound_combination_matrix = block_diag(*block_list)"
   ]
  },
  {
   "cell_type": "code",
   "execution_count": 5,
   "id": "f9811af5",
   "metadata": {
    "code_folding": [],
    "run_control": {
     "marked": false
    }
   },
   "outputs": [],
   "source": [
    "# Generate Random Inputs\n",
    "CombinationTest.generate_random_inputs()\n",
    "\n",
    "# Generate the combination matrix\n",
    "generate_combination_matrices()\n",
    "\n",
    "# Generate the alternative combination matrix\n",
    "CombinationTest.alternative_combination_matrix()"
   ]
  },
  {
   "cell_type": "code",
   "execution_count": 6,
   "id": "173f4efd",
   "metadata": {
    "run_control": {
     "marked": false
    },
    "scrolled": false
   },
   "outputs": [
    {
     "data": {
      "text/plain": [
       "True"
      ]
     },
     "execution_count": 6,
     "metadata": {},
     "output_type": "execute_result"
    }
   ],
   "source": [
    "# Check inbound equality\n",
    "np.array_equal(Data.inbound_combination_matrix, CombinationTest.inbound_combination_matrix)\n",
    "\n",
    "# Check outbound equality\n",
    "np.array_equal(Data.outbound_combination_matrix, CombinationTest.outbound_combination_matrix)"
   ]
  },
  {
   "cell_type": "markdown",
   "id": "e3636e53",
   "metadata": {
    "heading_collapsed": true
   },
   "source": [
    "### Generate Capacity Matrix"
   ]
  },
  {
   "cell_type": "code",
   "execution_count": 7,
   "id": "9cfb5e5b",
   "metadata": {
    "hidden": true
   },
   "outputs": [],
   "source": [
    "def generate_capacity_matrix():\n",
    "    \"\"\"\n",
    "    Output to modeldata.py\n",
    "    ----------------------\n",
    "    Data.inbound_capacity_matrix: numpy.ndarray\n",
    "        All zero matrix representing the inbound \n",
    "        section of the joint capacity constraints.\n",
    "        #Rows: Depends on the number constraints and the \n",
    "        intersection of factories in each of the joint combination\n",
    "        #Columns: ∑|F| (total number of factories across all products)\n",
    "        \n",
    "    Data.outbound_capacity_matrix: numpy.ndarray\n",
    "        Sum of the outbound combination matrices, use to represent the \n",
    "        joint constraints on capacity of factories. For example, to\n",
    "        limit the capacity of bulk + bag, we add the bulk matrix to\n",
    "        the bag matrix.\n",
    "        #Rows: Depends on the number constraints and the \n",
    "        intersection of factories in each of the joint combination,\n",
    "        but will be the same as the inbound capacity matrix.\n",
    "        #Columns: ∑|FxC| (total number of factories x customers \n",
    "        across all products)\n",
    "\n",
    "    Data.capacity_matrix: numpy.ndarray\n",
    "        Capacity matrix to realize the factories' production capacity,\n",
    "        made by concatenating the inbound and outbound capacity matrix.\n",
    "        \n",
    "    \"\"\"\n",
    "\n",
    "    # Verify inputs types\n",
    "    assert isinstance(Data.capacity_constraints,\n",
    "                      list), 'Capacity constraints must be in a list'\n",
    "\n",
    "    assert isinstance(\n",
    "        Data.inbound_combination_matrices,\n",
    "        dict), 'Inbound combination matrices must be in a dictionary'\n",
    "\n",
    "    assert isinstance(\n",
    "        Data.outbound_combination_matrices,\n",
    "        dict), 'Outbound combination matrices must be in a dictionary'\n",
    "\n",
    "    # Verify for the case cap_cons = []\n",
    "    assert len(Data.capacity_constraints\n",
    "               ) > 0, 'At least one capacity constraints must be defined'\n",
    "\n",
    "    # Verify for the case cap_cons = [[1, 2], []] (The [] is not allowed)\n",
    "    assert np.all(\n",
    "        np.array([len(cons) for cons in Data.capacity_constraints]) > 0\n",
    "    ), 'Capacity constraints cannot be empty'\n",
    "\n",
    "    # Verify for the case cap_cons = [[1, 2], [1, 2]] (the [1, 2] cannot repeat)\n",
    "    # and also that order doesn't matter ([1, 2] is equivalent to [2, 1])\n",
    "    orderless_capacity_constraints = [\n",
    "        sorted(cons) for cons in Data.capacity_constraints\n",
    "    ]\n",
    "\n",
    "    assert len({\n",
    "        tuple(cons)\n",
    "        for cons in orderless_capacity_constraints\n",
    "    }) == len(orderless_capacity_constraints\n",
    "              ), 'Capacity constraints (in any order) cannot repeat'\n",
    "\n",
    "    # Verify for the case cap_cons = [[1, 2], [0, 0]] (the [0, 0] is not allowed)\n",
    "    assert np.all(\n",
    "        np.array([len(set(cons)) for cons in Data.capacity_constraints]) ==\n",
    "        np.array([len(cons) for cons in Data.capacity_constraints])\n",
    "    ), 'A single product combination cannot appear more than once in one constraints'\n",
    "\n",
    "    # Verify that the capacity combinations are in the original product_list\n",
    "    assert set(reduce(lambda a, b: a + b, Data.capacity_constraints)).issubset(\n",
    "        set(Data.product_list)), (\n",
    "            'Capacity combinations list not valid. ' +\n",
    "            'Some products are not in the defined product list')\n",
    "\n",
    "    # Build the capacity matrix\n",
    "    # First build the outbound matrix by adding up all the capacity constraints\n",
    "    Data.outbound_capacity_matrix = np.vstack([\n",
    "        np.sum(\n",
    "            [Data.outbound_combination_matrices[prod] for prod in combination],\n",
    "            axis=0) for combination in Data.capacity_constraints\n",
    "    ])\n",
    "    # Strip away all-zeros rows\n",
    "    Data.outbound_capacity_matrix = Data.outbound_capacity_matrix[\n",
    "        ~np.all(Data.outbound_capacity_matrix == 0, axis=1)]\n",
    "\n",
    "    # Then we build the all zero inbound matrix with the same number of rows\n",
    "    # as the outbound matrix\n",
    "    Data.inbound_capacity_matrix = np.zeros(\n",
    "        (Data.outbound_capacity_matrix.shape[0], Data.dimF))\n",
    "\n",
    "    # Verify output dimensions\n",
    "    # Find the number of distinct factories over all the capacity constraints\n",
    "    row_dim = sum([\n",
    "        len(\n",
    "            reduce(lambda a, b: a.union(b),\n",
    "                   [set(Data.factory_names[prod]) for prod in cons]))\n",
    "        for cons in Data.capacity_constraints\n",
    "    ])\n",
    "\n",
    "    # Outbound capacity dimension == (row_dim, Σ|FxC|)\n",
    "    assert Data.outbound_capacity_matrix.shape == (\n",
    "        row_dim, Data.dimFC\n",
    "    ), 'Dimension of outbound capacity matrix is incorrect (row_dim, Σ|FxC|)'"
   ]
  },
  {
   "cell_type": "code",
   "execution_count": 8,
   "id": "f087ba8e",
   "metadata": {
    "code_folding": [],
    "hidden": true,
    "run_control": {
     "marked": true
    }
   },
   "outputs": [
    {
     "name": "stdout",
     "output_type": "stream",
     "text": [
      "[[0], [1], [0, 1]]\n"
     ]
    },
    {
     "data": {
      "text/plain": [
       "(3, 10)"
      ]
     },
     "execution_count": 8,
     "metadata": {},
     "output_type": "execute_result"
    }
   ],
   "source": [
    "Data.capacity_constraints = [list(cons) for cons in {tuple(sorted(np.random.choice(Data.product_list,\n",
    "                     size=np.random.randint(1,\n",
    "                                            len(Data.product_list) + 1),\n",
    "                     replace=False).tolist())) for i in range(20)}]\n",
    "\n",
    "print(Data.capacity_constraints)\n",
    "\n",
    "generate_capacity_matrix()\n",
    "\n",
    "Data.outbound_capacity_matrix.shape"
   ]
  },
  {
   "cell_type": "markdown",
   "id": "a0e33715",
   "metadata": {
    "heading_collapsed": true
   },
   "source": [
    "### Capacity Unit Testing"
   ]
  },
  {
   "cell_type": "code",
   "execution_count": 9,
   "id": "fd01c9ee",
   "metadata": {
    "hidden": true
   },
   "outputs": [],
   "source": [
    "class CombinationTest:\n",
    "    \"\"\"Class for generating random test inputs and verify that the capacity\n",
    "    matrix is constructed correctly\"\"\"\n",
    "    @classmethod\n",
    "    def generate_random_inputs(cls):\n",
    "        \"\"\"Generate random Data inputs\"\"\"\n",
    "\n",
    "        cls.no_customers = np.random.randint(1, 20)\n",
    "        cls.no_factories = np.random.randint(1, 10)\n",
    "        cls.no_products = np.random.randint(1, 10)\n",
    "\n",
    "        if cls.no_customers == 1:\n",
    "            cls.customer_names = dict(\n",
    "                zip(range(cls.no_products), [np.array([0])] * cls.no_products))\n",
    "        else:  # Allow for one customer\n",
    "            cls.customer_names = {\n",
    "                prod: np.sort(\n",
    "                    np.random.choice(np.arange(cls.no_customers),\n",
    "                                     size=np.random.randint(\n",
    "                                         1, cls.no_customers),\n",
    "                                     replace=False))\n",
    "                for prod in range(cls.no_products)\n",
    "            }\n",
    "\n",
    "        if cls.no_factories == 1:\n",
    "            Data.factory_names = dict(\n",
    "                zip(range(cls.no_products), [np.array([0])] * cls.no_products))\n",
    "        else:  # Allow for one factory\n",
    "            Data.factory_names = {\n",
    "                prod: np.sort(\n",
    "                    np.random.choice(np.arange(cls.no_factories),\n",
    "                                     size=np.random.randint(\n",
    "                                         1, cls.no_factories),\n",
    "                                     replace=False))\n",
    "                for prod in range(cls.no_products)\n",
    "            }\n",
    "\n",
    "        # Inputs from Data\n",
    "        Data.factory_list = list(range(cls.no_factories))\n",
    "        Data.product_list = list(range(cls.no_products))\n",
    "\n",
    "        Data.customer_sizes = {\n",
    "            prod: len(cls.customer_names[prod])\n",
    "            for prod in range(cls.no_products)\n",
    "        }\n",
    "\n",
    "        Data.factory_sizes = {\n",
    "            prod: len(Data.factory_names[prod])\n",
    "            for prod in range(cls.no_products)\n",
    "        }\n",
    "\n",
    "        Data.efficiency_per_product = dict(\n",
    "            zip(range(cls.no_products), [\n",
    "                np.random.uniform(0.8, 1, Data.factory_sizes[prod])\n",
    "                for prod in range(cls.no_products)\n",
    "            ]))\n",
    "\n",
    "        Data.dimF = sum(Data.factory_sizes.values())\n",
    "        Data.dimC = sum(Data.customer_sizes.values())\n",
    "\n",
    "        Data.dimFC = sum([\n",
    "            Data.factory_sizes[prod] * Data.customer_sizes[prod]\n",
    "            for prod in range(cls.no_products)\n",
    "        ])\n",
    "\n",
    "        Data.capacity_constraints = [\n",
    "            list(cons) for cons in {\n",
    "                tuple(\n",
    "                    sorted(\n",
    "                        np.random.choice(Data.product_list,\n",
    "                                         size=np.random.randint(\n",
    "                                             1,\n",
    "                                             len(Data.product_list) + 1),\n",
    "                                         replace=False).tolist()))\n",
    "                for i in range(20)\n",
    "            }\n",
    "        ]\n",
    "\n",
    "    @classmethod\n",
    "    def alternative_capacity_matrix(cls):\n",
    "        \"\"\"Construct the capacity matrix in an alternative method\"\"\"\n",
    "\n",
    "        # Alternative Outbound capacity Matrix\n",
    "        # Here we just iterate over all the products\n",
    "        # and find out which factories produce and which\n",
    "        # don't. Then we either put [1, ..., 1] or [] as\n",
    "        # appropriate\n",
    "\n",
    "        block_list = []\n",
    "\n",
    "        for prod in Data.product_list:\n",
    "\n",
    "            subblock_list = []\n",
    "\n",
    "            for fac in Data.factory_list:\n",
    "\n",
    "                if fac in Data.factory_names[prod]:\n",
    "                    subblock_list.append([1] * Data.customer_sizes[prod])\n",
    "                else:\n",
    "                    subblock_list.append([])\n",
    "\n",
    "            block_list.append(block_diag(*subblock_list))\n",
    "\n",
    "        CombinationTest.outbound_capacity_matrix = block_diag(*block_list)"
   ]
  },
  {
   "cell_type": "code",
   "execution_count": 10,
   "id": "e5ef2e39",
   "metadata": {
    "hidden": true
   },
   "outputs": [
    {
     "name": "stdout",
     "output_type": "stream",
     "text": [
      "[[0, 1], [1], [0]]\n"
     ]
    },
    {
     "data": {
      "text/plain": [
       "(3, 10)"
      ]
     },
     "execution_count": 10,
     "metadata": {},
     "output_type": "execute_result"
    }
   ],
   "source": [
    "Data.capacity_constraints = [list(cons) for cons in {tuple(sorted(np.random.choice(Data.product_list,\n",
    "                     size=np.random.randint(1,\n",
    "                                            len(Data.product_list) + 1),\n",
    "                     replace=False).tolist())) for i in range(20)}]\n",
    "\n",
    "print(Data.capacity_constraints)\n",
    "\n",
    "generate_capacity_matrix()\n",
    "\n",
    "Data.outbound_capacity_matrix.shape"
   ]
  },
  {
   "cell_type": "code",
   "execution_count": 11,
   "id": "32a58712",
   "metadata": {
    "hidden": true
   },
   "outputs": [],
   "source": [
    "for cons in Data.capacity_constraints[:2]:\n",
    "    \n",
    "    block_list = []\n",
    "    \n",
    "    # Iterate over the product    \n",
    "    for prod in cons:\n",
    "\n",
    "        subblock_list = []\n",
    "\n",
    "        # Iterate over the factory the list\n",
    "        for fac in Data.factory_list:\n",
    "\n",
    "            if fac in Data.factory_names[prod]:\n",
    "                subblock_list.append([1] * Data.customer_sizes[prod])\n",
    "            else:\n",
    "                subblock_list.append([])\n",
    "\n",
    "        block_list.append(block_diag(*subblock_list))\n",
    "\n",
    "CombinationTest.outbound_capacity_matrix = block_diag(*block_list)"
   ]
  },
  {
   "cell_type": "markdown",
   "id": "e6536790",
   "metadata": {},
   "source": [
    "### Generate Supply Matrix"
   ]
  },
  {
   "cell_type": "code",
   "execution_count": 53,
   "id": "7ae87b68",
   "metadata": {
    "code_folding": [
     0
    ]
   },
   "outputs": [],
   "source": [
    "def generate_supply_matrix():\n",
    "    \"\"\"\n",
    "    Output to modeldata.py\n",
    "    ----------------------\n",
    "    Data.inbound_supply_matrix: numpy.ndarray\n",
    "        Sum of the inbound combination matrices, use to represent the \n",
    "        joint constraints on supply of factories. For example, to\n",
    "        limit the inbound supply of bulk + bag, we add the bulk matrix \n",
    "        to the bag matrix.\n",
    "        #Rows: Depends on the number constraints and the \n",
    "        intersection of factories in each of the joint combination,\n",
    "        but will be the same as the outbound supply matrix.\n",
    "        #Columns: ∑|F| (total number of factories across all products)\n",
    "        \n",
    "    Data.outbound_supply_matrix: numpy.ndarray\n",
    "        Sum of the outbound combination matrices, use to represent the \n",
    "        joint constraints on supply of factories. For example, to\n",
    "        limit the outbound supply of bulk + bag, we add the bulk matrix \n",
    "        to the bag matrix.\n",
    "        #Rows: Depends on the number constraints and the \n",
    "        intersection of factories in each of the joint combination,\n",
    "        but will be the same as the inbound supply matrix.\n",
    "        #Columns: ∑|FxC| (total number of factories x customers \n",
    "        across all products)\n",
    "\n",
    "    Data.supply_matrix: numpy.ndarray\n",
    "        Supply matrix to realize the factories' production supply,\n",
    "        made by concatenating the inbound and outbound supply matrix.\n",
    "        \n",
    "    \"\"\"\n",
    "\n",
    "    # Verify inputs types\n",
    "    assert isinstance(\n",
    "        Data.inbound_combination_matrices,\n",
    "        dict), 'Inbound combination matrices must be in a dictionary'\n",
    "\n",
    "    assert isinstance(\n",
    "        Data.outbound_combination_matrices,\n",
    "        dict), 'Outbound combination matrices must be in a dictionary'\n",
    "    \n",
    "    assert isinstance(Data.supply_constraints,\n",
    "                  list), 'Supply constraints must be in a list'\n",
    "\n",
    "    # Verify for the case sup_cons = []\n",
    "    assert len(Data.supply_constraints\n",
    "               ) > 0, 'At least one supply constraints must be defined'\n",
    "\n",
    "    # Verify for the case sup_cons = [[1, 2], []] (The [] is not allowed)\n",
    "    assert np.all(\n",
    "        np.array([len(cons) for cons in Data.supply_constraints]) > 0\n",
    "    ), 'supply constraints cannot be empty'\n",
    "\n",
    "    # Verify for the case sup_cons = [[1, 2], [1, 2]] (the [1, 2] cannot repeat)\n",
    "    # and also that order doesn't matter ([1, 2] is equivalent to [2, 1])\n",
    "    orderless_supply_constraints = [\n",
    "        sorted(cons) for cons in Data.supply_constraints\n",
    "    ]\n",
    "\n",
    "    assert len({\n",
    "        tuple(cons)\n",
    "        for cons in orderless_supply_constraints\n",
    "    }) == len(orderless_supply_constraints\n",
    "              ), 'supply constraints (in any order) cannot repeat'\n",
    "\n",
    "    # Verify for the case sup_cons = [[1, 2], [0, 0]] (the [0, 0] is not allowed)\n",
    "    assert np.all(\n",
    "        np.array([len(set(cons)) for cons in Data.supply_constraints]) ==\n",
    "        np.array([len(cons) for cons in Data.supply_constraints])\n",
    "    ), 'A single product combination cannot appear more than once in one constraints'\n",
    "\n",
    "    # Verify that the supply combinations are in the original product_list\n",
    "    assert set(reduce(lambda a, b: a + b, Data.supply_constraints)).issubset(\n",
    "        set(Data.product_list)), (\n",
    "            'supply combinations list not valid. ' +\n",
    "            'Some products are not in the defined product list')\n",
    "\n",
    "    # Build the supply matrix\n",
    "    # First build the inbound matrix by adding up all the supply constraints\n",
    "    Data.inbound_supply_matrix = np.vstack([\n",
    "        np.sum(\n",
    "            [Data.inbound_combination_matrices[prod] for prod in combination],\n",
    "            axis=0) for combination in Data.supply_constraints\n",
    "    ])\n",
    "    # Strip away all-zeros rows\n",
    "    Data.inbound_supply_matrix = Data.inbound_supply_matrix[\n",
    "        ~np.all(Data.inbound_supply_matrix == 0, axis=1)]\n",
    "    \n",
    "    # Then build the outbound matrix by adding up all the supply constraints\n",
    "    Data.outbound_supply_matrix = np.vstack([\n",
    "        np.sum(\n",
    "            [Data.outbound_combination_matrices[prod] for prod in combination],\n",
    "            axis=0) for combination in Data.supply_constraints\n",
    "    ])\n",
    "    # Strip away all-zeros rows\n",
    "    Data.outbound_supply_matrix = Data.outbound_supply_matrix[\n",
    "        ~np.all(Data.outbound_supply_matrix == 0, axis=1)]\n",
    "\n",
    "    # Verify output dimensions\n",
    "    # Find the number of distinct factories over all the supply constraints\n",
    "    Data.supply_rows = sum([\n",
    "        len(\n",
    "            reduce(lambda a, b: a.union(b),\n",
    "                   [set(Data.factory_names[prod]) for prod in cons]))\n",
    "        for cons in Data.supply_constraints\n",
    "    ])\n",
    "    \n",
    "    # Inbound supply dimension == (Data.supply_rows, Σ|F|)\n",
    "    assert Data.inbound_supply_matrix.shape == (\n",
    "        Data.supply_rows, Data.dimF\n",
    "    ), 'Dimension of inbound supply matrix is incorrect (Data.supply_rows, Σ|F|)'\n",
    "\n",
    "    # Outbound supply dimension == (Data.supply_rows, Σ|FxC|)\n",
    "    assert Data.outbound_supply_matrix.shape == (\n",
    "        Data.supply_rows, Data.dimFC\n",
    "    ), 'Dimension of outbound supply matrix is incorrect (Data.supply_rows, Σ|FxC|)'"
   ]
  },
  {
   "cell_type": "code",
   "execution_count": 32,
   "id": "a8786ba8",
   "metadata": {
    "scrolled": false
   },
   "outputs": [
    {
     "name": "stdout",
     "output_type": "stream",
     "text": [
      "Data.product_list = [0, 1, 2, 3, 4]\n",
      "Data.supply_constraints = [[3], [0, 1, 2, 3, 4], [2]]\n"
     ]
    },
    {
     "data": {
      "text/plain": [
       "(12, 45)"
      ]
     },
     "execution_count": 32,
     "metadata": {},
     "output_type": "execute_result"
    }
   ],
   "source": [
    "# Generate random inputs\n",
    "CombinationTest.generate_random_inputs()\n",
    "\n",
    "# Generate combination matrices\n",
    "generate_combination_matrices()\n",
    "\n",
    "# Generate supply matrix\n",
    "Data.supply_constraints = [list(cons) for cons in {tuple(sorted(np.random.choice(Data.product_list,\n",
    "                     size=np.random.randint(1,\n",
    "                                            len(Data.product_list) + 1),\n",
    "                     replace=False).tolist())) for i in range(3)}]\n",
    "\n",
    "print(f'{Data.product_list = }')\n",
    "print(f'{Data.supply_constraints = }')\n",
    "\n",
    "generate_supply_matrix()\n",
    "\n",
    "Data.outbound_supply_matrix.shape"
   ]
  },
  {
   "cell_type": "code",
   "execution_count": 45,
   "id": "146798fc",
   "metadata": {
    "scrolled": false
   },
   "outputs": [
    {
     "data": {
      "text/latex": [
       "$\\displaystyle \\left[\\begin{array}{cccccccccccccccc}0 & 0 & 0 & 0 & 0 & 0 & 0 & 0 & 0 & 0 & 0 & -0.818660055709895 & 0 & 0 & 0 & 0\\\\0 & 0 & 0 & 0 & 0 & 0 & 0 & 0 & 0 & 0 & 0 & -0.818660055709895 & -0.858938797583911 & 0 & 0 & 0\\\\0 & 0 & 0 & 0 & 0 & 0 & -0.978029657025989 & 0 & 0 & 0 & 0 & 0 & 0 & -0.980140213901404 & 0 & 0\\\\-0.800758349376712 & 0 & 0 & 0 & -0.864210726372562 & 0 & 0 & -0.967620145079729 & 0 & 0 & 0 & 0 & 0 & 0 & 0 & 0\\\\0 & -0.885299021665606 & 0 & 0 & 0 & -0.982176186517967 & 0 & 0 & -0.984461340038404 & 0 & 0 & 0 & 0 & 0 & 0 & 0\\\\0 & 0 & -0.989242950527851 & 0 & 0 & 0 & 0 & 0 & 0 & -0.977197954700976 & 0 & 0 & 0 & 0 & -0.947801956066782 & 0\\\\0 & 0 & 0 & -0.919090842108429 & 0 & 0 & 0 & 0 & 0 & 0 & -0.985220457530595 & 0 & 0 & 0 & 0 & -0.88932144273101\\\\0 & 0 & 0 & 0 & 0 & 0 & -0.978029657025989 & 0 & 0 & 0 & 0 & 0 & 0 & 0 & 0 & 0\\\\0 & 0 & 0 & 0 & 0 & 0 & 0 & -0.967620145079729 & 0 & 0 & 0 & 0 & 0 & 0 & 0 & 0\\\\0 & 0 & 0 & 0 & 0 & 0 & 0 & 0 & -0.984461340038404 & 0 & 0 & 0 & 0 & 0 & 0 & 0\\\\0 & 0 & 0 & 0 & 0 & 0 & 0 & 0 & 0 & -0.977197954700976 & 0 & 0 & 0 & 0 & 0 & 0\\\\0 & 0 & 0 & 0 & 0 & 0 & 0 & 0 & 0 & 0 & -0.985220457530595 & 0 & 0 & 0 & 0 & 0\\end{array}\\right]$"
      ],
      "text/plain": [
       "Matrix([\n",
       "[                 0,                  0,                  0,                  0,                  0,                  0,                  0,                  0,                  0,                  0,                  0, -0.818660055709895,                  0,                  0,                  0,                 0],\n",
       "[                 0,                  0,                  0,                  0,                  0,                  0,                  0,                  0,                  0,                  0,                  0, -0.818660055709895, -0.858938797583911,                  0,                  0,                 0],\n",
       "[                 0,                  0,                  0,                  0,                  0,                  0, -0.978029657025989,                  0,                  0,                  0,                  0,                  0,                  0, -0.980140213901404,                  0,                 0],\n",
       "[-0.800758349376712,                  0,                  0,                  0, -0.864210726372562,                  0,                  0, -0.967620145079729,                  0,                  0,                  0,                  0,                  0,                  0,                  0,                 0],\n",
       "[                 0, -0.885299021665606,                  0,                  0,                  0, -0.982176186517967,                  0,                  0, -0.984461340038404,                  0,                  0,                  0,                  0,                  0,                  0,                 0],\n",
       "[                 0,                  0, -0.989242950527851,                  0,                  0,                  0,                  0,                  0,                  0, -0.977197954700976,                  0,                  0,                  0,                  0, -0.947801956066782,                 0],\n",
       "[                 0,                  0,                  0, -0.919090842108429,                  0,                  0,                  0,                  0,                  0,                  0, -0.985220457530595,                  0,                  0,                  0,                  0, -0.88932144273101],\n",
       "[                 0,                  0,                  0,                  0,                  0,                  0, -0.978029657025989,                  0,                  0,                  0,                  0,                  0,                  0,                  0,                  0,                 0],\n",
       "[                 0,                  0,                  0,                  0,                  0,                  0,                  0, -0.967620145079729,                  0,                  0,                  0,                  0,                  0,                  0,                  0,                 0],\n",
       "[                 0,                  0,                  0,                  0,                  0,                  0,                  0,                  0, -0.984461340038404,                  0,                  0,                  0,                  0,                  0,                  0,                 0],\n",
       "[                 0,                  0,                  0,                  0,                  0,                  0,                  0,                  0,                  0, -0.977197954700976,                  0,                  0,                  0,                  0,                  0,                 0],\n",
       "[                 0,                  0,                  0,                  0,                  0,                  0,                  0,                  0,                  0,                  0, -0.985220457530595,                  0,                  0,                  0,                  0,                 0]])"
      ]
     },
     "execution_count": 45,
     "metadata": {},
     "output_type": "execute_result"
    }
   ],
   "source": [
    "Matrix(Data.inbound_supply_matrix)"
   ]
  }
 ],
 "metadata": {
  "kernelspec": {
   "display_name": "Python 3 (ipykernel)",
   "language": "python",
   "name": "python3"
  },
  "language_info": {
   "codemirror_mode": {
    "name": "ipython",
    "version": 3
   },
   "file_extension": ".py",
   "mimetype": "text/x-python",
   "name": "python",
   "nbconvert_exporter": "python",
   "pygments_lexer": "ipython3",
   "version": "3.9.7"
  },
  "latex_envs": {
   "LaTeX_envs_menu_present": true,
   "autoclose": true,
   "autocomplete": true,
   "bibliofile": "biblio.bib",
   "cite_by": "apalike",
   "current_citInitial": 1,
   "eqLabelWithNumbers": true,
   "eqNumInitial": 1,
   "hotkeys": {
    "equation": "Ctrl-E",
    "itemize": "Ctrl-I"
   },
   "labels_anchors": false,
   "latex_user_defs": false,
   "report_style_numbering": false,
   "user_envs_cfg": false
  }
 },
 "nbformat": 4,
 "nbformat_minor": 5
}
