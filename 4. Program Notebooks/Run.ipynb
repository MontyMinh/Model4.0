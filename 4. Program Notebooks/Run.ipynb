{
 "cells": [
  {
   "cell_type": "code",
   "execution_count": 1,
   "id": "1ce06a11",
   "metadata": {
    "run_control": {
     "marked": true
    }
   },
   "outputs": [
    {
     "name": "stdout",
     "output_type": "stream",
     "text": [
      "Define a file path to the Excel input file\n",
      "Define a file path to save the Excel output file\n",
      "\n",
      "Data.filepath = \n",
      "Results.save_location = \n"
     ]
    }
   ],
   "source": [
    "import sys\n",
    "sys.path.append('C:\\\\Users\\\\monty.minh\\\\Documents\\\\Optimizer\\\\')\n",
    "\n",
    "from model.program import *\n",
    "\n",
    "Data.filepath = 'C:/Users/monty.minh/Documents/Optimizer/0. Inputs/Inputs Example.xlsm'\n",
    "Results.save_location = 'C:/Users/monty.minh/Documents/Optimizer/6. Results/Results.xlsx'\n",
    "\n",
    "execute()"
   ]
  },
  {
   "cell_type": "code",
   "execution_count": 2,
   "id": "3bc437ba",
   "metadata": {
    "run_control": {
     "marked": true
    },
    "scrolled": true
   },
   "outputs": [],
   "source": [
    "from sympy import Matrix\n",
    "\n",
    "from model.preprocessing import *\n",
    "from model.optimization import *\n",
    "from model.postprocessing import *"
   ]
  },
  {
   "cell_type": "code",
   "execution_count": null,
   "id": "468a5250",
   "metadata": {
    "run_control": {
     "marked": false
    },
    "scrolled": true
   },
   "outputs": [],
   "source": [
    "def execute():\n",
    "    \"\"\"Execute the Optimizer from end to end\"\"\"\n",
    "\n",
    "    # Get timeframe\n",
    "    get_timeframe()\n",
    "\n",
    "    for Data.year in range(Data.timeframe[0], Data.timeframe[1]+1):\n",
    "\n",
    "        # Run program\n",
    "        preprocess()  # preprocessing\n",
    "        optimize()  # optimization\n",
    "        postprocess()  # postprocess\n",
    "\n",
    "        # Free up memory\n",
    "        free_memory()\n",
    "\n",
    "    # Save data\n",
    "    save_to_excel()"
   ]
  }
 ],
 "metadata": {
  "kernelspec": {
   "display_name": "Python 3 (ipykernel)",
   "language": "python",
   "name": "python3"
  },
  "language_info": {
   "codemirror_mode": {
    "name": "ipython",
    "version": 3
   },
   "file_extension": ".py",
   "mimetype": "text/x-python",
   "name": "python",
   "nbconvert_exporter": "python",
   "pygments_lexer": "ipython3",
   "version": "3.9.7"
  },
  "latex_envs": {
   "LaTeX_envs_menu_present": true,
   "autoclose": true,
   "autocomplete": true,
   "bibliofile": "biblio.bib",
   "cite_by": "apalike",
   "current_citInitial": 1,
   "eqLabelWithNumbers": true,
   "eqNumInitial": 1,
   "hotkeys": {
    "equation": "Ctrl-E",
    "itemize": "Ctrl-I"
   },
   "labels_anchors": false,
   "latex_user_defs": false,
   "report_style_numbering": false,
   "user_envs_cfg": false
  }
 },
 "nbformat": 4,
 "nbformat_minor": 5
}
