{
 "cells": [
  {
   "cell_type": "code",
   "execution_count": 13,
   "id": "3f8d1ab4",
   "metadata": {
    "pycharm": {
     "name": "#%%\n"
    }
   },
   "outputs": [],
   "source": [
    "import numpy as np"
   ]
  },
  {
   "cell_type": "code",
   "execution_count": null,
   "id": "35008b1d",
   "metadata": {
    "pycharm": {
     "name": "#%%\n"
    }
   },
   "outputs": [],
   "source": []
  },
  {
   "cell_type": "markdown",
   "id": "ab8ca754",
   "metadata": {
    "pycharm": {
     "name": "#%% md\n"
    }
   },
   "source": [
    "### modeldata.py"
   ]
  },
  {
   "cell_type": "code",
   "execution_count": 18,
   "id": "132238b9",
   "metadata": {
    "pycharm": {
     "name": "#%%\n"
    }
   },
   "outputs": [],
   "source": [
    "class DataTest:\n",
    "\n",
    "    pass"
   ]
  },
  {
   "cell_type": "code",
   "execution_count": null,
   "id": "59749596",
   "metadata": {
    "pycharm": {
     "name": "#%%\n"
    }
   },
   "outputs": [],
   "source": [
    "def generate_objective_vector():\n",
    "    \"\"\"\n",
    "    Output to modeldata.py\n",
    "    -----------------\n",
    "    DataTest.inbound_cost_vector: numpy.ndarray\n",
    "        Dimension: ΣF_u (total number of factories across all products)\n",
    "        Major Order: 1.product, 2.factory   \n",
    "        \n",
    "    DataTest.outbound_cost_vector: numpy.ndarray\n",
    "        Dimension: Σ(FxC)_u (total number of (factories x customers) across \n",
    "        all products)\n",
    "        Major Order: 1.product, 2.factory, 3.customer\n",
    "        \n",
    "    DataTest.objective_vector: numpy.ndarray\n",
    "        Objective vector to minimize function value\n",
    "        \n",
    "    \"\"\"\n",
    "\n",
    "    # Verify inputs\n",
    "    assert isinstance(DataTest.inbound_cost_per_product,\n",
    "                      dict), 'Inbound costs must be positive'\n",
    "    assert isinstance(DataTest.outbound_cost_per_product,\n",
    "                      dict), 'Outbound costs must be positive'\n",
    "\n",
    "    # Reshape dictionary inputs into vectors\n",
    "    ## Unpack inbound cost dictionary and stack into row vector\n",
    "    DataTest.inbound_cost_vector = np.hstack(\n",
    "        list(DataTest.inbound_cost_per_product.values()))\n",
    "\n",
    "    ## Unpack outbound cost dictionary in factory-then-customer major\n",
    "    DataTest.outbound_cost_vector = np.hstack(\n",
    "        [prod.flatten('F') for prod in outbound_cost_per_product.values()])\n",
    "\n",
    "    # Verify vector dimensions\n",
    "    ## Inbound cost vector dimension = (∑|F|)\n",
    "    assert DataTest.inbound_cost_vector.shape == (\n",
    "        DataTest.dimF,), 'Dimension of the inbound cost vector is incorrect (∑|F|)'\n",
    "    \n",
    "    ## Outbound cost vector dimension = (∑|FxC|)\n",
    "    assert DataTest.outbound_cost_vector.shape == (\n",
    "        DataTest.dimFC,), 'Dimension of the outbound cost vector is incorrect (∑|FxC|)'\n",
    "    \n",
    "    # Horizontally stack inbound and outbound cost into row vectors\n",
    "    DataTest.objective_vector = np.hstack(DataTest.inbound_cost_vector,\n",
    "                                      DataTest.outbound_cost_per_product)"
   ]
  },
  {
   "cell_type": "code",
   "execution_count": null,
   "id": "5e04fe06",
   "metadata": {
    "pycharm": {
     "name": "#%%\n"
    }
   },
   "outputs": [],
   "source": []
  },
  {
   "cell_type": "markdown",
   "id": "6c105159",
   "metadata": {
    "pycharm": {
     "name": "#%% md\n"
    }
   },
   "source": [
    "# Unit Test"
   ]
  },
  {
   "cell_type": "code",
   "execution_count": null,
   "id": "a48c34d3",
   "metadata": {
    "pycharm": {
     "name": "#%%\n"
    }
   },
   "outputs": [],
   "source": [
    "import random\n",
    "import numpy as np\n",
    "\n",
    "class DataTest:\n",
    "    pass\n",
    "\n",
    "def random_inputs():\n",
    "    \"\"\"\n",
    "    Generate random inputs for objective vector unit test\n",
    "    \n",
    "    For inbound cost vector, we first generate the \n",
    "    vector and split it into subvectors per product.\n",
    "    \n",
    "    For outbound cost vector, we first randomize the\n",
    "    rectangular dimension. Then we generate a random\n",
    "    vector and split it back into rectangular matrices\n",
    "    with column - row major.\n",
    "    \n",
    "    \"\"\"\n",
    "\n",
    "    # Inbound Cost Vector\n",
    "    DataTest.inbound_cost_vector = np.random.rand(np.random.randint(20, 100))\n",
    "\n",
    "    split_index_in = np.sort(\n",
    "        np.random.choice(np.arange(len(inbound_cost_vector)),\n",
    "                         np.random.randint(5, 10),\n",
    "                         replace=False))\n",
    "\n",
    "    DataTest.inbound_cost_per_product = dict(\n",
    "        zip(np.arange(len(split_index_in) + 1),\n",
    "            np.hsplit(inbound_cost_vector, split_index_in)))\n",
    "\n",
    "    # Outbound Cost Vector\n",
    "    dimension_split = [\n",
    "        np.random.randint(1, 6, 2) for _ in range(np.random.randint(3, 10))\n",
    "    ]\n",
    "\n",
    "    split_index_out = np.cumsum(np.product(np.vstack(dimension_split), axis=1))\n",
    "\n",
    "    DataTest.outbound_cost_vector = np.random.rand(split_index_out[-1])\n",
    "\n",
    "    DataTest.outbound_cost_per_product = dict([\n",
    "        (index, prod.reshape(*dimension_split[index], order='F'))\n",
    "        for index, prod in enumerate(\n",
    "            np.split(DataTest.outbound_cost_vector, split_index_out[:-1]))\n",
    "    ])\n",
    "\n",
    "random_inputs()\n",
    "\n",
    "DataTest.inbound_cost_vector"
   ]
  },
  {
   "cell_type": "markdown",
   "id": "abc6d2b7",
   "metadata": {},
   "source": [
    "# Unit Test"
   ]
  },
  {
   "cell_type": "code",
   "execution_count": 1,
   "id": "b7c455fb",
   "metadata": {},
   "outputs": [
    {
     "name": "stdout",
     "output_type": "stream",
     "text": [
      "True\n"
     ]
    }
   ],
   "source": [
    "import unittest\n",
    "import numpy as np\n",
    "import sys # Get the path to the \"model\" directory\n",
    "sys.path.append(\"C:\\\\Users\\\\monty.minh\\\\Documents\\\\Model4.0\")\n",
    "\n",
    "from model.modeldata import Data\n",
    "\n",
    "class DataTest:\n",
    "\n",
    "    \"\"\"Class for generating random test inputs\"\"\"\n",
    "\n",
    "    inbound_cost_vector, outbound_cost_vector = None, None\n",
    "    objective_vector = None\n",
    "\n",
    "    @classmethod\n",
    "    def generate_random_inputs(cls):\n",
    "        \"\"\"\n",
    "        Generate random inputs for objective vector unit test\n",
    "\n",
    "        For inbound cost vector, we first generate the\n",
    "        vector and split it into subvectors per product.\n",
    "\n",
    "        For outbound cost vector, we first randomize the\n",
    "        rectangular dimension. Then we generate a random\n",
    "        vector and split it back into rectangular matrices\n",
    "        with column - row major.\n",
    "\n",
    "        Finally, we concatenate them to form the objective vector.\n",
    "\n",
    "        \"\"\"\n",
    "\n",
    "        # Inbound Cost Vector\n",
    "        cls.inbound_cost_vector = np.random.rand(np.random.randint(20, 100))\n",
    "\n",
    "        Data.dimF = len(cls.inbound_cost_vector) # number of factor-product\n",
    "\n",
    "        split_index_in = np.sort(\n",
    "            np.random.choice(np.arange(len(cls.inbound_cost_vector)),\n",
    "                             np.random.randint(5, 10),\n",
    "                             replace=False))\n",
    "\n",
    "        Data.inbound_cost_per_product = dict(\n",
    "            zip(np.arange(len(split_index_in) + 1),\n",
    "                np.hsplit(cls.inbound_cost_vector, split_index_in)))\n",
    "\n",
    "        # Outbound Cost Vector\n",
    "        dimension_split = [\n",
    "            np.random.randint(1, 6, 2) for _ in range(np.random.randint(3, 10))\n",
    "        ]\n",
    "\n",
    "        split_index_out = np.cumsum(np.product(np.vstack(dimension_split), axis=1))\n",
    "\n",
    "        cls.outbound_cost_vector = np.random.rand(split_index_out[-1])\n",
    "\n",
    "        Data.dimFC = len(cls.outbound_cost_vector)\n",
    "\n",
    "        Data.outbound_cost_per_product = dict([\n",
    "            (index, prod.reshape(*dimension_split[index], order='F'))\n",
    "            for index, prod in enumerate(\n",
    "                np.split(cls.outbound_cost_vector, split_index_out[:-1]))\n",
    "        ])\n",
    "\n",
    "        cls.objective_vector = np.hstack([cls.inbound_cost_vector, cls.outbound_cost_vector])\n",
    "\n",
    "\n",
    "DataTest.generate_random_inputs()\n",
    "\n",
    "from model.optimization import generate_objective_vector\n",
    "\n",
    "# Construct the correct vector\n",
    "generate_objective_vector()\n",
    "\n",
    "print(np.allclose(DataTest.objective_vector, Data.objective_vector))  # add assertion here"
   ]
  },
  {
   "cell_type": "code",
   "execution_count": 5,
   "id": "ca30f2eb",
   "metadata": {},
   "outputs": [
    {
     "data": {
      "text/plain": [
       "array([0.13278474, 0.55694927, 0.70325832, 0.58101775, 0.38509161,\n",
       "       0.19865377, 0.75971951, 0.37981679, 0.5525538 , 0.90412365,\n",
       "       0.85534774, 0.33034279, 0.73577422, 0.71618477, 0.72680428,\n",
       "       0.21475105, 0.23223239, 0.50407513, 0.54878818, 0.44986013,\n",
       "       0.1344642 , 0.21505341, 0.80322431, 0.81804626, 0.78241719,\n",
       "       0.56092765, 0.16297857, 0.57943509, 0.1871713 , 0.69382905,\n",
       "       0.47979985, 0.98197189, 0.1875003 , 0.46598883, 0.62566072,\n",
       "       0.56499045, 0.37530388, 0.35370183, 0.02259378, 0.17411284,\n",
       "       0.10362042, 0.73622505, 0.63225726, 0.75686959, 0.4566424 ,\n",
       "       0.83006667, 0.73473766, 0.05518415, 0.00791941, 0.37586026,\n",
       "       0.86297349, 0.28937837, 0.35378558, 0.97879876, 0.0424848 ,\n",
       "       0.27076914, 0.1485657 , 0.67163639, 0.46175646, 0.14370354,\n",
       "       0.20788226, 0.25224138, 0.82856902, 0.83144693, 0.84504076,\n",
       "       0.13298469, 0.77039367, 0.54616986, 0.6199392 , 0.69658148,\n",
       "       0.43577487, 0.75882072, 0.62870077, 0.13077342, 0.98432066,\n",
       "       0.88850251, 0.28018264, 0.97067927, 0.87717037, 0.59845064,\n",
       "       0.61156375, 0.53364127, 0.1572126 , 0.76473531, 0.77609652,\n",
       "       0.39293593, 0.31409653, 0.97379719, 0.0978593 , 0.1239901 ,\n",
       "       0.87752611, 0.16695541, 0.14344365, 0.57889811, 0.04464025])"
      ]
     },
     "execution_count": 5,
     "metadata": {},
     "output_type": "execute_result"
    }
   ],
   "source": [
    "DataTest.objective_vector"
   ]
  },
  {
   "cell_type": "code",
   "execution_count": 6,
   "id": "1e29d9ea",
   "metadata": {},
   "outputs": [
    {
     "data": {
      "text/plain": [
       "array([0.13278474226941195, 0.5569492738981985, 0.7032583187039803,\n",
       "       0.5810177501822693, 0.3850916108700667, 0.1986537681710162,\n",
       "       0.7597195075407461, 0.37981679478916397, 0.5525538032295109,\n",
       "       0.9041236538087241, 0.8553477393266316, 0.3303427895177562,\n",
       "       0.7357742224739368, 0.716184767500497, 0.7268042799678509,\n",
       "       0.21475105179311083, 0.23223238614294772, 0.5040751318025342,\n",
       "       0.5487881835756883, 0.4498601301671048, 0.13446419770930995,\n",
       "       0.21505340558451314, 0.8032243077288832, 0.8180462645323477,\n",
       "       0.7824171856845822, 0.5609276451040139, 0.16297857267087923,\n",
       "       0.579435094043023, 0.1871712977209824, 0.6938290548013196,\n",
       "       0.4797998515116473, 0.9819718878726441, 0.18750030065160628,\n",
       "       0.46598882691006216, 0.6256607227093356, 0.5649904548616165,\n",
       "       {0: array([[0.37530388, 0.17411284, 0.63225726, 0.83006667, 0.00791941],\n",
       "              [0.35370183, 0.10362042, 0.75686959, 0.73473766, 0.37586026],\n",
       "              [0.02259378, 0.73622505, 0.4566424 , 0.05518415, 0.86297349]]), 1: array([[0.28937837, 0.35378558, 0.97879876]]), 2: array([[0.0424848 , 0.27076914, 0.1485657 ]]), 3: array([[0.67163639, 0.46175646]]), 4: array([[0.14370354, 0.84504076],\n",
       "              [0.20788226, 0.13298469],\n",
       "              [0.25224138, 0.77039367],\n",
       "              [0.82856902, 0.54616986],\n",
       "              [0.83144693, 0.6199392 ]]), 5: array([[0.69658148, 0.62870077, 0.88850251],\n",
       "              [0.43577487, 0.13077342, 0.28018264],\n",
       "              [0.75882072, 0.98432066, 0.97067927]]), 6: array([[0.87717037, 0.1572126 ],\n",
       "              [0.59845064, 0.76473531],\n",
       "              [0.61156375, 0.77609652],\n",
       "              [0.53364127, 0.39293593]]), 7: array([[0.31409653, 0.1239901 , 0.14344365],\n",
       "              [0.97379719, 0.87752611, 0.57889811],\n",
       "              [0.0978593 , 0.16695541, 0.04464025]])}                                                                                                                                                                                                      ],\n",
       "      dtype=object)"
      ]
     },
     "execution_count": 6,
     "metadata": {},
     "output_type": "execute_result"
    }
   ],
   "source": [
    "Data.objective_vector"
   ]
  },
  {
   "cell_type": "code",
   "execution_count": null,
   "id": "31471803",
   "metadata": {},
   "outputs": [],
   "source": []
  }
 ],
 "metadata": {
  "kernelspec": {
   "display_name": "Python 3 (ipykernel)",
   "language": "python",
   "name": "python3"
  },
  "language_info": {
   "codemirror_mode": {
    "name": "ipython",
    "version": 3
   },
   "file_extension": ".py",
   "mimetype": "text/x-python",
   "name": "python",
   "nbconvert_exporter": "python",
   "pygments_lexer": "ipython3",
   "version": "3.9.7"
  },
  "latex_envs": {
   "LaTeX_envs_menu_present": true,
   "autoclose": true,
   "autocomplete": true,
   "bibliofile": "biblio.bib",
   "cite_by": "apalike",
   "current_citInitial": 1,
   "eqLabelWithNumbers": true,
   "eqNumInitial": 1,
   "hotkeys": {
    "equation": "Ctrl-E",
    "itemize": "Ctrl-I"
   },
   "labels_anchors": false,
   "latex_user_defs": false,
   "report_style_numbering": false,
   "user_envs_cfg": false
  }
 },
 "nbformat": 4,
 "nbformat_minor": 5
}
