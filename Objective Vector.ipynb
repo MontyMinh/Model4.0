{
 "cells": [
  {
   "cell_type": "code",
   "execution_count": 13,
   "id": "3f8d1ab4",
   "metadata": {
    "pycharm": {
     "name": "#%%\n"
    }
   },
   "outputs": [],
   "source": [
    "import numpy as np"
   ]
  },
  {
   "cell_type": "code",
   "execution_count": null,
   "id": "35008b1d",
   "metadata": {
    "pycharm": {
     "name": "#%%\n"
    }
   },
   "outputs": [],
   "source": []
  },
  {
   "cell_type": "markdown",
   "id": "ab8ca754",
   "metadata": {
    "pycharm": {
     "name": "#%% md\n"
    }
   },
   "source": [
    "### modeldata.py"
   ]
  },
  {
   "cell_type": "code",
   "execution_count": 18,
   "id": "132238b9",
   "metadata": {
    "pycharm": {
     "name": "#%%\n"
    }
   },
   "outputs": [],
   "source": [
    "class CombinationTest:\n",
    "\n",
    "    pass"
   ]
  },
  {
   "cell_type": "code",
   "execution_count": null,
   "id": "59749596",
   "metadata": {
    "pycharm": {
     "name": "#%%\n"
    }
   },
   "outputs": [],
   "source": [
    "def generate_objective_vector():\n",
    "    \"\"\"\n",
    "    Output to modeldata.py\n",
    "    -----------------\n",
    "    CombinationTest.inbound_cost_vector: numpy.ndarray\n",
    "        Dimension: ΣF_u (total number of factories across all products)\n",
    "        Major Order: 1.product, 2.factory   \n",
    "        \n",
    "    CombinationTest.outbound_cost_vector: numpy.ndarray\n",
    "        Dimension: Σ(FxC)_u (total number of (factories x customers) across \n",
    "        all products)\n",
    "        Major Order: 1.product, 2.factory, 3.customer\n",
    "        \n",
    "    CombinationTest.objective_vector: numpy.ndarray\n",
    "        Objective vector to minimize function value\n",
    "        \n",
    "    \"\"\"\n",
    "\n",
    "    # Verify inputs\n",
    "    assert isinstance(CombinationTest.inbound_cost_per_product,\n",
    "                      dict), 'Inbound costs must be positive'\n",
    "    assert isinstance(CombinationTest.outbound_cost_per_product,\n",
    "                      dict), 'Outbound costs must be positive'\n",
    "\n",
    "    # Reshape dictionary inputs into vectors\n",
    "    ## Unpack inbound cost dictionary and stack into row vector\n",
    "    CombinationTest.inbound_cost_vector = np.hstack(\n",
    "        list(CombinationTest.inbound_cost_per_product.values()))\n",
    "\n",
    "    ## Unpack outbound cost dictionary in factory-then-customer major\n",
    "    CombinationTest.outbound_cost_vector = np.hstack(\n",
    "        [prod.flatten('F') for prod in outbound_cost_per_product.values()])\n",
    "\n",
    "    # Verify vector dimensions\n",
    "    ## Inbound cost vector dimension = (∑|F|)\n",
    "    assert CombinationTest.inbound_cost_vector.shape == (\n",
    "        CombinationTest.dimF,), 'Dimension of the inbound cost vector is incorrect (∑|F|)'\n",
    "    \n",
    "    ## Outbound cost vector dimension = (∑|FxC|)\n",
    "    assert CombinationTest.outbound_cost_vector.shape == (\n",
    "        CombinationTest.dimFC,), 'Dimension of the outbound cost vector is incorrect (∑|FxC|)'\n",
    "    \n",
    "    # Horizontally stack inbound and outbound cost into row vectors\n",
    "    CombinationTest.objective_vector = np.hstack(CombinationTest.inbound_cost_vector,\n",
    "                                      CombinationTest.outbound_cost_per_product)"
   ]
  },
  {
   "cell_type": "code",
   "execution_count": null,
   "id": "5e04fe06",
   "metadata": {
    "pycharm": {
     "name": "#%%\n"
    }
   },
   "outputs": [],
   "source": []
  },
  {
   "cell_type": "markdown",
   "id": "6c105159",
   "metadata": {
    "pycharm": {
     "name": "#%% md\n"
    }
   },
   "source": [
    "# Unit Test"
   ]
  },
  {
   "cell_type": "code",
   "execution_count": null,
   "id": "a48c34d3",
   "metadata": {
    "pycharm": {
     "name": "#%%\n"
    }
   },
   "outputs": [],
   "source": [
    "import random\n",
    "import numpy as np\n",
    "\n",
    "class CombinationTest:\n",
    "    pass\n",
    "\n",
    "def random_inputs():\n",
    "    \"\"\"\n",
    "    Generate random inputs for objective vector unit test\n",
    "    \n",
    "    For inbound cost vector, we first generate the \n",
    "    vector and split it into subvectors per product.\n",
    "    \n",
    "    For outbound cost vector, we first randomize the\n",
    "    rectangular dimension. Then we generate a random\n",
    "    vector and split it back into rectangular matrices\n",
    "    with column - row major.\n",
    "    \n",
    "    \"\"\"\n",
    "\n",
    "    # Inbound Cost Vector\n",
    "    CombinationTest.inbound_cost_vector = np.random.rand(np.random.randint(20, 100))\n",
    "\n",
    "    split_index_in = np.sort(\n",
    "        np.random.choice(np.arange(len(inbound_cost_vector)),\n",
    "                         np.random.randint(5, 10),\n",
    "                         replace=False))\n",
    "\n",
    "    CombinationTest.inbound_cost_per_product = dict(\n",
    "        zip(np.arange(len(split_index_in) + 1),\n",
    "            np.hsplit(inbound_cost_vector, split_index_in)))\n",
    "\n",
    "    # Outbound Cost Vector\n",
    "    dimension_split = [\n",
    "        np.random.randint(1, 6, 2) for _ in range(np.random.randint(3, 10))\n",
    "    ]\n",
    "\n",
    "    split_index_out = np.cumsum(np.product(np.vstack(dimension_split), axis=1))\n",
    "\n",
    "    CombinationTest.outbound_cost_vector = np.random.rand(split_index_out[-1])\n",
    "\n",
    "    CombinationTest.outbound_cost_per_product = dict([\n",
    "        (index, prod.reshape(*dimension_split[index], order='F'))\n",
    "        for index, prod in enumerate(\n",
    "            np.split(CombinationTest.outbound_cost_vector, split_index_out[:-1]))\n",
    "    ])\n",
    "\n",
    "random_inputs()\n",
    "\n",
    "CombinationTest.inbound_cost_vector"
   ]
  },
  {
   "cell_type": "markdown",
   "id": "abc6d2b7",
   "metadata": {},
   "source": [
    "# Unit Test"
   ]
  },
  {
   "cell_type": "code",
   "execution_count": 1,
   "id": "6c44c160",
   "metadata": {},
   "outputs": [
    {
     "name": "stdout",
     "output_type": "stream",
     "text": [
      "True\n"
     ]
    }
   ],
   "source": [
    "import unittest\n",
    "import numpy as np\n",
    "import sys # Get the path to the \"model\" directory\n",
    "sys.path.append(\"C:\\\\Users\\\\monty.minh\\\\Documents\\\\Model4.0\")\n",
    "\n",
    "from model.modeldata import Data\n",
    "\n",
    "class CombinationTest:\n",
    "\n",
    "    \"\"\"Class for generating random test inputs\"\"\"\n",
    "\n",
    "    inbound_cost_vector, outbound_cost_vector = None, None\n",
    "    objective_vector = None\n",
    "\n",
    "    @classmethod\n",
    "    def generate_random_inputs(cls):\n",
    "        \"\"\"\n",
    "        Generate random inputs for objective vector unit test\n",
    "\n",
    "        For inbound cost vector, we first generate the\n",
    "        vector and split it into subvectors per product.\n",
    "\n",
    "        For outbound cost vector, we first randomize the\n",
    "        rectangular dimension. Then we generate a random\n",
    "        vector and split it back into rectangular matrices\n",
    "        with column - row major.\n",
    "\n",
    "        Finally, we concatenate them to form the objective vector.\n",
    "\n",
    "        \"\"\"\n",
    "\n",
    "        # Inbound Cost Vector\n",
    "        cls.inbound_cost_vector = np.random.rand(np.random.randint(20, 100))\n",
    "\n",
    "        Data.dimF = len(cls.inbound_cost_vector) # number of factor-product\n",
    "\n",
    "        split_index_in = np.sort(\n",
    "            np.random.choice(np.arange(len(cls.inbound_cost_vector)),\n",
    "                             np.random.randint(5, 10),\n",
    "                             replace=False))\n",
    "\n",
    "        Data.inbound_cost_per_product = dict(\n",
    "            zip(np.arange(len(split_index_in) + 1),\n",
    "                np.hsplit(cls.inbound_cost_vector, split_index_in)))\n",
    "\n",
    "        # Outbound Cost Vector\n",
    "        dimension_split = [\n",
    "            np.random.randint(1, 6, 2) for _ in range(np.random.randint(3, 10))\n",
    "        ]\n",
    "\n",
    "        split_index_out = np.cumsum(np.product(np.vstack(dimension_split), axis=1))\n",
    "\n",
    "        cls.outbound_cost_vector = np.random.rand(split_index_out[-1])\n",
    "\n",
    "        Data.dimFC = len(cls.outbound_cost_vector)\n",
    "\n",
    "        Data.outbound_cost_per_product = dict([\n",
    "            (index, prod.reshape(*dimension_split[index], order='F'))\n",
    "            for index, prod in enumerate(\n",
    "                np.split(cls.outbound_cost_vector, split_index_out[:-1]))\n",
    "        ])\n",
    "\n",
    "        cls.objective_vector = np.hstack([cls.inbound_cost_vector, cls.outbound_cost_vector])\n",
    "\n",
    "\n",
    "CombinationTest.generate_random_inputs()\n",
    "\n",
    "from model.optimization import generate_objective_vector\n",
    "\n",
    "# Construct the correct vector\n",
    "generate_objective_vector()\n",
    "\n",
    "print(np.allclose(CombinationTest.objective_vector, Data.objective_vector))  # add assertion here"
   ]
  },
  {
   "cell_type": "code",
   "execution_count": 3,
   "id": "0fc3878b",
   "metadata": {},
   "outputs": [
    {
     "data": {
      "text/plain": [
       "array([0.00494214, 0.08133621, 0.10665478, 0.83310247, 0.17817693,\n",
       "       0.409946  , 0.51778213, 0.4878678 , 0.45748472, 0.62850761,\n",
       "       0.51545208, 0.80967097, 0.5988829 , 0.00395513, 0.05675436,\n",
       "       0.88926625, 0.46317643, 0.66318874, 0.48597732, 0.58001788,\n",
       "       0.89021193, 0.83088689, 0.46956399, 0.43753164, 0.49460912,\n",
       "       0.85546457, 0.00870893, 0.65469893, 0.91523785, 0.45403575,\n",
       "       0.29046123, 0.11212766, 0.49849775, 0.69751159, 0.76541942,\n",
       "       0.3649799 , 0.25831392, 0.66408852, 0.29024384, 0.92451769,\n",
       "       0.96177216, 0.97140152, 0.44391174, 0.82373923, 0.97958572,\n",
       "       0.01080865, 0.3356328 , 0.00633978, 0.30205194, 0.58154032,\n",
       "       0.92567648, 0.27710088, 0.235046  , 0.23206798, 0.80562778])"
      ]
     },
     "execution_count": 3,
     "metadata": {},
     "output_type": "execute_result"
    }
   ],
   "source": [
    "CombinationTest.objective_vector"
   ]
  },
  {
   "cell_type": "code",
   "execution_count": 2,
   "id": "99401217",
   "metadata": {},
   "outputs": [
    {
     "data": {
      "text/plain": [
       "array([0.00494214, 0.08133621, 0.10665478, 0.83310247, 0.17817693,\n",
       "       0.409946  , 0.51778213, 0.4878678 , 0.45748472, 0.62850761,\n",
       "       0.51545208, 0.80967097, 0.5988829 , 0.00395513, 0.05675436,\n",
       "       0.88926625, 0.46317643, 0.66318874, 0.48597732, 0.58001788,\n",
       "       0.89021193, 0.83088689, 0.46956399, 0.43753164, 0.49460912,\n",
       "       0.85546457, 0.00870893, 0.65469893, 0.91523785, 0.45403575,\n",
       "       0.29046123, 0.11212766, 0.49849775, 0.69751159, 0.76541942,\n",
       "       0.3649799 , 0.25831392, 0.66408852, 0.29024384, 0.92451769,\n",
       "       0.96177216, 0.97140152, 0.44391174, 0.82373923, 0.97958572,\n",
       "       0.01080865, 0.3356328 , 0.00633978, 0.30205194, 0.58154032,\n",
       "       0.92567648, 0.27710088, 0.235046  , 0.23206798, 0.80562778])"
      ]
     },
     "execution_count": 2,
     "metadata": {},
     "output_type": "execute_result"
    }
   ],
   "source": [
    "Data.objective_vector"
   ]
  }
 ],
 "metadata": {
  "kernelspec": {
   "display_name": "Python 3 (ipykernel)",
   "language": "python",
   "name": "python3"
  },
  "language_info": {
   "codemirror_mode": {
    "name": "ipython",
    "version": 3
   },
   "file_extension": ".py",
   "mimetype": "text/x-python",
   "name": "python",
   "nbconvert_exporter": "python",
   "pygments_lexer": "ipython3",
   "version": "3.9.7"
  },
  "latex_envs": {
   "LaTeX_envs_menu_present": true,
   "autoclose": true,
   "autocomplete": true,
   "bibliofile": "biblio.bib",
   "cite_by": "apalike",
   "current_citInitial": 1,
   "eqLabelWithNumbers": true,
   "eqNumInitial": 1,
   "hotkeys": {
    "equation": "Ctrl-E",
    "itemize": "Ctrl-I"
   },
   "labels_anchors": false,
   "latex_user_defs": false,
   "report_style_numbering": false,
   "user_envs_cfg": false
  }
 },
 "nbformat": 4,
 "nbformat_minor": 5
}
