{
 "cells": [
  {
   "cell_type": "code",
   "execution_count": 13,
   "id": "3f8d1ab4",
   "metadata": {
    "pycharm": {
     "name": "#%%\n"
    }
   },
   "outputs": [],
   "source": [
    "import numpy as np"
   ]
  },
  {
   "cell_type": "code",
   "execution_count": null,
   "id": "35008b1d",
   "metadata": {
    "pycharm": {
     "name": "#%%\n"
    }
   },
   "outputs": [],
   "source": []
  },
  {
   "cell_type": "markdown",
   "id": "ab8ca754",
   "metadata": {
    "pycharm": {
     "name": "#%% md\n"
    }
   },
   "source": [
    "### modeldata.py"
   ]
  },
  {
   "cell_type": "code",
   "execution_count": 18,
   "id": "132238b9",
   "metadata": {
    "pycharm": {
     "name": "#%%\n"
    }
   },
   "outputs": [],
   "source": [
    "class Data:\n",
    "\n",
    "    pass"
   ]
  },
  {
   "cell_type": "code",
   "execution_count": 19,
   "id": "7612e670",
   "metadata": {
    "run_control": {
     "marked": false
    },
    "pycharm": {
     "name": "#%%\n"
    }
   },
   "outputs": [],
   "source": [
    "def generate_objective_vector():\n",
    "    \"\"\"\n",
    "    Output to modeldata.py\n",
    "    -----------------\n",
    "    Data.inbound_cost_vector: numpy.ndarray\n",
    "        Dimension: ΣF_u (total number of factories across all products)\n",
    "        Major Order: 1.product, 2.factory   \n",
    "        \n",
    "    Data.outbound_cost_vector: numpy.ndarray\n",
    "        Dimension: Σ(FxC)_u (total number of (factories x customers) across \n",
    "        all products)\n",
    "        Major Order: 1.product, 2.factory, 3.customer\n",
    "        \n",
    "    Data.objective_vector: numpy.ndarray\n",
    "        Objective vector to minimize function value\n",
    "        \n",
    "    \"\"\"\n",
    "\n",
    "    # Verify inputs\n",
    "    assert isinstance(Data.inbound_cost_per_product,\n",
    "                      dict), 'Inbound costs must be positive'\n",
    "    assert isinstance(Data.outbound_cost_per_product,\n",
    "                      dict), 'Outbound costs must be positive'\n",
    "\n",
    "    # Reshape dictionary inputs into vectors\n",
    "    ## Unpack inbound cost dictionary and stack into row vector\n",
    "    Data.inbound_cost_vector = np.hstack(\n",
    "        list(Data.inbound_cost_per_product.values()))\n",
    "\n",
    "    ## Unpack outbound cost dictionary in factory-then-customer major\n",
    "    Data.outbound_cost_vector = np.hstack(\n",
    "        [prod.flatten('F') for prod in outbound_cost_per_product.values()])\n",
    "\n",
    "    # Verify vector dimensions\n",
    "    ## Inbound cost vector dimension = (∑|F|)\n",
    "    assert Data.inbound_cost_vector.shape == (\n",
    "        Data.dimF,), 'Dimension of the inbound cost vector is incorrect (∑|F|)'\n",
    "    \n",
    "    ## Outbound cost vector dimension = (∑|FxC|)\n",
    "    assert Data.outbound_cost_vector.shape == (\n",
    "        Data.dimFC,), 'Dimension of the outbound cost vector is incorrect (∑|FxC|)'\n",
    "    \n",
    "    # Horizontally stack inbound and outbound cost into row vectors\n",
    "    Data.objective_vector = np.hstack(Data.inbound_cost_vector,\n",
    "                                      Data.outbound_cost_per_product)"
   ]
  }
 ],
 "metadata": {
  "kernelspec": {
   "display_name": "Python 3 (ipykernel)",
   "language": "python",
   "name": "python3"
  },
  "language_info": {
   "codemirror_mode": {
    "name": "ipython",
    "version": 3
   },
   "file_extension": ".py",
   "mimetype": "text/x-python",
   "name": "python",
   "nbconvert_exporter": "python",
   "pygments_lexer": "ipython3",
   "version": "3.9.7"
  },
  "latex_envs": {
   "LaTeX_envs_menu_present": true,
   "autoclose": true,
   "autocomplete": true,
   "bibliofile": "biblio.bib",
   "cite_by": "apalike",
   "current_citInitial": 1,
   "eqLabelWithNumbers": true,
   "eqNumInitial": 1,
   "hotkeys": {
    "equation": "Ctrl-E",
    "itemize": "Ctrl-I"
   },
   "labels_anchors": false,
   "latex_user_defs": false,
   "report_style_numbering": false,
   "user_envs_cfg": false
  }
 },
 "nbformat": 4,
 "nbformat_minor": 5
}