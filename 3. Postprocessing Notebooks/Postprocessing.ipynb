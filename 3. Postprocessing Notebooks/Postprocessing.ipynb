{
 "cells": [
  {
   "cell_type": "code",
   "execution_count": 1,
   "id": "6eb867e3",
   "metadata": {},
   "outputs": [
    {
     "name": "stdout",
     "output_type": "stream",
     "text": [
      "Define a file path to the Excel input file\n",
      "Define a file path to save the Excel output file\n",
      "\n",
      "Data.filepath = \n",
      "Results.save_location = \n"
     ]
    }
   ],
   "source": [
    "import sys\n",
    "sys.path.append('C:\\\\Users\\\\monty.minh\\\\Documents\\\\Optimizer\\\\')\n",
    "\n",
    "from sympy import Matrix\n",
    "\n",
    "from model.data import *\n",
    "from model.preprocessing import *\n",
    "from model.optimization import *"
   ]
  },
  {
   "cell_type": "code",
   "execution_count": 2,
   "id": "3cc88029",
   "metadata": {},
   "outputs": [],
   "source": [
    "class Results:\n",
    "    volume, cost = [], []"
   ]
  },
  {
   "cell_type": "code",
   "execution_count": 3,
   "id": "d90be174",
   "metadata": {
    "run_control": {
     "marked": true
    },
    "scrolled": true
   },
   "outputs": [],
   "source": [
    "Data.filepath = 'C:/Users/monty.minh/Documents/Optimizer/0. Inputs/Inputs Example.xlsm'\n",
    "Results.save_location = 'C:/Users/monty.minh/Documents/Optimizer/4. Results/Results.xlsx'\n",
    "\n",
    "get_timeframe()\n",
    "\n",
    "for yr in range(Data.timeframe[0], Data.timeframe[1]):\n",
    "    Data.year = yr\n",
    "\n",
    "    preprocess()\n",
    "    optimize()\n",
    "    #unpack_results()"
   ]
  },
  {
   "cell_type": "code",
   "execution_count": 4,
   "id": "aba5074c",
   "metadata": {
    "code_folding": [
     0
    ]
   },
   "outputs": [],
   "source": [
    "from model import *\n",
    "from model.data import Data, Results\n",
    "\n",
    "\n",
    "def postprocess():\n",
    "    \"\"\"\n",
    "    Unpack the program results into a volume vector\n",
    "    and a cost vector.\n",
    "\n",
    "    Input from data.py\n",
    "    ------------------\n",
    "    Data.linear_program: scipy.optimize.optimize.OptimizeResult\n",
    "        Result of the linear program.\n",
    "\n",
    "    Outputs to data.py\n",
    "    ------------------\n",
    "    Results.volume: list\n",
    "        List of customers' volumes by optimization instances\n",
    "    Results.cost: list\n",
    "        List of customers' costs by optimization instances\n",
    "    Results.split: int\n",
    "        Index to split the above vector into inbound / outbound\n",
    "    \"\"\"\n",
    "    # Unpack Volume\n",
    "    Results.volume.append(Data.linear_program[:, np.newaxis])\n",
    "\n",
    "    # Unpack Cost\n",
    "    Results.cost.append(\n",
    "        (Data.linear_program * Data.objective_vector)[:, np.newaxis])\n",
    "\n",
    "    # Collect split index, to remove Data dependencies.\n",
    "    # Next step is to free up all the memory from Data.\n",
    "    Results.split = Data.dimF\n",
    "\n",
    "\n",
    "def save_to_excel():\n",
    "    \"\"\"\n",
    "    Method to save volume and cost data to Excel file\n",
    "\n",
    "    Inputs from data.py\n",
    "    -------------------\n",
    "    Results.save_location: str (filepath)\n",
    "        Path to save output Excel file\n",
    "    Results.volume: list\n",
    "        List of customers' volume by optimization instances\n",
    "    Results.cost: list\n",
    "        List of customers' cost by optimization instances\n",
    "    \"\"\"\n",
    "\n",
    "    def quick_save(df, name): return df.to_excel(\n",
    "        writer, name, index=False, header=True, startrow=0, startcol=0)\n",
    "\n",
    "    # Generate the inbound template\n",
    "    inbound_prefix = pd.DataFrame(data=np.vstack([\n",
    "        np.hstack([Data.factory_names[prod] for prod in Data.product_list]),\n",
    "        np.hstack([[prod for elem in Data.factory_names[prod]]\n",
    "                   for prod in Data.product_list])\n",
    "    ]).T,\n",
    "        columns=['Factory', 'Product'])\n",
    "\n",
    "    # Generate the outbound template\n",
    "    df = pd.read_excel(Data.filepath,\n",
    "                       sheet_name=\"Customer List\")\n",
    "    outbound_prefix = pd.DataFrame(data=np.vstack([\n",
    "        np.repeat(df[df['Sales Product'] == prod][[\n",
    "            'Customer ID', 'Sales Product', 'Province'\n",
    "        ]].to_numpy(),\n",
    "            repeats=Data.factory_sizes[prod],\n",
    "            axis=0) for prod in Data.product_list\n",
    "    ]),\n",
    "        columns=['ID', 'Product', 'Province'])\n",
    "    \n",
    "    outbound_prefix['Factory'] = np.hstack([\n",
    "        Data.factory_names[prod] * Data.customer_sizes[prod]\n",
    "        for prod in Data.product_list\n",
    "    ])\n",
    "\n",
    "    # Calculate the list of years\n",
    "    Results.years = np.arange(Data.timeframe[0], Data.timeframe[1]+1)\n",
    "\n",
    "    with pd.ExcelWriter(Results.save_location) as writer:\n",
    "\n",
    "        # Inbound Cost\n",
    "        df = inbound_prefix.copy()\n",
    "        df[Results.years] = np.hstack(\n",
    "            Results.cost)[:Results.split]\n",
    "        df = df[df[Results.years].sum(axis=1) != 0]\n",
    "        quick_save(df, 'Inbound Cost Per Factory')\n",
    "        \n",
    "        # Outbound Cost\n",
    "        df = outbound_prefix.copy()\n",
    "        # Concatenate with the volume per year\n",
    "        df[Results.years] = np.hstack(\n",
    "            Results.cost)[Results.split:]\n",
    "        # Remove all zeros rows\n",
    "        df = df[df[Results.years].sum(axis=1) != 0]\n",
    "        quick_save(df, 'Outbound Cost Per Customer')\n",
    "        \n",
    "        # Inbound Volume\n",
    "        df = inbound_prefix.copy()\n",
    "        df[Results.years] = np.hstack(\n",
    "            Results.volume)[:Results.split]\n",
    "        df = df[df[Results.years].sum(axis=1) != 0]\n",
    "        quick_save(df, 'Inbound Volume Per Factory')\n",
    "\n",
    "        # Outbound Volume\n",
    "        df = outbound_prefix.copy()\n",
    "        # Concatenate with the volume per year\n",
    "        df[Results.years] = np.hstack(\n",
    "            Results.volume)[Results.split:]\n",
    "        # Remove all zeros rows\n",
    "        df = df[df[Results.years].sum(axis=1) != 0]\n",
    "        quick_save(df, 'Outbound Volume Per Customer')\n",
    "\n",
    "\n",
    "def free_memory():\n",
    "    \"\"\"Free memory by deleting some Data attributes\"\"\"\n",
    "\n",
    "    # Free up memory\n",
    "    keep = [\"filepath\", \"factory_sizes\", \n",
    "            \"customer_sizes\", \"factory_names\", \n",
    "            \"product_list\", \"timeframe\"]\n",
    "    _ = [\n",
    "        delattr(Data, attr) for attr in dir(Data)\n",
    "        if (attr[:2] != '__') and (attr not in keep)\n",
    "    ]\n",
    "    del _\n",
    "    gc.collect()\n"
   ]
  },
  {
   "cell_type": "code",
   "execution_count": 5,
   "id": "368f637b",
   "metadata": {},
   "outputs": [],
   "source": [
    "postprocess()"
   ]
  },
  {
   "cell_type": "code",
   "execution_count": 6,
   "id": "5f3c9dd6",
   "metadata": {},
   "outputs": [],
   "source": [
    "Results.years = [2022]"
   ]
  },
  {
   "cell_type": "code",
   "execution_count": 7,
   "id": "ae4d8b44",
   "metadata": {},
   "outputs": [],
   "source": [
    "# Generate the inbound template\n",
    "inbound_prefix = pd.DataFrame(data=np.vstack([\n",
    "    np.hstack([Data.factory_names[prod] for prod in Data.product_list]),\n",
    "    np.hstack([[prod for elem in Data.factory_names[prod]]\n",
    "               for prod in Data.product_list])\n",
    "]).T,\n",
    "    columns=['Factory', 'Product'])"
   ]
  },
  {
   "cell_type": "code",
   "execution_count": 8,
   "id": "6d00b6ba",
   "metadata": {},
   "outputs": [],
   "source": [
    "df = inbound_prefix.copy()\n",
    "df[Results.years] = np.hstack(\n",
    "    Results.volume)[:Results.split]\n",
    "#df = df[df[Results.years].sum(axis=1) != 0]"
   ]
  },
  {
   "cell_type": "code",
   "execution_count": 38,
   "id": "2b2c85e1",
   "metadata": {},
   "outputs": [],
   "source": [
    "# Generate the outbound template\n",
    "df = pd.read_excel(Data.filepath,\n",
    "                   sheet_name=\"Customer List\")\n",
    "\n",
    "outbound_prefix = pd.DataFrame(data=np.vstack([\n",
    "    np.repeat(df[df['Sales Product'] == prod][[\n",
    "        'Customer ID', 'Sales Product', 'Province'\n",
    "    ]].to_numpy(),\n",
    "        repeats=Data.factory_sizes[prod],\n",
    "        axis=0) for prod in Data.product_list\n",
    "]),\n",
    "    columns=['ID', 'Product', 'Province'])\n",
    "\n",
    "outbound_prefix['Factory'] = np.hstack([\n",
    "    Data.factory_names[prod] * Data.customer_sizes[prod]\n",
    "    for prod in Data.product_list\n",
    "])\n",
    "\n",
    "outbound_prefix = outbound_prefix.sort_values(['Product', 'Factory'])"
   ]
  },
  {
   "cell_type": "code",
   "execution_count": 39,
   "id": "8f411113",
   "metadata": {},
   "outputs": [],
   "source": [
    "df = outbound_prefix.copy()\n",
    "# Concatenate with the volume per year\n",
    "df[Results.years] = np.hstack(\n",
    "    Results.volume)[Results.split:]\n",
    "# Remove all zeros rows\n",
    "#df = df[df[Results.years].sum(axis=1) != 0]"
   ]
  },
  {
   "cell_type": "code",
   "execution_count": 15,
   "id": "1397557f",
   "metadata": {},
   "outputs": [
    {
     "data": {
      "text/plain": [
       "array([ 50.,  40.,  30., 100.,  30.,  40.,  60.,  90.,  60.,  70.])"
      ]
     },
     "execution_count": 15,
     "metadata": {},
     "output_type": "execute_result"
    }
   ],
   "source": [
    "Data.objective_vector"
   ]
  },
  {
   "cell_type": "code",
   "execution_count": 40,
   "id": "add2a63c",
   "metadata": {},
   "outputs": [
    {
     "data": {
      "text/html": [
       "<div>\n",
       "<style scoped>\n",
       "    .dataframe tbody tr th:only-of-type {\n",
       "        vertical-align: middle;\n",
       "    }\n",
       "\n",
       "    .dataframe tbody tr th {\n",
       "        vertical-align: top;\n",
       "    }\n",
       "\n",
       "    .dataframe thead th {\n",
       "        text-align: right;\n",
       "    }\n",
       "</style>\n",
       "<table border=\"1\" class=\"dataframe\">\n",
       "  <thead>\n",
       "    <tr style=\"text-align: right;\">\n",
       "      <th></th>\n",
       "      <th>Factory</th>\n",
       "      <th>Product</th>\n",
       "    </tr>\n",
       "  </thead>\n",
       "  <tbody>\n",
       "    <tr>\n",
       "      <th>0</th>\n",
       "      <td>Binh Dinh</td>\n",
       "      <td>Bag</td>\n",
       "    </tr>\n",
       "    <tr>\n",
       "      <th>1</th>\n",
       "      <td>Hai Phong</td>\n",
       "      <td>Bag</td>\n",
       "    </tr>\n",
       "    <tr>\n",
       "      <th>2</th>\n",
       "      <td>Binh Dinh</td>\n",
       "      <td>Bulk</td>\n",
       "    </tr>\n",
       "  </tbody>\n",
       "</table>\n",
       "</div>"
      ],
      "text/plain": [
       "     Factory Product\n",
       "0  Binh Dinh     Bag\n",
       "1  Hai Phong     Bag\n",
       "2  Binh Dinh    Bulk"
      ]
     },
     "execution_count": 40,
     "metadata": {},
     "output_type": "execute_result"
    }
   ],
   "source": [
    "inbound_prefix"
   ]
  },
  {
   "cell_type": "code",
   "execution_count": 28,
   "id": "55095a9a",
   "metadata": {
    "scrolled": true
   },
   "outputs": [
    {
     "data": {
      "text/latex": [
       "$\\displaystyle \\left[\\begin{array}{ccccccccccc}50.0 & 40.0 & 30.0 & 100.0 & 30.0 & 40.0 & 60.0 & 90.0 & 60.0 & 70.0 & 0\\\\0 & 0 & 0 & -1.0 & 0 & -1.0 & 0 & 0 & 0 & 0 & -10.0\\\\0 & 0 & 0 & 0 & -1.0 & 0 & -1.0 & 0 & 0 & 0 & -20.0\\\\0 & 0 & 0 & 0 & 0 & 0 & 0 & -1.0 & 0 & 0 & -10.0\\\\0 & 0 & 0 & 0 & 0 & 0 & 0 & 0 & -1.0 & 0 & -20.0\\\\0 & 0 & 0 & 0 & 0 & 0 & 0 & 0 & 0 & -1.0 & -15.0\\\\0 & 0 & 0 & 1.0 & 1.0 & 0 & 0 & 1.0 & 1.0 & 1.0 & 150.0\\\\0 & 0 & 0 & 0 & 0 & 1.0 & 1.0 & 0 & 0 & 0 & 20.0\\\\0 & 0 & 0 & 0 & 0 & 0 & 0 & 1.0 & 1.0 & 1.0 & 120.0\\\\-1.0 & 0 & -1.0 & 1.0 & 1.0 & 0 & 0 & 1.0 & 1.0 & 1.0 & 0\\\\0 & -1.0 & 0 & 0 & 0 & 1.0 & 1.0 & 0 & 0 & 0 & 0\\\\0 & 10.0 & 65.0 & 0 & 20.0 & 10.0 & 0 & 10.0 & 20.0 & 15.0 & 13950.0\\end{array}\\right]$"
      ],
      "text/plain": [
       "Matrix([\n",
       "[50.0, 40.0, 30.0, 100.0, 30.0, 40.0, 60.0, 90.0, 60.0, 70.0,       0],\n",
       "[   0,    0,    0,  -1.0,    0, -1.0,    0,    0,    0,    0,   -10.0],\n",
       "[   0,    0,    0,     0, -1.0,    0, -1.0,    0,    0,    0,   -20.0],\n",
       "[   0,    0,    0,     0,    0,    0,    0, -1.0,    0,    0,   -10.0],\n",
       "[   0,    0,    0,     0,    0,    0,    0,    0, -1.0,    0,   -20.0],\n",
       "[   0,    0,    0,     0,    0,    0,    0,    0,    0, -1.0,   -15.0],\n",
       "[   0,    0,    0,   1.0,  1.0,    0,    0,  1.0,  1.0,  1.0,   150.0],\n",
       "[   0,    0,    0,     0,    0,  1.0,  1.0,    0,    0,    0,    20.0],\n",
       "[   0,    0,    0,     0,    0,    0,    0,  1.0,  1.0,  1.0,   120.0],\n",
       "[-1.0,    0, -1.0,   1.0,  1.0,    0,    0,  1.0,  1.0,  1.0,       0],\n",
       "[   0, -1.0,    0,     0,    0,  1.0,  1.0,    0,    0,    0,       0],\n",
       "[   0, 10.0, 65.0,     0, 20.0, 10.0,    0, 10.0, 20.0, 15.0, 13950.0]])"
      ]
     },
     "execution_count": 28,
     "metadata": {},
     "output_type": "execute_result"
    }
   ],
   "source": [
    "Matrix(\n",
    "    np.vstack([\n",
    "        np.hstack([Data.objective_vector, np.zeros(1)]),\n",
    "        np.hstack([Data.constraints_matrix, Data.constraints_vector]),\n",
    "        np.hstack([Data.linear_program, np.dot(Data.constraints_vector.T, \n",
    "                                               Data.objective_vector)])\n",
    "    ])\n",
    ")"
   ]
  },
  {
   "cell_type": "code",
   "execution_count": 250,
   "id": "5f46c0fd",
   "metadata": {},
   "outputs": [],
   "source": [
    "Results.years = np.arange(2021, 2021+ len(Results.cost))"
   ]
  },
  {
   "cell_type": "code",
   "execution_count": 1,
   "id": "ff3bde15",
   "metadata": {},
   "outputs": [
    {
     "ename": "NameError",
     "evalue": "name 'pd' is not defined",
     "output_type": "error",
     "traceback": [
      "\u001b[1;31m---------------------------------------------------------------------------\u001b[0m",
      "\u001b[1;31mNameError\u001b[0m                                 Traceback (most recent call last)",
      "\u001b[1;32mC:\\Users\\MONTY~1.MIN\\AppData\\Local\\Temp/ipykernel_12532/1524899306.py\u001b[0m in \u001b[0;36m<module>\u001b[1;34m\u001b[0m\n\u001b[1;32m----> 1\u001b[1;33m outbound_prefix = pd.DataFrame(data = np.vstack([\n\u001b[0m\u001b[0;32m      2\u001b[0m     np.repeat(df[df['Sales Product'] == prod][['Customer ID', 'Sales Product','Province']].to_numpy(),\n\u001b[0;32m      3\u001b[0m           \u001b[0mrepeats\u001b[0m\u001b[1;33m=\u001b[0m\u001b[0mData\u001b[0m\u001b[1;33m.\u001b[0m\u001b[0mfactory_sizes\u001b[0m\u001b[1;33m[\u001b[0m\u001b[0mprod\u001b[0m\u001b[1;33m]\u001b[0m\u001b[1;33m,\u001b[0m \u001b[0maxis\u001b[0m \u001b[1;33m=\u001b[0m \u001b[1;36m0\u001b[0m\u001b[1;33m\u001b[0m\u001b[1;33m\u001b[0m\u001b[0m\n\u001b[0;32m      4\u001b[0m              ) for prod in Data.product_list]), \n\u001b[0;32m      5\u001b[0m              \u001b[0mcolumns\u001b[0m \u001b[1;33m=\u001b[0m \u001b[1;33m[\u001b[0m\u001b[1;34m'ID'\u001b[0m\u001b[1;33m,\u001b[0m \u001b[1;34m'Product'\u001b[0m\u001b[1;33m,\u001b[0m \u001b[1;34m'Province'\u001b[0m\u001b[1;33m]\u001b[0m\u001b[1;33m\u001b[0m\u001b[1;33m\u001b[0m\u001b[0m\n",
      "\u001b[1;31mNameError\u001b[0m: name 'pd' is not defined"
     ]
    }
   ],
   "source": [
    "outbound_prefix = pd.DataFrame(data = np.vstack([\n",
    "    np.repeat(df[df['Sales Product'] == prod][['Customer ID', 'Sales Product','Province']].to_numpy(),\n",
    "          repeats=Data.factory_sizes[prod], axis = 0\n",
    "             ) for prod in Data.product_list]), \n",
    "             columns = ['ID', 'Product', 'Province']\n",
    "            )\n",
    "\n",
    "outbound_prefix['Factory'] = np.hstack([\n",
    "    Data.factory_names[prod] * Data.customer_sizes[prod]\n",
    "    for prod in Data.product_list\n",
    "])\n",
    "\n",
    "df = outbound_prefix.copy()\n",
    "df[Results.years] = np.hstack(Results.volume)[Results.split:]\n",
    "\n",
    "df = outbound_prefix.copy()\n",
    "df[Results.years] = np.hstack(Results.cost)[Results.split:]"
   ]
  },
  {
   "cell_type": "code",
   "execution_count": null,
   "id": "aa13773a",
   "metadata": {},
   "outputs": [],
   "source": []
  }
 ],
 "metadata": {
  "kernelspec": {
   "display_name": "Python 3 (ipykernel)",
   "language": "python",
   "name": "python3"
  },
  "language_info": {
   "codemirror_mode": {
    "name": "ipython",
    "version": 3
   },
   "file_extension": ".py",
   "mimetype": "text/x-python",
   "name": "python",
   "nbconvert_exporter": "python",
   "pygments_lexer": "ipython3",
   "version": "3.9.7"
  },
  "latex_envs": {
   "LaTeX_envs_menu_present": true,
   "autoclose": true,
   "autocomplete": true,
   "bibliofile": "biblio.bib",
   "cite_by": "apalike",
   "current_citInitial": 1,
   "eqLabelWithNumbers": true,
   "eqNumInitial": 1,
   "hotkeys": {
    "equation": "Ctrl-E",
    "itemize": "Ctrl-I"
   },
   "labels_anchors": false,
   "latex_user_defs": false,
   "report_style_numbering": false,
   "user_envs_cfg": false
  }
 },
 "nbformat": 4,
 "nbformat_minor": 5
}
