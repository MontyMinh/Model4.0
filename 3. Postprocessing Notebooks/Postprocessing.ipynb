{
 "cells": [
  {
   "cell_type": "code",
   "execution_count": 4,
   "id": "6eb867e3",
   "metadata": {},
   "outputs": [],
   "source": [
    "import sys\n",
    "sys.path.append('C:\\\\Users\\\\monty.minh\\\\Documents\\\\Optimizer\\\\')\n",
    "\n",
    "from sympy import Matrix\n",
    "\n",
    "from model.data import *\n",
    "from model.preprocessing import *\n",
    "from model.optimization import *\n",
    "from model.postprocessing import *"
   ]
  },
  {
   "cell_type": "code",
   "execution_count": 22,
   "id": "3cc88029",
   "metadata": {},
   "outputs": [],
   "source": [
    "class Results:\n",
    "    volume, cost = [], []"
   ]
  },
  {
   "cell_type": "code",
   "execution_count": 26,
   "id": "d90be174",
   "metadata": {
    "run_control": {
     "marked": true
    },
    "scrolled": true
   },
   "outputs": [],
   "source": [
    "Data.filepath = 'C:/Users/monty.minh/Documents/Optimizer/0. Inputs/Inputs Example.xlsm'\n",
    "Results.save_location = 'C:/Users/monty.minh/Documents/Optimizer/6. Results/Results.xlsx'\n",
    "\n",
    "get_timeframe()\n",
    "\n",
    "for Data.year in range(Data.timeframe[0], Data.timeframe[1]):\n",
    "    preprocess()\n",
    "    optimize()\n",
    "    postprocess()"
   ]
  },
  {
   "cell_type": "code",
   "execution_count": 2,
   "id": "24b98a9d",
   "metadata": {},
   "outputs": [
    {
     "name": "stderr",
     "output_type": "stream",
     "text": [
      "C:\\Users\\monty.minh\\Anaconda3\\lib\\site-packages\\xlsxwriter\\workbook.py:300: UserWarning: VBA project binary file './vbaProject.bin' not found.\n",
      "  warn(\"VBA project binary file '%s' not found.\" % vba_project)\n"
     ]
    }
   ],
   "source": [
    "import pandas as pd\n",
    "\n",
    "df = pd.DataFrame({'First' : [5, 2, 0, 10, 4], \n",
    "                   'Second' : [9, 8, 21, 3, 8]})\n",
    "\n",
    "writer = pd.ExcelWriter('test.xlsx', engine='xlsxwriter')\n",
    "\n",
    "df.to_excel(writer, sheet_name='Sheet1')\n",
    "\n",
    "workbook  = writer.book\n",
    "workbook.filename = 'test.xlsm'\n",
    "workbook.add_vba_project('./vbaProject.bin')\n",
    "\n",
    "writer.save()"
   ]
  }
 ],
 "metadata": {
  "kernelspec": {
   "display_name": "Python 3 (ipykernel)",
   "language": "python",
   "name": "python3"
  },
  "language_info": {
   "codemirror_mode": {
    "name": "ipython",
    "version": 3
   },
   "file_extension": ".py",
   "mimetype": "text/x-python",
   "name": "python",
   "nbconvert_exporter": "python",
   "pygments_lexer": "ipython3",
   "version": "3.9.7"
  },
  "latex_envs": {
   "LaTeX_envs_menu_present": true,
   "autoclose": true,
   "autocomplete": true,
   "bibliofile": "biblio.bib",
   "cite_by": "apalike",
   "current_citInitial": 1,
   "eqLabelWithNumbers": true,
   "eqNumInitial": 1,
   "hotkeys": {
    "equation": "Ctrl-E",
    "itemize": "Ctrl-I"
   },
   "labels_anchors": false,
   "latex_user_defs": false,
   "report_style_numbering": false,
   "user_envs_cfg": false
  }
 },
 "nbformat": 4,
 "nbformat_minor": 5
}
