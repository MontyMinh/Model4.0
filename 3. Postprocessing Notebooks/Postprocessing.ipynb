{
 "cells": [
  {
   "cell_type": "code",
   "execution_count": 44,
   "id": "6eb867e3",
   "metadata": {},
   "outputs": [],
   "source": [
    "import sys\n",
    "sys.path.append('C:\\\\Users\\\\monty.minh\\\\Documents\\\\Optimizer\\\\')\n",
    "\n",
    "from sympy import Matrix\n",
    "\n",
    "from model.data import *\n",
    "from model.preprocessing import *\n",
    "from model.optimization import *"
   ]
  },
  {
   "cell_type": "code",
   "execution_count": null,
   "id": "9c45fea7",
   "metadata": {},
   "outputs": [],
   "source": []
  },
  {
   "cell_type": "code",
   "execution_count": 45,
   "id": "d90be174",
   "metadata": {
    "run_control": {
     "marked": true
    },
    "scrolled": true
   },
   "outputs": [],
   "source": [
    "Data.filepath = 'C:/Users/monty.minh/Documents/Optimizer/0. Inputs/Inputs Example.xlsm'\n",
    "Results.save_location = 'C:/Users/monty.minh/Documents/Optimizer/4. Results/Results.xlsm'\n",
    "\n",
    "get_timeframe()\n",
    "\n",
    "for yr in range(Data.timeframe[0], Data.timeframe[1]):\n",
    "    Data.year = yr\n",
    "\n",
    "    preprocess()\n",
    "    optimize()\n",
    "    unpack_results()"
   ]
  },
  {
   "cell_type": "code",
   "execution_count": 48,
   "id": "4d551dc0",
   "metadata": {},
   "outputs": [
    {
     "ename": "AttributeError",
     "evalue": "type object 'Results' has no attribute 'save_location'",
     "output_type": "error",
     "traceback": [
      "\u001b[1;31m---------------------------------------------------------------------------\u001b[0m",
      "\u001b[1;31mAttributeError\u001b[0m                            Traceback (most recent call last)",
      "\u001b[1;32mC:\\Users\\MONTY~1.MIN\\AppData\\Local\\Temp/ipykernel_19008/2564400475.py\u001b[0m in \u001b[0;36m<module>\u001b[1;34m\u001b[0m\n\u001b[1;32m----> 1\u001b[1;33m \u001b[0msave_to_excel\u001b[0m\u001b[1;33m(\u001b[0m\u001b[1;33m)\u001b[0m\u001b[1;33m\u001b[0m\u001b[1;33m\u001b[0m\u001b[0m\n\u001b[0m",
      "\u001b[1;32mC:\\Users\\MONTY~1.MIN\\AppData\\Local\\Temp/ipykernel_19008/711586454.py\u001b[0m in \u001b[0;36msave_to_excel\u001b[1;34m()\u001b[0m\n\u001b[0;32m     62\u001b[0m     \u001b[0mResults\u001b[0m\u001b[1;33m.\u001b[0m\u001b[0myears\u001b[0m \u001b[1;33m=\u001b[0m \u001b[0mnp\u001b[0m\u001b[1;33m.\u001b[0m\u001b[0marange\u001b[0m\u001b[1;33m(\u001b[0m\u001b[1;36m2021\u001b[0m\u001b[1;33m,\u001b[0m \u001b[1;36m2021\u001b[0m\u001b[1;33m+\u001b[0m\u001b[0mlen\u001b[0m\u001b[1;33m(\u001b[0m\u001b[0mResults\u001b[0m\u001b[1;33m.\u001b[0m\u001b[0mvolume\u001b[0m\u001b[1;33m)\u001b[0m\u001b[1;33m)\u001b[0m\u001b[1;33m\u001b[0m\u001b[1;33m\u001b[0m\u001b[0m\n\u001b[0;32m     63\u001b[0m \u001b[1;33m\u001b[0m\u001b[0m\n\u001b[1;32m---> 64\u001b[1;33m     \u001b[1;32mwith\u001b[0m \u001b[0mpd\u001b[0m\u001b[1;33m.\u001b[0m\u001b[0mExcelWriter\u001b[0m\u001b[1;33m(\u001b[0m\u001b[0mResults\u001b[0m\u001b[1;33m.\u001b[0m\u001b[0msave_location\u001b[0m\u001b[1;33m)\u001b[0m \u001b[1;32mas\u001b[0m \u001b[0mwriter\u001b[0m\u001b[1;33m:\u001b[0m\u001b[1;33m\u001b[0m\u001b[1;33m\u001b[0m\u001b[0m\n\u001b[0m\u001b[0;32m     65\u001b[0m \u001b[1;33m\u001b[0m\u001b[0m\n\u001b[0;32m     66\u001b[0m         \u001b[1;31m# Inbound Volume\u001b[0m\u001b[1;33m\u001b[0m\u001b[1;33m\u001b[0m\u001b[0m\n",
      "\u001b[1;31mAttributeError\u001b[0m: type object 'Results' has no attribute 'save_location'"
     ]
    }
   ],
   "source": [
    "save_to_excel()"
   ]
  },
  {
   "cell_type": "markdown",
   "id": "9fa19bdd",
   "metadata": {},
   "source": [
    "keep track of all the parameters and delete them after"
   ]
  },
  {
   "cell_type": "code",
   "execution_count": 46,
   "id": "aba5074c",
   "metadata": {
    "code_folding": [
     0
    ]
   },
   "outputs": [],
   "source": [
    "def unpack_results():\n",
    "    \"\"\"\n",
    "    Unpack the program results into a volume vector\n",
    "    and a cost vector.\n",
    "    \n",
    "    Input from data.py\n",
    "    ------------------\n",
    "    Data.linear_program: scipy.optimize.optimize.OptimizeResult\n",
    "        Result of the linear program.\n",
    "    \n",
    "    Outputs to data.py\n",
    "    ------------------\n",
    "    Results.volume: list\n",
    "        List of customers' volumes by optimization instances\n",
    "    Results.cost: list\n",
    "        List of customers' costs by optimization instances\n",
    "    Results.split: int\n",
    "        Index to split the above vector into inbound / outbound\n",
    "    \"\"\"\n",
    "\n",
    "    # Unpack Volume\n",
    "    Results.volume.append(Data.linear_program[:, np.newaxis])\n",
    "\n",
    "    # Unpack Cost\n",
    "    Results.cost.append(\n",
    "        (Data.linear_program * Data.objective_vector)[:, np.newaxis])\n",
    "\n",
    "    # Collect split index, to remove Data dependencies.\n",
    "    # Next step is to free up all the memory from Data.\n",
    "    Results.split = Data.dimF\n",
    "\n",
    "\n",
    "def save_to_excel():\n",
    "    \"\"\"\n",
    "    Method to save volume and cost data to Excel file\n",
    "    \n",
    "    Inputs from data.py\n",
    "    -------------------\n",
    "    Results.save_location: str (filepath)\n",
    "        Path to save output Excel file\n",
    "    Results.volume: list\n",
    "        List of customers' volume by optimization instances\n",
    "    Results.cost: list\n",
    "        List of customers' cost by optimization instances\n",
    "    \"\"\"\n",
    "\n",
    "    quick_save = lambda df, name: df.to_excel(\n",
    "        writer, name, index=False, header=True, startrow=0, startcol=0)\n",
    "\n",
    "    # Generate the outbound template\n",
    "    df = pd.read_excel(Data.filepath,\n",
    "                       sheet_name=\"Customer List\")\n",
    "    outbound_prefix = pd.DataFrame(data=np.vstack([\n",
    "        np.repeat(df[df['Sales Product'] == prod][[\n",
    "            'Customer ID', 'Sales Product', 'Province'\n",
    "        ]].to_numpy(),\n",
    "                  repeats=Data.factory_sizes[prod],\n",
    "                  axis=0) for prod in Data.product_list\n",
    "    ]),\n",
    "                                   columns=['ID', 'Product', 'Province'])\n",
    "    \n",
    "    Results.years = np.arange(2021, 2021+len(Results.volume))\n",
    "\n",
    "    with pd.ExcelWriter(Results.save_location) as writer:\n",
    "\n",
    "        # Inbound Volume\n",
    "        '''quick_save(\n",
    "            np.hstack(Results.volume)[:Results.split],\n",
    "            'Inbound Volume Per Customer')'''\n",
    "\n",
    "        # Outbound Volume\n",
    "        df = outbound_prefix.copy()\n",
    "        # Concatenate with the volume per year\n",
    "        df[Results.years] = np.hstack(\n",
    "            Results.volume)[Results.split:]\n",
    "        # Remove all zeros rows\n",
    "        df = df[df[Results.years].sum(axis = 1) != 0]\n",
    "        quick_save(df, 'Outbound Volume Per Customer')\n",
    "\n",
    "        # Inbound Cost\n",
    "        '''quick_save(\n",
    "            np.hstack(Results.cost)[:Results.split],\n",
    "            'Inbound Cost Per Customer')'''\n",
    "\n",
    "        # Outbound Cost\n",
    "        df = outbound_prefix.copy()\n",
    "        # Concatenate with the volume per year\n",
    "        df[Results.years] = np.hstack(\n",
    "            Results.cost)[Results.split:]\n",
    "        # Remove all zeros rows\n",
    "        df = df[df[Results.years].sum(axis = 1) != 0]\n",
    "        quick_save(df, 'Outbound Cost Per Customer')\n",
    "        \n",
    "        del df\n",
    "\n",
    "\n",
    "def postprocess():\n",
    "    \"\"\"Run postprocess methods\"\"\"\n",
    "\n",
    "    unpack_results()\n",
    "\n",
    "    '''# Free up memory\n",
    "    keep = [\"filepath\", \"factory_sizes\", \"product_list\"]\n",
    "    _ = [\n",
    "        delattr(Data, attr) for attr in dir(Data)\n",
    "        if (attr[:2] != '__') and (attr not in keep)\n",
    "    ]\n",
    "    del _\n",
    "    gc.collect()'''\n",
    "\n",
    "    save_to_excel()"
   ]
  },
  {
   "cell_type": "code",
   "execution_count": 250,
   "id": "5f46c0fd",
   "metadata": {},
   "outputs": [],
   "source": [
    "Results.years = np.arange(2021, 2021+ len(Results.cost))"
   ]
  },
  {
   "cell_type": "code",
   "execution_count": 251,
   "id": "ff3bde15",
   "metadata": {},
   "outputs": [],
   "source": [
    "outbound_prefix = pd.DataFrame(data = np.vstack([\n",
    "    np.repeat(df[df['Sales Product'] == prod][['Customer ID', 'Sales Product','Province']].to_numpy(),\n",
    "          repeats=Data.factory_sizes[prod], axis = 0\n",
    "             ) for prod in Data.product_list]), \n",
    "             columns = ['ID', 'Product', 'Province']\n",
    "            )\n",
    "\n",
    "outbound_prefix['Factory'] = np.hstack([\n",
    "    Data.factory_names[prod] * Data.customer_sizes[prod]\n",
    "    for prod in Data.product_list\n",
    "])\n",
    "\n",
    "df = outbound_prefix.copy()\n",
    "df[Results.years] = np.hstack(Results.volume)[Results.split:]\n",
    "\n",
    "df = outbound_prefix.copy()\n",
    "df[Results.years] = np.hstack(Results.cost)[Results.split:]"
   ]
  }
 ],
 "metadata": {
  "kernelspec": {
   "display_name": "Python 3 (ipykernel)",
   "language": "python",
   "name": "python3"
  },
  "language_info": {
   "codemirror_mode": {
    "name": "ipython",
    "version": 3
   },
   "file_extension": ".py",
   "mimetype": "text/x-python",
   "name": "python",
   "nbconvert_exporter": "python",
   "pygments_lexer": "ipython3",
   "version": "3.9.7"
  },
  "latex_envs": {
   "LaTeX_envs_menu_present": true,
   "autoclose": true,
   "autocomplete": true,
   "bibliofile": "biblio.bib",
   "cite_by": "apalike",
   "current_citInitial": 1,
   "eqLabelWithNumbers": true,
   "eqNumInitial": 1,
   "hotkeys": {
    "equation": "Ctrl-E",
    "itemize": "Ctrl-I"
   },
   "labels_anchors": false,
   "latex_user_defs": false,
   "report_style_numbering": false,
   "user_envs_cfg": false
  }
 },
 "nbformat": 4,
 "nbformat_minor": 5
}
