{
 "cells": [
  {
   "cell_type": "code",
   "execution_count": 159,
   "id": "6eb867e3",
   "metadata": {},
   "outputs": [],
   "source": [
    "import sys\n",
    "sys.path.append('C:\\\\Users\\\\monty.minh\\\\Documents\\\\Optimizer\\\\')\n",
    "\n",
    "from sympy import Matrix\n",
    "\n",
    "from model.preprocessing import *\n",
    "from model.optimization import *"
   ]
  },
  {
   "cell_type": "code",
   "execution_count": 180,
   "id": "d90be174",
   "metadata": {
    "run_control": {
     "marked": true
    },
    "scrolled": true
   },
   "outputs": [],
   "source": [
    "Data.filepath = 'C:\\\\Users\\\\monty.minh\\\\Documents\\\\Optimizer\\\\Preprocessing Notebooks\\\\Inputs Template.xlsm'\n",
    "\n",
    "preprocess()\n",
    "\n",
    "optimize()"
   ]
  },
  {
   "cell_type": "markdown",
   "id": "9fa19bdd",
   "metadata": {},
   "source": [
    "keep track of all the parameters and delete them after"
   ]
  },
  {
   "cell_type": "code",
   "execution_count": 181,
   "id": "2b504032",
   "metadata": {},
   "outputs": [
    {
     "name": "stdout",
     "output_type": "stream",
     "text": [
      "Define a file path to save Excel output file\n"
     ]
    }
   ],
   "source": [
    "print(\"Define a file path to save Excel output file\")\n",
    "\n",
    "\n",
    "class Results:\n",
    "\n",
    "    volume = []\n",
    "    cost = []\n",
    "\n",
    "\n",
    "Results.save_location = 'C:\\\\Users\\\\monty.minh\\\\Documents\\\\Optimizer\\\\Postprocessing Notebooks\\\\Results.xlsx'"
   ]
  },
  {
   "cell_type": "code",
   "execution_count": 156,
   "id": "aba5074c",
   "metadata": {
    "code_folding": [
     0
    ]
   },
   "outputs": [],
   "source": [
    "def unpack_results():\n",
    "    \"\"\"\n",
    "    Unpack the program results into a volume vector\n",
    "    and a cost vector.\n",
    "    \n",
    "    Input from data.py\n",
    "    ------------------\n",
    "    Data.linear_program: scipy.optimize.optimize.OptimizeResult\n",
    "        Result of the linear program.\n",
    "    \n",
    "    Outputs to data.py\n",
    "    ------------------\n",
    "    Results.volume: list\n",
    "        List of customers' volumes by optimization instances\n",
    "    Results.cost: list\n",
    "        List of customers' costs by optimization instances\n",
    "    Results.split: int\n",
    "        Index to split the above vector into inbound / outbound\n",
    "    \"\"\"\n",
    "\n",
    "    # Unpack Volume\n",
    "    Results.volume.append(Data.linear_program[:, np.newaxis])\n",
    "\n",
    "    # Unpack Cost\n",
    "    Results.cost.append(\n",
    "        (Data.linear_program * Data.objective_vector)[:, np.newaxis])\n",
    "\n",
    "    # Collect split index, to remove Data dependencies.\n",
    "    # Next step is to free up all the memory from Data.\n",
    "    Results.split = Data.dimF\n",
    "\n",
    "\n",
    "def save_to_excel():\n",
    "    \"\"\"\n",
    "    Method to save volume and cost data to Excel file\n",
    "    \n",
    "    Inputs from data.py\n",
    "    -------------------\n",
    "    Results.save_location: str (filepath)\n",
    "        Path to save output Excel file\n",
    "    Results.volume: list\n",
    "        List of customers' volume by optimization instances\n",
    "    Results.cost: list\n",
    "        List of customers' cost by optimization instances\n",
    "    \"\"\"\n",
    "\n",
    "    quick_save = lambda df, name: df.to_excel(\n",
    "        writer, name, index=False, header=True, startrow=0, startcol=0)\n",
    "\n",
    "    # Generate the outbound template\n",
    "    df = pd.read_excel(Data.filepath,\n",
    "                       sheet_name=\"Sales Volume & Outbound Cost\")\n",
    "    outbound_prefix = pd.DataFrame(data=np.vstack([\n",
    "        np.repeat(df[df['Sales Product'] == prod][[\n",
    "            'Customer ID', 'Sales Product', 'Province'\n",
    "        ]].to_numpy(),\n",
    "                  repeats=Data.factory_sizes[prod],\n",
    "                  axis=0) for prod in Data.product_list\n",
    "    ]),\n",
    "                                   columns=['ID', 'Product', 'Province'])\n",
    "    \n",
    "    Results.years = np.arange(2021, 2021+len(Results.volume))\n",
    "\n",
    "    with pd.ExcelWriter(Results.save_location) as writer:\n",
    "\n",
    "        # Inbound Volume\n",
    "        '''quick_save(\n",
    "            np.hstack(Results.volume)[:Results.split],\n",
    "            'Inbound Volume Per Customer')'''\n",
    "\n",
    "        # Outbound Volume\n",
    "        df = outbound_prefix.copy()\n",
    "        # Concatenate with the volume per year\n",
    "        df[Results.years] = np.hstack(\n",
    "            Results.volume)[Results.split:]\n",
    "        # Remove all zeros rows\n",
    "        df = df[df[Results.years].sum(axis = 1) != 0]\n",
    "        quick_save(df, 'Outbound Volume Per Customer')\n",
    "\n",
    "        # Inbound Cost\n",
    "        '''quick_save(\n",
    "            np.hstack(Results.cost)[:Results.split],\n",
    "            'Inbound Cost Per Customer')'''\n",
    "\n",
    "        # Outbound Cost\n",
    "        df = outbound_prefix.copy()\n",
    "        # Concatenate with the volume per year\n",
    "        df[Results.years] = np.hstack(\n",
    "            Results.cost)[Results.split:]\n",
    "        # Remove all zeros rows\n",
    "        df = df[df[Results.years].sum(axis = 1) != 0]\n",
    "        quick_save(df, 'Outbound Cost Per Customer')\n",
    "        \n",
    "        del df\n",
    "\n",
    "\n",
    "def postprocess():\n",
    "    \"\"\"Run postprocess methods\"\"\"\n",
    "\n",
    "    unpack_results()\n",
    "\n",
    "    # Free up memory\n",
    "    keep = [\"filepath\", \"factory_sizes\", \"product_list\"]\n",
    "    _ = [\n",
    "        delattr(Data, attr) for attr in dir(Data)\n",
    "        if (attr[:2] != '__') and (attr not in keep)\n",
    "    ]\n",
    "    del _\n",
    "    gc.collect()\n",
    "\n",
    "    save_to_excel()"
   ]
  },
  {
   "cell_type": "code",
   "execution_count": 157,
   "id": "c6733196",
   "metadata": {
    "scrolled": true
   },
   "outputs": [
    {
     "ename": "PermissionError",
     "evalue": "[Errno 13] Permission denied: 'C:\\\\Users\\\\monty.minh\\\\Documents\\\\Optimizer\\\\Postprocessing Notebooks\\\\Results.xlsx'",
     "output_type": "error",
     "traceback": [
      "\u001b[1;31m---------------------------------------------------------------------------\u001b[0m",
      "\u001b[1;31mPermissionError\u001b[0m                           Traceback (most recent call last)",
      "\u001b[1;32mC:\\Users\\MONTY~1.MIN\\AppData\\Local\\Temp/ipykernel_11184/3700008294.py\u001b[0m in \u001b[0;36m<module>\u001b[1;34m\u001b[0m\n\u001b[1;32m----> 1\u001b[1;33m \u001b[0mpostprocess\u001b[0m\u001b[1;33m(\u001b[0m\u001b[1;33m)\u001b[0m\u001b[1;33m\u001b[0m\u001b[1;33m\u001b[0m\u001b[0m\n\u001b[0m",
      "\u001b[1;32mC:\\Users\\MONTY~1.MIN\\AppData\\Local\\Temp/ipykernel_11184/3463661550.py\u001b[0m in \u001b[0;36mpostprocess\u001b[1;34m()\u001b[0m\n\u001b[0;32m     99\u001b[0m     \u001b[0mgc\u001b[0m\u001b[1;33m.\u001b[0m\u001b[0mcollect\u001b[0m\u001b[1;33m(\u001b[0m\u001b[1;33m)\u001b[0m\u001b[1;33m\u001b[0m\u001b[1;33m\u001b[0m\u001b[0m\n\u001b[0;32m    100\u001b[0m \u001b[1;33m\u001b[0m\u001b[0m\n\u001b[1;32m--> 101\u001b[1;33m     \u001b[0msave_to_excel\u001b[0m\u001b[1;33m(\u001b[0m\u001b[1;33m)\u001b[0m\u001b[1;33m\u001b[0m\u001b[1;33m\u001b[0m\u001b[0m\n\u001b[0m",
      "\u001b[1;32mC:\\Users\\MONTY~1.MIN\\AppData\\Local\\Temp/ipykernel_11184/3463661550.py\u001b[0m in \u001b[0;36msave_to_excel\u001b[1;34m()\u001b[0m\n\u001b[0;32m     60\u001b[0m                                    columns=['ID', 'Product', 'Province'])\n\u001b[0;32m     61\u001b[0m \u001b[1;33m\u001b[0m\u001b[0m\n\u001b[1;32m---> 62\u001b[1;33m     \u001b[1;32mwith\u001b[0m \u001b[0mpd\u001b[0m\u001b[1;33m.\u001b[0m\u001b[0mExcelWriter\u001b[0m\u001b[1;33m(\u001b[0m\u001b[0mResults\u001b[0m\u001b[1;33m.\u001b[0m\u001b[0msave_location\u001b[0m\u001b[1;33m)\u001b[0m \u001b[1;32mas\u001b[0m \u001b[0mwriter\u001b[0m\u001b[1;33m:\u001b[0m\u001b[1;33m\u001b[0m\u001b[1;33m\u001b[0m\u001b[0m\n\u001b[0m\u001b[0;32m     63\u001b[0m \u001b[1;33m\u001b[0m\u001b[0m\n\u001b[0;32m     64\u001b[0m         \u001b[1;31m# Inbound Volume\u001b[0m\u001b[1;33m\u001b[0m\u001b[1;33m\u001b[0m\u001b[0m\n",
      "\u001b[1;32m~\\Anaconda3\\lib\\site-packages\\pandas\\io\\excel\\_xlsxwriter.py\u001b[0m in \u001b[0;36m__init__\u001b[1;34m(self, path, engine, date_format, datetime_format, mode, storage_options, if_sheet_exists, engine_kwargs, **kwargs)\u001b[0m\n\u001b[0;32m    189\u001b[0m             \u001b[1;32mraise\u001b[0m \u001b[0mValueError\u001b[0m\u001b[1;33m(\u001b[0m\u001b[1;34m\"Append mode is not supported with xlsxwriter!\"\u001b[0m\u001b[1;33m)\u001b[0m\u001b[1;33m\u001b[0m\u001b[1;33m\u001b[0m\u001b[0m\n\u001b[0;32m    190\u001b[0m \u001b[1;33m\u001b[0m\u001b[0m\n\u001b[1;32m--> 191\u001b[1;33m         super().__init__(\n\u001b[0m\u001b[0;32m    192\u001b[0m             \u001b[0mpath\u001b[0m\u001b[1;33m,\u001b[0m\u001b[1;33m\u001b[0m\u001b[1;33m\u001b[0m\u001b[0m\n\u001b[0;32m    193\u001b[0m             \u001b[0mengine\u001b[0m\u001b[1;33m=\u001b[0m\u001b[0mengine\u001b[0m\u001b[1;33m,\u001b[0m\u001b[1;33m\u001b[0m\u001b[1;33m\u001b[0m\u001b[0m\n",
      "\u001b[1;32m~\\Anaconda3\\lib\\site-packages\\pandas\\io\\excel\\_base.py\u001b[0m in \u001b[0;36m__init__\u001b[1;34m(self, path, engine, date_format, datetime_format, mode, storage_options, if_sheet_exists, engine_kwargs, **kwargs)\u001b[0m\n\u001b[0;32m    923\u001b[0m         \u001b[0mself\u001b[0m\u001b[1;33m.\u001b[0m\u001b[0mhandles\u001b[0m \u001b[1;33m=\u001b[0m \u001b[0mIOHandles\u001b[0m\u001b[1;33m(\u001b[0m\u001b[0mcast\u001b[0m\u001b[1;33m(\u001b[0m\u001b[0mBuffer\u001b[0m\u001b[1;33m,\u001b[0m \u001b[0mpath\u001b[0m\u001b[1;33m)\u001b[0m\u001b[1;33m,\u001b[0m \u001b[0mcompression\u001b[0m\u001b[1;33m=\u001b[0m\u001b[1;33m{\u001b[0m\u001b[1;34m\"copression\"\u001b[0m\u001b[1;33m:\u001b[0m \u001b[1;32mNone\u001b[0m\u001b[1;33m}\u001b[0m\u001b[1;33m)\u001b[0m\u001b[1;33m\u001b[0m\u001b[1;33m\u001b[0m\u001b[0m\n\u001b[0;32m    924\u001b[0m         \u001b[1;32mif\u001b[0m \u001b[1;32mnot\u001b[0m \u001b[0misinstance\u001b[0m\u001b[1;33m(\u001b[0m\u001b[0mpath\u001b[0m\u001b[1;33m,\u001b[0m \u001b[0mExcelWriter\u001b[0m\u001b[1;33m)\u001b[0m\u001b[1;33m:\u001b[0m\u001b[1;33m\u001b[0m\u001b[1;33m\u001b[0m\u001b[0m\n\u001b[1;32m--> 925\u001b[1;33m             self.handles = get_handle(\n\u001b[0m\u001b[0;32m    926\u001b[0m                 \u001b[0mpath\u001b[0m\u001b[1;33m,\u001b[0m \u001b[0mmode\u001b[0m\u001b[1;33m,\u001b[0m \u001b[0mstorage_options\u001b[0m\u001b[1;33m=\u001b[0m\u001b[0mstorage_options\u001b[0m\u001b[1;33m,\u001b[0m \u001b[0mis_text\u001b[0m\u001b[1;33m=\u001b[0m\u001b[1;32mFalse\u001b[0m\u001b[1;33m\u001b[0m\u001b[1;33m\u001b[0m\u001b[0m\n\u001b[0;32m    927\u001b[0m             )\n",
      "\u001b[1;32m~\\Anaconda3\\lib\\site-packages\\pandas\\io\\common.py\u001b[0m in \u001b[0;36mget_handle\u001b[1;34m(path_or_buf, mode, encoding, compression, memory_map, is_text, errors, storage_options)\u001b[0m\n\u001b[0;32m    709\u001b[0m         \u001b[1;32melse\u001b[0m\u001b[1;33m:\u001b[0m\u001b[1;33m\u001b[0m\u001b[1;33m\u001b[0m\u001b[0m\n\u001b[0;32m    710\u001b[0m             \u001b[1;31m# Binary mode\u001b[0m\u001b[1;33m\u001b[0m\u001b[1;33m\u001b[0m\u001b[0m\n\u001b[1;32m--> 711\u001b[1;33m             \u001b[0mhandle\u001b[0m \u001b[1;33m=\u001b[0m \u001b[0mopen\u001b[0m\u001b[1;33m(\u001b[0m\u001b[0mhandle\u001b[0m\u001b[1;33m,\u001b[0m \u001b[0mioargs\u001b[0m\u001b[1;33m.\u001b[0m\u001b[0mmode\u001b[0m\u001b[1;33m)\u001b[0m\u001b[1;33m\u001b[0m\u001b[1;33m\u001b[0m\u001b[0m\n\u001b[0m\u001b[0;32m    712\u001b[0m         \u001b[0mhandles\u001b[0m\u001b[1;33m.\u001b[0m\u001b[0mappend\u001b[0m\u001b[1;33m(\u001b[0m\u001b[0mhandle\u001b[0m\u001b[1;33m)\u001b[0m\u001b[1;33m\u001b[0m\u001b[1;33m\u001b[0m\u001b[0m\n\u001b[0;32m    713\u001b[0m \u001b[1;33m\u001b[0m\u001b[0m\n",
      "\u001b[1;31mPermissionError\u001b[0m: [Errno 13] Permission denied: 'C:\\\\Users\\\\monty.minh\\\\Documents\\\\Optimizer\\\\Postprocessing Notebooks\\\\Results.xlsx'"
     ]
    }
   ],
   "source": [
    "postprocess()"
   ]
  },
  {
   "cell_type": "code",
   "execution_count": 248,
   "id": "d9b7e435",
   "metadata": {},
   "outputs": [],
   "source": [
    "unpack_results()"
   ]
  },
  {
   "cell_type": "code",
   "execution_count": 249,
   "id": "eabb637d",
   "metadata": {
    "scrolled": true
   },
   "outputs": [
    {
     "data": {
      "text/html": [
       "<div>\n",
       "<style scoped>\n",
       "    .dataframe tbody tr th:only-of-type {\n",
       "        vertical-align: middle;\n",
       "    }\n",
       "\n",
       "    .dataframe tbody tr th {\n",
       "        vertical-align: top;\n",
       "    }\n",
       "\n",
       "    .dataframe thead th {\n",
       "        text-align: right;\n",
       "    }\n",
       "</style>\n",
       "<table border=\"1\" class=\"dataframe\">\n",
       "  <thead>\n",
       "    <tr style=\"text-align: right;\">\n",
       "      <th></th>\n",
       "      <th>Customer ID</th>\n",
       "      <th>Province</th>\n",
       "      <th>Sales Product</th>\n",
       "      <th>Sales Volume</th>\n",
       "      <th>Binh Dinh</th>\n",
       "      <th>Hai Phong</th>\n",
       "    </tr>\n",
       "  </thead>\n",
       "  <tbody>\n",
       "    <tr>\n",
       "      <th>0</th>\n",
       "      <td>29HUONGNT(BO)</td>\n",
       "      <td>1</td>\n",
       "      <td>Bag</td>\n",
       "      <td>10</td>\n",
       "      <td>11</td>\n",
       "      <td>6.0</td>\n",
       "    </tr>\n",
       "    <tr>\n",
       "      <th>1</th>\n",
       "      <td>29SONNV</td>\n",
       "      <td>3</td>\n",
       "      <td>Bag</td>\n",
       "      <td>30</td>\n",
       "      <td>7</td>\n",
       "      <td>8.0</td>\n",
       "    </tr>\n",
       "    <tr>\n",
       "      <th>2</th>\n",
       "      <td>29DAIDX</td>\n",
       "      <td>1</td>\n",
       "      <td>Bulk</td>\n",
       "      <td>20</td>\n",
       "      <td>10</td>\n",
       "      <td>NaN</td>\n",
       "    </tr>\n",
       "    <tr>\n",
       "      <th>3</th>\n",
       "      <td>29MAUTVTTT</td>\n",
       "      <td>2</td>\n",
       "      <td>Bulk</td>\n",
       "      <td>50</td>\n",
       "      <td>24</td>\n",
       "      <td>NaN</td>\n",
       "    </tr>\n",
       "    <tr>\n",
       "      <th>4</th>\n",
       "      <td>29NGANNTTTT</td>\n",
       "      <td>2</td>\n",
       "      <td>Bulk</td>\n",
       "      <td>40</td>\n",
       "      <td>26</td>\n",
       "      <td>NaN</td>\n",
       "    </tr>\n",
       "  </tbody>\n",
       "</table>\n",
       "</div>"
      ],
      "text/plain": [
       "     Customer ID  Province Sales Product  Sales Volume  Binh Dinh  Hai Phong\n",
       "0  29HUONGNT(BO)         1           Bag            10         11        6.0\n",
       "1        29SONNV         3           Bag            30          7        8.0\n",
       "2        29DAIDX         1          Bulk            20         10        NaN\n",
       "3     29MAUTVTTT         2          Bulk            50         24        NaN\n",
       "4    29NGANNTTTT         2          Bulk            40         26        NaN"
      ]
     },
     "execution_count": 249,
     "metadata": {},
     "output_type": "execute_result"
    }
   ],
   "source": [
    "df = pd.read_excel(Data.filepath, sheet_name = \"Sales Volume & Outbound Cost\")\n",
    "df"
   ]
  },
  {
   "cell_type": "code",
   "execution_count": 250,
   "id": "5f46c0fd",
   "metadata": {},
   "outputs": [],
   "source": [
    "Results.years = np.arange(2021, 2021+ len(Results.cost))"
   ]
  },
  {
   "cell_type": "code",
   "execution_count": 251,
   "id": "ff3bde15",
   "metadata": {},
   "outputs": [],
   "source": [
    "outbound_prefix = pd.DataFrame(data = np.vstack([\n",
    "    np.repeat(df[df['Sales Product'] == prod][['Customer ID', 'Sales Product','Province']].to_numpy(),\n",
    "          repeats=Data.factory_sizes[prod], axis = 0\n",
    "             ) for prod in Data.product_list]), \n",
    "             columns = ['ID', 'Product', 'Province']\n",
    "            )\n",
    "\n",
    "outbound_prefix['Factory'] = np.hstack([\n",
    "    Data.factory_names[prod] * Data.customer_sizes[prod]\n",
    "    for prod in Data.product_list\n",
    "])\n",
    "\n",
    "df = outbound_prefix.copy()\n",
    "df[Results.years] = np.hstack(Results.volume)[Results.split:]\n",
    "\n",
    "df = outbound_prefix.copy()\n",
    "df[Results.years] = np.hstack(Results.cost)[Results.split:]"
   ]
  }
 ],
 "metadata": {
  "kernelspec": {
   "display_name": "Python 3 (ipykernel)",
   "language": "python",
   "name": "python3"
  },
  "language_info": {
   "codemirror_mode": {
    "name": "ipython",
    "version": 3
   },
   "file_extension": ".py",
   "mimetype": "text/x-python",
   "name": "python",
   "nbconvert_exporter": "python",
   "pygments_lexer": "ipython3",
   "version": "3.9.7"
  },
  "latex_envs": {
   "LaTeX_envs_menu_present": true,
   "autoclose": true,
   "autocomplete": true,
   "bibliofile": "biblio.bib",
   "cite_by": "apalike",
   "current_citInitial": 1,
   "eqLabelWithNumbers": true,
   "eqNumInitial": 1,
   "hotkeys": {
    "equation": "Ctrl-E",
    "itemize": "Ctrl-I"
   },
   "labels_anchors": false,
   "latex_user_defs": false,
   "report_style_numbering": false,
   "user_envs_cfg": false
  }
 },
 "nbformat": 4,
 "nbformat_minor": 5
}
