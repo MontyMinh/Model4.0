{
 "cells": [
  {
   "cell_type": "code",
   "execution_count": 1,
   "id": "85684a45",
   "metadata": {},
   "outputs": [],
   "source": [
    "import sys\n",
    "sys.path.append('C:\\\\Users\\\\monty.minh\\\\Documents\\\\Optimizer\\\\')"
   ]
  },
  {
   "cell_type": "code",
   "execution_count": 2,
   "id": "b6867494",
   "metadata": {},
   "outputs": [
    {
     "name": "stdout",
     "output_type": "stream",
     "text": [
      "Define a file path to the Excel input file\n",
      "Define a file path to save the Excel output file\n",
      "\n",
      "Data.filepath = \n",
      "Results.save_location = \n"
     ]
    }
   ],
   "source": [
    "from model import *\n",
    "from model.data import Data, Results\n",
    "from model.optimization import optimize\n",
    "from model.preprocessing import *"
   ]
  },
  {
   "cell_type": "code",
   "execution_count": 11,
   "id": "57d88076",
   "metadata": {},
   "outputs": [],
   "source": [
    "Data.year = 2023\n",
    "Data.timeframe = [2022, 2023]"
   ]
  },
  {
   "cell_type": "code",
   "execution_count": 12,
   "id": "09e701e8",
   "metadata": {
    "run_control": {
     "marked": true
    }
   },
   "outputs": [],
   "source": [
    "Data.filepath = 'C:/Users/monty.minh/Documents/Optimizer/0. Inputs/Inputs Example.xlsm'\n",
    "Results.save_location = 'C:\\\\Users\\\\monty.minh\\\\Documents\\\\Optimizer\\\\Postprocessing Notebooks\\\\Results.xlsx'"
   ]
  },
  {
   "cell_type": "code",
   "execution_count": 13,
   "id": "80167c09",
   "metadata": {
    "scrolled": true
   },
   "outputs": [],
   "source": [
    "preprocess()"
   ]
  },
  {
   "cell_type": "code",
   "execution_count": 14,
   "id": "6ca04bc5",
   "metadata": {},
   "outputs": [],
   "source": [
    "optimize()"
   ]
  }
 ],
 "metadata": {
  "kernelspec": {
   "display_name": "Python 3 (ipykernel)",
   "language": "python",
   "name": "python3"
  },
  "language_info": {
   "codemirror_mode": {
    "name": "ipython",
    "version": 3
   },
   "file_extension": ".py",
   "mimetype": "text/x-python",
   "name": "python",
   "nbconvert_exporter": "python",
   "pygments_lexer": "ipython3",
   "version": "3.9.7"
  },
  "latex_envs": {
   "LaTeX_envs_menu_present": true,
   "autoclose": true,
   "autocomplete": true,
   "bibliofile": "biblio.bib",
   "cite_by": "apalike",
   "current_citInitial": 1,
   "eqLabelWithNumbers": true,
   "eqNumInitial": 1,
   "hotkeys": {
    "equation": "Ctrl-E",
    "itemize": "Ctrl-I"
   },
   "labels_anchors": false,
   "latex_user_defs": false,
   "report_style_numbering": false,
   "user_envs_cfg": false
  }
 },
 "nbformat": 4,
 "nbformat_minor": 5
}
