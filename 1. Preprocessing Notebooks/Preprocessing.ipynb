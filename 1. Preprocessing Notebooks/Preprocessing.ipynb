{
 "cells": [
  {
   "cell_type": "code",
   "execution_count": 1,
   "id": "85684a45",
   "metadata": {},
   "outputs": [],
   "source": [
    "import sys\n",
    "sys.path.append('C:\\\\Users\\\\monty.minh\\\\Documents\\\\Optimizer\\\\')"
   ]
  },
  {
   "cell_type": "code",
   "execution_count": 4,
   "id": "b6867494",
   "metadata": {},
   "outputs": [],
   "source": [
    "from model import *\n",
    "from model.data import Data, Results"
   ]
  },
  {
   "cell_type": "code",
   "execution_count": 7,
   "id": "09e701e8",
   "metadata": {
    "run_control": {
     "marked": true
    }
   },
   "outputs": [],
   "source": [
    "Data.filepath = 'C:/Users/monty.minh/Documents/Optimizer/0. Inputs/Inputs Example.xlsm'\n",
    "Results.save_location = 'C:\\\\Users\\\\monty.minh\\\\Documents\\\\Optimizer\\\\Postprocessing Notebooks\\\\Results.xlsx'"
   ]
  },
  {
   "cell_type": "code",
   "execution_count": 10,
   "id": "0066ee01",
   "metadata": {
    "code_folding": [],
    "run_control": {
     "marked": false
    }
   },
   "outputs": [],
   "source": [
    "Data.product_list = pd.read_excel(\n",
    "        Data.filepath, sheet_name='Product List')['PRODUCT'].values.tolist()"
   ]
  },
  {
   "cell_type": "code",
   "execution_count": 36,
   "id": "40e48bca",
   "metadata": {},
   "outputs": [],
   "source": [
    "Data.year = 2022"
   ]
  },
  {
   "cell_type": "code",
   "execution_count": 58,
   "id": "1852f669",
   "metadata": {},
   "outputs": [],
   "source": [
    "df = pd.read_excel(Data.filepath,\n",
    "                   sheet_name='Factory Per Product',\n",
    "                   index_col=0)\n",
    "\n",
    "Data.factory_names = {\n",
    "    prod: [fac.strip(str(Data.year) + \" - \") for fac in df.columns[df.loc[prod]] if str(Data.year) in fac]\n",
    "    for prod in Data.product_list\n",
    "}"
   ]
  },
  {
   "cell_type": "code",
   "execution_count": 59,
   "id": "07b59419",
   "metadata": {},
   "outputs": [
    {
     "data": {
      "text/plain": [
       "{'Bag': ['Binh Dinh', 'Hai Phong'], 'Bulk': ['Binh Dinh']}"
      ]
     },
     "execution_count": 59,
     "metadata": {},
     "output_type": "execute_result"
    }
   ],
   "source": [
    "Data.factory_names"
   ]
  },
  {
   "cell_type": "code",
   "execution_count": 47,
   "id": "4cfbdec8",
   "metadata": {},
   "outputs": [],
   "source": [
    "prod = 'Bag'"
   ]
  },
  {
   "cell_type": "code",
   "execution_count": 50,
   "id": "7a007f77",
   "metadata": {},
   "outputs": [
    {
     "data": {
      "text/plain": [
       "['2022 - Binh Dinh', '2022 - Hai Phong']"
      ]
     },
     "execution_count": 50,
     "metadata": {},
     "output_type": "execute_result"
    }
   ],
   "source": []
  },
  {
   "cell_type": "code",
   "execution_count": 38,
   "id": "c8e0bb63",
   "metadata": {},
   "outputs": [
    {
     "data": {
      "text/html": [
       "<div>\n",
       "<style scoped>\n",
       "    .dataframe tbody tr th:only-of-type {\n",
       "        vertical-align: middle;\n",
       "    }\n",
       "\n",
       "    .dataframe tbody tr th {\n",
       "        vertical-align: top;\n",
       "    }\n",
       "\n",
       "    .dataframe thead th {\n",
       "        text-align: right;\n",
       "    }\n",
       "</style>\n",
       "<table border=\"1\" class=\"dataframe\">\n",
       "  <thead>\n",
       "    <tr style=\"text-align: right;\">\n",
       "      <th></th>\n",
       "      <th>2022 - Binh Dinh</th>\n",
       "      <th>2022 - Hai Phong</th>\n",
       "      <th>2023 - Binh Dinh</th>\n",
       "      <th>2023 - Hai Phong</th>\n",
       "    </tr>\n",
       "  </thead>\n",
       "  <tbody>\n",
       "    <tr>\n",
       "      <th>Bag</th>\n",
       "      <td>True</td>\n",
       "      <td>True</td>\n",
       "      <td>True</td>\n",
       "      <td>True</td>\n",
       "    </tr>\n",
       "    <tr>\n",
       "      <th>Bulk</th>\n",
       "      <td>True</td>\n",
       "      <td>False</td>\n",
       "      <td>True</td>\n",
       "      <td>False</td>\n",
       "    </tr>\n",
       "  </tbody>\n",
       "</table>\n",
       "</div>"
      ],
      "text/plain": [
       "      2022 - Binh Dinh  2022 - Hai Phong  2023 - Binh Dinh  2023 - Hai Phong\n",
       "Bag               True              True              True              True\n",
       "Bulk              True             False              True             False"
      ]
     },
     "execution_count": 38,
     "metadata": {},
     "output_type": "execute_result"
    }
   ],
   "source": [
    "df"
   ]
  },
  {
   "cell_type": "code",
   "execution_count": null,
   "id": "c2d46572",
   "metadata": {},
   "outputs": [],
   "source": []
  }
 ],
 "metadata": {
  "kernelspec": {
   "display_name": "Python 3 (ipykernel)",
   "language": "python",
   "name": "python3"
  },
  "language_info": {
   "codemirror_mode": {
    "name": "ipython",
    "version": 3
   },
   "file_extension": ".py",
   "mimetype": "text/x-python",
   "name": "python",
   "nbconvert_exporter": "python",
   "pygments_lexer": "ipython3",
   "version": "3.9.7"
  },
  "latex_envs": {
   "LaTeX_envs_menu_present": true,
   "autoclose": true,
   "autocomplete": true,
   "bibliofile": "biblio.bib",
   "cite_by": "apalike",
   "current_citInitial": 1,
   "eqLabelWithNumbers": true,
   "eqNumInitial": 1,
   "hotkeys": {
    "equation": "Ctrl-E",
    "itemize": "Ctrl-I"
   },
   "labels_anchors": false,
   "latex_user_defs": false,
   "report_style_numbering": false,
   "user_envs_cfg": false
  }
 },
 "nbformat": 4,
 "nbformat_minor": 5
}
