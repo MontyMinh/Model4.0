{
 "cells": [
  {
   "cell_type": "code",
   "execution_count": 1,
   "id": "1c411633",
   "metadata": {},
   "outputs": [],
   "source": [
    "import numpy as np"
   ]
  },
  {
   "cell_type": "markdown",
   "id": "d4822f65",
   "metadata": {},
   "source": [
    "### Generate Constraints Vector"
   ]
  },
  {
   "cell_type": "code",
   "execution_count": 55,
   "id": "7026ed86",
   "metadata": {
    "code_folding": [
     0
    ],
    "run_control": {
     "marked": false
    }
   },
   "outputs": [],
   "source": [
    "def generate_constraints_vector():\n",
    "    \"\"\"\n",
    "    Input from data.py:\n",
    "    -------------------\n",
    "    Data.demand_volume: numpy.ndarray\n",
    "        Vector defining the demand constraints associated with\n",
    "        the demand matrix.\n",
    "        #Dimension: Σ|C| (number of customers across all products)\n",
    "        \n",
    "    Data.capacity_volume: numpy.ndarray\n",
    "        Vector defining the capacity constraints associated with \n",
    "        the capacity matrix\n",
    "        #Dimension: #cap_rows (calculate by taking the union of all \n",
    "        the factories across all products)\n",
    "        \n",
    "    Data.dimC: int\n",
    "        Σ|C| (number of customers across all products)\n",
    "        \n",
    "    Data.capacity_rows: int\n",
    "        Dimension of the capacity part of the constraints vector, \n",
    "        calculate by taking the union of all the factories across \n",
    "        all products.\n",
    "        \n",
    "    Data.supply_rows: int\n",
    "        Dimension of the supply part of the constraints vector, \n",
    "        calculate by taking the union of all the factories across \n",
    "        all products.\n",
    "        \n",
    "    Output to data.py:\n",
    "    ------------------\n",
    "    Data.constraints_vector: numpy.ndarray\n",
    "        Vector associated with the constraints matrix, defining\n",
    "        the constraints for demand, capacity and supply.\n",
    "        #Dimension: Σ|C| + #cap_rows + #sup_rows (number of rows\n",
    "        of the constraints matrix)\n",
    "        \n",
    "    \"\"\"\n",
    "\n",
    "    # Verify inputs type\n",
    "    assert isinstance(\n",
    "        Data.demand_volume,\n",
    "        np.ndarray), 'Demand constraints vector must be a numpy array'\n",
    "\n",
    "    assert isinstance(\n",
    "        Data.capacity_volume,\n",
    "        np.ndarray), 'Capacity constraints vector must be a numpy array'\n",
    "\n",
    "    # Verify inputs dimension\n",
    "    assert np.all(\n",
    "        np.array([Data.dimC, Data.capacity_rows, Data.supply_rows]) > 0\n",
    "    ), 'Dimension of a section of the constraints vector must be positive'\n",
    "\n",
    "    assert Data.demand_volume.shape == (\n",
    "        Data.dimC,\n",
    "        1), 'Dimension of demand constraints vector is incorrect (∑|C|, 1)'\n",
    "\n",
    "    assert Data.capacity_volume.shape == (\n",
    "        Data.capacity_rows, 1\n",
    "    ), 'Dimension of capacity constraints vector is incorrect (#caps_rows, 1)'\n",
    "\n",
    "    # Verify inputs value\n",
    "    assert np.all(Data.demand_volume > 0), 'Demand volume has to be positive'\n",
    "\n",
    "    assert np.all(\n",
    "        Data.capacity_volume > 0), 'Capacity volume has to be positive'\n",
    "\n",
    "    # Stack the subvectors into the full constraints vector\n",
    "    Data.constraints_vector = np.vstack([\n",
    "        Data.demand_volume, Data.capacity_volume,\n",
    "        np.zeros((Data.supply_rows, 1))\n",
    "    ])\n",
    "\n",
    "    # Verify output dimension\n",
    "    assert Data.constraints_vector.shape == (\n",
    "        Data.dimC + Data.capacity_rows + Data.supply_rows,\n",
    "        1), 'Constraints vector is incorrect (Σ|C| + #cap_rows + #sup_rows)'"
   ]
  },
  {
   "cell_type": "markdown",
   "id": "71d7cd7b",
   "metadata": {},
   "source": [
    "### Unit Testing"
   ]
  }
 ],
 "metadata": {
  "kernelspec": {
   "display_name": "Python 3 (ipykernel)",
   "language": "python",
   "name": "python3"
  },
  "language_info": {
   "codemirror_mode": {
    "name": "ipython",
    "version": 3
   },
   "file_extension": ".py",
   "mimetype": "text/x-python",
   "name": "python",
   "nbconvert_exporter": "python",
   "pygments_lexer": "ipython3",
   "version": "3.9.7"
  },
  "latex_envs": {
   "LaTeX_envs_menu_present": true,
   "autoclose": true,
   "autocomplete": true,
   "bibliofile": "biblio.bib",
   "cite_by": "apalike",
   "current_citInitial": 1,
   "eqLabelWithNumbers": true,
   "eqNumInitial": 1,
   "hotkeys": {
    "equation": "Ctrl-E",
    "itemize": "Ctrl-I"
   },
   "labels_anchors": false,
   "latex_user_defs": false,
   "report_style_numbering": false,
   "user_envs_cfg": false
  }
 },
 "nbformat": 4,
 "nbformat_minor": 5
}
