{
 "cells": [
  {
   "cell_type": "code",
   "execution_count": 1,
   "id": "3bc437ba",
   "metadata": {
    "run_control": {
     "marked": false
    },
    "scrolled": true
   },
   "outputs": [
    {
     "name": "stdout",
     "output_type": "stream",
     "text": [
      "Define a file path to the Excel input file\n",
      "Define a file path to save the Excel output file\n",
      "\n",
      "Data.filepath = \n",
      "Results.save_location = \n"
     ]
    }
   ],
   "source": [
    "import sys\n",
    "sys.path.append('C:\\\\Users\\\\monty.minh\\\\Documents\\\\Optimizer\\\\')\n",
    "\n",
    "from sympy import Matrix\n",
    "\n",
    "from model.preprocessing import *\n",
    "from model.optimization import *\n",
    "from model.postprocessing import *"
   ]
  },
  {
   "cell_type": "code",
   "execution_count": 6,
   "id": "987c6eb0",
   "metadata": {},
   "outputs": [
    {
     "data": {
      "text/plain": [
       "1064"
      ]
     },
     "execution_count": 6,
     "metadata": {},
     "output_type": "execute_result"
    }
   ],
   "source": [
    "sys.getsizeof(Data)"
   ]
  },
  {
   "cell_type": "code",
   "execution_count": 2,
   "id": "6cb6d17a",
   "metadata": {
    "run_control": {
     "marked": false
    }
   },
   "outputs": [],
   "source": [
    "Data.filepath = 'C:\\\\Users\\\\monty.minh\\\\Documents\\\\Optimizer\\\\Program Notebooks\\\\Inputs Template.xlsx'\n",
    "Results.save_location = 'C:\\\\Users\\\\monty.minh\\\\Documents\\\\Optimizer\\\\Program Notebooks\\\\Results.xlsx'"
   ]
  },
  {
   "cell_type": "code",
   "execution_count": 3,
   "id": "468a5250",
   "metadata": {
    "run_control": {
     "marked": false
    }
   },
   "outputs": [],
   "source": [
    "# Run\n",
    "preprocess()\n",
    "optimize()\n",
    "postprocess()"
   ]
  }
 ],
 "metadata": {
  "kernelspec": {
   "display_name": "Python 3 (ipykernel)",
   "language": "python",
   "name": "python3"
  },
  "language_info": {
   "codemirror_mode": {
    "name": "ipython",
    "version": 3
   },
   "file_extension": ".py",
   "mimetype": "text/x-python",
   "name": "python",
   "nbconvert_exporter": "python",
   "pygments_lexer": "ipython3",
   "version": "3.9.7"
  },
  "latex_envs": {
   "LaTeX_envs_menu_present": true,
   "autoclose": true,
   "autocomplete": true,
   "bibliofile": "biblio.bib",
   "cite_by": "apalike",
   "current_citInitial": 1,
   "eqLabelWithNumbers": true,
   "eqNumInitial": 1,
   "hotkeys": {
    "equation": "Ctrl-E",
    "itemize": "Ctrl-I"
   },
   "labels_anchors": false,
   "latex_user_defs": false,
   "report_style_numbering": false,
   "user_envs_cfg": false
  }
 },
 "nbformat": 4,
 "nbformat_minor": 5
}
